{
 "cells": [
  {
   "cell_type": "markdown",
   "id": "38205b8c-8684-478c-bb62-c95770ebe894",
   "metadata": {},
   "source": [
    "# Loops"
   ]
  },
  {
   "cell_type": "markdown",
   "id": "e24ffd7f-8b31-4957-aabf-a67c848cf853",
   "metadata": {},
   "source": [
    "### 5.1 For Loop"
   ]
  },
  {
   "cell_type": "markdown",
   "id": "e0a58ada-1649-42fa-b76c-38db734bd538",
   "metadata": {},
   "source": [
    "for <var> in <iterable>:\n",
    "    <Statements>\n",
    "\n",
    "iterable => sequence -> string, list, tuple, set, dictionary, generator object\n",
    "The number of times the loop executes depends on the number of items in the iterable"
   ]
  },
  {
   "cell_type": "code",
   "execution_count": 2,
   "id": "60c833cf-69f0-4cb0-ad20-0299f311dddf",
   "metadata": {},
   "outputs": [
    {
     "name": "stdout",
     "output_type": "stream",
     "text": [
      "P Y T H O N "
     ]
    }
   ],
   "source": [
    "for ch in \"python\":\n",
    "    print(ch.upper(), end=' ')"
   ]
  },
  {
   "cell_type": "code",
   "execution_count": 3,
   "id": "57de55a8-9ec4-40dc-a372-b3648db48d7a",
   "metadata": {},
   "outputs": [
    {
     "data": {
      "text/plain": [
       "[1, 2, 3, 4]"
      ]
     },
     "execution_count": 3,
     "metadata": {},
     "output_type": "execute_result"
    }
   ],
   "source": [
    "L = [1, 2, 3, 4]\n",
    "L"
   ]
  },
  {
   "cell_type": "code",
   "execution_count": 4,
   "id": "37d2b4a5-ceed-4810-acd0-51b1a1de2445",
   "metadata": {},
   "outputs": [
    {
     "data": {
      "text/plain": [
       "list"
      ]
     },
     "execution_count": 4,
     "metadata": {},
     "output_type": "execute_result"
    }
   ],
   "source": [
    "type(L)"
   ]
  },
  {
   "cell_type": "code",
   "execution_count": 5,
   "id": "a4983b1c-f5f7-4fd2-a73e-151af04cd977",
   "metadata": {},
   "outputs": [
    {
     "name": "stdout",
     "output_type": "stream",
     "text": [
      "1 4 9 16 "
     ]
    }
   ],
   "source": [
    "for i in L:\n",
    "    print(i ** 2, end=' ')"
   ]
  },
  {
   "cell_type": "markdown",
   "id": "e89db7b7-8b35-4fc7-9ed3-6bde6af3abb1",
   "metadata": {},
   "source": [
    "#### 5.1.1 the range()"
   ]
  },
  {
   "cell_type": "code",
   "execution_count": 7,
   "id": "8e5d8869-f4d8-4908-8ac0-d5162e3c65a9",
   "metadata": {},
   "outputs": [
    {
     "data": {
      "text/plain": [
       "[0, 1, 2, 3, 4, 5, 6, 7, 8, 9]"
      ]
     },
     "execution_count": 7,
     "metadata": {},
     "output_type": "execute_result"
    }
   ],
   "source": [
    "list(range(10))"
   ]
  },
  {
   "cell_type": "code",
   "execution_count": 9,
   "id": "addebee2-1b46-4826-8739-0d031a503fc0",
   "metadata": {},
   "outputs": [
    {
     "data": {
      "text/plain": [
       "[20, 21, 22, 23, 24, 25, 26, 27, 28, 29]"
      ]
     },
     "execution_count": 9,
     "metadata": {},
     "output_type": "execute_result"
    }
   ],
   "source": [
    "list(range(20, 30))"
   ]
  },
  {
   "cell_type": "code",
   "execution_count": 10,
   "id": "35fd67c8-d08d-45e9-8eb7-c1847e9329ed",
   "metadata": {},
   "outputs": [
    {
     "data": {
      "text/plain": [
       "[20, 22, 24, 26, 28, 30, 32, 34, 36, 38]"
      ]
     },
     "execution_count": 10,
     "metadata": {},
     "output_type": "execute_result"
    }
   ],
   "source": [
    "list(range(20, 40, 2))"
   ]
  },
  {
   "cell_type": "code",
   "execution_count": 11,
   "id": "d629253d-f3c9-4ac1-9e00-ac1a6cb7eb2c",
   "metadata": {},
   "outputs": [
    {
     "data": {
      "text/plain": [
       "[10, 9, 8, 7, 6, 5, 4, 3, 2, 1]"
      ]
     },
     "execution_count": 11,
     "metadata": {},
     "output_type": "execute_result"
    }
   ],
   "source": [
    "list(range(10, 0, -1))"
   ]
  },
  {
   "cell_type": "markdown",
   "id": "9831f595-7701-4cdb-af39-7b50cfcdce89",
   "metadata": {},
   "source": [
    "#### 5.1.2 Application: Multiplication Table"
   ]
  },
  {
   "cell_type": "code",
   "execution_count": 12,
   "id": "597b661d-8480-4e80-b4dc-69d59d57498f",
   "metadata": {},
   "outputs": [
    {
     "name": "stdout",
     "output_type": "stream",
     "text": [
      "5 X 1 = 5\n"
     ]
    }
   ],
   "source": [
    "n = 5\n",
    "print(str(n) + ' X ' + str(1) + ' = ' + str(n * 1)) "
   ]
  },
  {
   "cell_type": "code",
   "execution_count": 13,
   "id": "c81be2b8-bec3-41b6-b0b3-7e1a350994c0",
   "metadata": {},
   "outputs": [
    {
     "name": "stdout",
     "output_type": "stream",
     "text": [
      "5 X 1 = 5\n",
      "5 X 2 = 10\n",
      "5 X 3 = 15\n",
      "5 X 4 = 20\n",
      "5 X 5 = 25\n",
      "5 X 6 = 30\n",
      "5 X 7 = 35\n",
      "5 X 8 = 40\n",
      "5 X 9 = 45\n",
      "5 X 10 = 50\n"
     ]
    }
   ],
   "source": [
    "for i in range(1, 11):\n",
    "    print(str(n) + ' X ' + str(i) + ' = ' + str(n * i))"
   ]
  },
  {
   "cell_type": "markdown",
   "id": "e4fa3918-7a26-4904-85bd-d3a882b68fd7",
   "metadata": {},
   "source": [
    "### 5.2 While Loop"
   ]
  },
  {
   "cell_type": "code",
   "execution_count": 14,
   "id": "00985e46-ec13-44e6-8682-724586b31073",
   "metadata": {},
   "outputs": [
    {
     "name": "stdout",
     "output_type": "stream",
     "text": [
      "5 X 1 = 5\n",
      "5 X 2 = 10\n",
      "5 X 3 = 15\n",
      "5 X 4 = 20\n",
      "5 X 5 = 25\n",
      "5 X 6 = 30\n",
      "5 X 7 = 35\n",
      "5 X 8 = 40\n",
      "5 X 9 = 45\n",
      "5 X 10 = 50\n"
     ]
    }
   ],
   "source": [
    "i = 1\n",
    "while i <= 10:\n",
    "    print(str(n) + ' X ' + str(i) + ' = ' + str(n * i))\n",
    "    i += 1"
   ]
  },
  {
   "cell_type": "markdown",
   "id": "f25d0309-ceb0-423f-a251-60bcc8bc8948",
   "metadata": {},
   "source": [
    "##### Note: make sure that termination condition for loop is generated in the while loop"
   ]
  },
  {
   "cell_type": "markdown",
   "id": "268ef310-141b-41cc-bddf-cfd45657ef48",
   "metadata": {},
   "source": [
    "### 5.3 Loop control statements"
   ]
  },
  {
   "cell_type": "code",
   "execution_count": 15,
   "id": "0e36ccea-a850-40e9-82bc-93e222d4da6c",
   "metadata": {},
   "outputs": [
    {
     "name": "stdout",
     "output_type": "stream",
     "text": [
      "5 X 1 = 5\n",
      "5 X 2 = 10\n",
      "5 X 3 = 15\n",
      "5 X 4 = 20\n",
      "5 X 5 = 25\n"
     ]
    }
   ],
   "source": [
    "for i in range(1, 11):\n",
    "    print(str(n) + ' X ' + str(i) + ' = ' + str(n * i))\n",
    "    if(i == 5):\n",
    "        break"
   ]
  },
  {
   "cell_type": "code",
   "execution_count": 16,
   "id": "536bbede-63e0-4c94-bffc-db2252996801",
   "metadata": {},
   "outputs": [
    {
     "name": "stdout",
     "output_type": "stream",
     "text": [
      "5 X 1 = 5\n",
      "5 X 2 = 10\n",
      "5 X 4 = 20\n",
      "5 X 5 = 25\n",
      "5 X 7 = 35\n",
      "5 X 8 = 40\n",
      "5 X 10 = 50\n"
     ]
    }
   ],
   "source": [
    "for i in range(1, 11):\n",
    "    if(i % 3 == 0):\n",
    "        continue\n",
    "    print(str(n) + ' X ' + str(i) + ' = ' + str(n * i))\n",
    "    "
   ]
  },
  {
   "cell_type": "markdown",
   "id": "adfca588-0251-49ce-941d-363d5eba425b",
   "metadata": {},
   "source": [
    "##### Note: continue and break applicable to for and while loop as well"
   ]
  },
  {
   "cell_type": "markdown",
   "id": "a8e82b8e-2166-4962-9226-76d317853183",
   "metadata": {},
   "source": [
    "### 5.4 Loop else block"
   ]
  },
  {
   "cell_type": "code",
   "execution_count": 19,
   "id": "8e830f3e-b68a-4899-94ca-d017c74b5989",
   "metadata": {},
   "outputs": [
    {
     "name": "stdout",
     "output_type": "stream",
     "text": [
      "The charecter 'a' was found\n"
     ]
    }
   ],
   "source": [
    "text = \"mary had a little lamb\"\n",
    "schar = 'a'\n",
    "for ch in text:\n",
    "    if(ch == schar):\n",
    "        print(\"The charecter \\'{}\\' was found\".format(schar))\n",
    "        break\n",
    "else:\n",
    "    print(\"The charecter \\'{}\\' was not found\".format(schar))"
   ]
  },
  {
   "cell_type": "markdown",
   "id": "a76ef013-e717-495e-9d0a-7c9705837c24",
   "metadata": {},
   "source": [
    "##### Note:\n",
    "If the loop completes naturally, then else block is executed once.\n",
    "If the loop terminates because of break, loop else block will not execute"
   ]
  },
  {
   "cell_type": "code",
   "execution_count": 20,
   "id": "7184f1c4-a9c8-478b-91f6-06767e6bdb85",
   "metadata": {},
   "outputs": [
    {
     "name": "stdout",
     "output_type": "stream",
     "text": [
      "The charecter 'z' was not found\n"
     ]
    }
   ],
   "source": [
    "text = \"mary had a little lamb\"\n",
    "schar = 'z'\n",
    "for ch in text:\n",
    "    if(ch == schar):\n",
    "        print(\"The charecter \\'{}\\' was found\".format(schar))\n",
    "        break\n",
    "else:\n",
    "    print(\"The charecter \\'{}\\' was not found\".format(schar))"
   ]
  },
  {
   "cell_type": "markdown",
   "id": "ff95d279-0655-4a2d-802a-8c2937bbf77e",
   "metadata": {},
   "source": [
    "Note:\n",
    "If the same logic wa written otherwise,\n",
    "you would use one variable, one loop and one if..else block\n",
    "This method essentially shortens the length of code"
   ]
  },
  {
   "cell_type": "markdown",
   "id": "3e3b7c45-77ed-4be5-bffb-61d4a97f61d8",
   "metadata": {},
   "source": [
    "##### Loop else block is applicable to both for loop and while loop"
   ]
  },
  {
   "cell_type": "code",
   "execution_count": null,
   "id": "12d3c463-c26c-417a-97f5-c1b106140598",
   "metadata": {},
   "outputs": [],
   "source": []
  }
 ],
 "metadata": {
  "kernelspec": {
   "display_name": "Python 3 (ipykernel)",
   "language": "python",
   "name": "python3"
  },
  "language_info": {
   "codemirror_mode": {
    "name": "ipython",
    "version": 3
   },
   "file_extension": ".py",
   "mimetype": "text/x-python",
   "name": "python",
   "nbconvert_exporter": "python",
   "pygments_lexer": "ipython3",
   "version": "3.11.7"
  }
 },
 "nbformat": 4,
 "nbformat_minor": 5
}
