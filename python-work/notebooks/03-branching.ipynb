{
 "cells": [
  {
   "cell_type": "markdown",
   "id": "e195c730-ba44-4021-9d61-1cc5b5cf9dc4",
   "metadata": {},
   "source": [
    "### Control Structures"
   ]
  },
  {
   "cell_type": "code",
   "execution_count": 8,
   "id": "ebc748b3-1609-4e71-a707-029447b7134b",
   "metadata": {},
   "outputs": [
    {
     "name": "stdin",
     "output_type": "stream",
     "text": [
      "Enter a number:  3\n"
     ]
    }
   ],
   "source": [
    "a = int(input(\"Enter a number: \"))"
   ]
  },
  {
   "cell_type": "code",
   "execution_count": 9,
   "id": "77c414aa-14b0-4b03-ad28-816fa6659003",
   "metadata": {},
   "outputs": [
    {
     "name": "stdout",
     "output_type": "stream",
     "text": [
      "The value of a is lesser than 10\n"
     ]
    }
   ],
   "source": [
    "if a > 20:\n",
    "    print(\"The value of a is greater than 20\")\n",
    "elif 10 <= a <= 20: # a < 10 and a > 20\n",
    "    print(\"The value of a is between 10 and 20\")\n",
    "else:\n",
    "    print(\"The value of a is lesser than 10\")"
   ]
  },
  {
   "cell_type": "code",
   "execution_count": null,
   "id": "57a9e52f-2c8f-415c-aa71-18552bfda8fe",
   "metadata": {},
   "outputs": [],
   "source": []
  }
 ],
 "metadata": {
  "kernelspec": {
   "display_name": "Python 3 (ipykernel)",
   "language": "python",
   "name": "python3"
  },
  "language_info": {
   "codemirror_mode": {
    "name": "ipython",
    "version": 3
   },
   "file_extension": ".py",
   "mimetype": "text/x-python",
   "name": "python",
   "nbconvert_exporter": "python",
   "pygments_lexer": "ipython3",
   "version": "3.11.7"
  }
 },
 "nbformat": 4,
 "nbformat_minor": 5
}
