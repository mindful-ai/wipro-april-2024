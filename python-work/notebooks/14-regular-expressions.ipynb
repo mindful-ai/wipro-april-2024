{
 "cells": [
  {
   "cell_type": "markdown",
   "id": "d8a9f7aa-b357-49cc-8663-89bea578ce0f",
   "metadata": {},
   "source": [
    "# Regular Expressions"
   ]
  },
  {
   "cell_type": "markdown",
   "id": "900edd50-33de-437c-bc9e-ed5fcac0c97f",
   "metadata": {},
   "source": [
    "### 14.1 The re Module"
   ]
  },
  {
   "cell_type": "code",
   "execution_count": 1,
   "id": "058728f1-31af-46f7-8cbc-83c613bd6eab",
   "metadata": {},
   "outputs": [],
   "source": [
    "import re"
   ]
  },
  {
   "cell_type": "code",
   "execution_count": 2,
   "id": "4371d366-0dad-4d01-92e5-37a1941f1374",
   "metadata": {},
   "outputs": [],
   "source": [
    "text = \"This text contains 14.67 floating point -2.34 numbers\""
   ]
  },
  {
   "cell_type": "code",
   "execution_count": 3,
   "id": "404e0478-4c6f-456d-ac35-ea27911692f8",
   "metadata": {},
   "outputs": [],
   "source": [
    "pattern = r\"\\d+\\.?\\d+\""
   ]
  },
  {
   "cell_type": "code",
   "execution_count": 4,
   "id": "695d8d69-3bcc-457f-84a5-c41b92f3f243",
   "metadata": {},
   "outputs": [
    {
     "data": {
      "text/plain": [
       "<re.Match object; span=(19, 24), match='14.67'>"
      ]
     },
     "execution_count": 4,
     "metadata": {},
     "output_type": "execute_result"
    }
   ],
   "source": [
    "re.search(pattern, text)"
   ]
  },
  {
   "cell_type": "code",
   "execution_count": 5,
   "id": "317635e0-2259-4ca0-a5e8-9a53a3e3d04c",
   "metadata": {},
   "outputs": [
    {
     "data": {
      "text/plain": [
       "['14.67', '2.34']"
      ]
     },
     "execution_count": 5,
     "metadata": {},
     "output_type": "execute_result"
    }
   ],
   "source": [
    "re.findall(pattern, text)"
   ]
  },
  {
   "cell_type": "code",
   "execution_count": 6,
   "id": "72ae987b-ada0-47d6-ad62-00c1a1c86816",
   "metadata": {},
   "outputs": [],
   "source": [
    "pattern = r\"[-+]?\\d+\\.?\\d+\""
   ]
  },
  {
   "cell_type": "code",
   "execution_count": 7,
   "id": "93ca66cc-ee1a-40d6-8fb9-62fd3c4ee5ce",
   "metadata": {},
   "outputs": [
    {
     "data": {
      "text/plain": [
       "['14.67', '-2.34']"
      ]
     },
     "execution_count": 7,
     "metadata": {},
     "output_type": "execute_result"
    }
   ],
   "source": [
    "re.findall(pattern, text)"
   ]
  },
  {
   "cell_type": "code",
   "execution_count": 8,
   "id": "4c6c5d3c-59f4-4a58-a488-0cb3ebe29c22",
   "metadata": {},
   "outputs": [
    {
     "data": {
      "text/plain": [
       "<callable_iterator at 0x1799bf2ddb0>"
      ]
     },
     "execution_count": 8,
     "metadata": {},
     "output_type": "execute_result"
    }
   ],
   "source": [
    "re.finditer(pattern, text)"
   ]
  },
  {
   "cell_type": "code",
   "execution_count": 11,
   "id": "05f17a25-5ff7-4450-9d54-06ea5fbb88f1",
   "metadata": {},
   "outputs": [
    {
     "name": "stdout",
     "output_type": "stream",
     "text": [
      "14.67\n",
      "(19, 24)\n",
      "-2.34\n",
      "(40, 45)\n"
     ]
    }
   ],
   "source": [
    "for m in re.finditer(pattern, text):\n",
    "    print(m.group())\n",
    "    print(m.span())"
   ]
  },
  {
   "cell_type": "code",
   "execution_count": 13,
   "id": "a1191e39-0078-4c02-bff5-f087f02a13a6",
   "metadata": {},
   "outputs": [
    {
     "data": {
      "text/plain": [
       "('14.67', '-2.34')"
      ]
     },
     "execution_count": 13,
     "metadata": {},
     "output_type": "execute_result"
    }
   ],
   "source": [
    "text[19:24], text[40:45]"
   ]
  },
  {
   "cell_type": "code",
   "execution_count": 18,
   "id": "ad35f50d-ec3d-42be-950f-c2b7430ccd8a",
   "metadata": {},
   "outputs": [],
   "source": [
    "pattern = r\"(?P<BeforeDot>[-+]?\\d+)\\.?(?P<AfterDot>\\d+)\""
   ]
  },
  {
   "cell_type": "code",
   "execution_count": 21,
   "id": "b155b61e-71c5-4701-b256-1000d6abe143",
   "metadata": {},
   "outputs": [
    {
     "name": "stdout",
     "output_type": "stream",
     "text": [
      "('14', '67')\n",
      "(19, 24) 19 24\n",
      "('-2', '34')\n",
      "(40, 45) 40 45\n"
     ]
    }
   ],
   "source": [
    "for m in re.finditer(pattern, text):\n",
    "    print(m.groups())\n",
    "    print(m.span(), m.start(), m.end())"
   ]
  },
  {
   "cell_type": "code",
   "execution_count": 20,
   "id": "c9447d1a-b13c-464b-97a9-a98867328dfb",
   "metadata": {},
   "outputs": [
    {
     "name": "stdout",
     "output_type": "stream",
     "text": [
      "{'BeforeDot': '14', 'AfterDot': '67'}\n",
      "(19, 24)\n",
      "{'BeforeDot': '-2', 'AfterDot': '34'}\n",
      "(40, 45)\n"
     ]
    }
   ],
   "source": [
    "for m in re.finditer(pattern, text):\n",
    "    print(m.groupdict())\n",
    "    print(m.span())"
   ]
  },
  {
   "cell_type": "code",
   "execution_count": 23,
   "id": "9a20cf16-a5d6-4291-90b0-b556002d0672",
   "metadata": {},
   "outputs": [
    {
     "data": {
      "text/plain": [
       "('This text contains FPN floating point FPN numbers', 2)"
      ]
     },
     "execution_count": 23,
     "metadata": {},
     "output_type": "execute_result"
    }
   ],
   "source": [
    "re.subn(pattern, \"FPN\", text)"
   ]
  },
  {
   "cell_type": "markdown",
   "id": "2346f122-1129-4130-b36b-c754cfb65e1f",
   "metadata": {},
   "source": [
    "### 14.2 Metacharecters"
   ]
  },
  {
   "cell_type": "code",
   "execution_count": 25,
   "id": "2ae14787-e0b8-425f-bc6f-70abcf8d28fd",
   "metadata": {},
   "outputs": [
    {
     "name": "stdout",
     "output_type": "stream",
     "text": [
      "abc matched in 'abc'\n",
      "a6c matched in '123 a6c anc'\n",
      "abc matched in 'abc ab'\n"
     ]
    }
   ],
   "source": [
    "import re\n",
    "data = ['ab ', 'abc', 'a5e', 'a6f', '123 a6c anc', 'a5b', 'a55b', 'a555b', 'a5555b',\n",
    "        'a55555b', 'a555555b', 'a5xb', '1/4', '3+2=5', 'def ghi', 'abc ab']\n",
    "for item in data:\n",
    "\tm = re.search(r'a.c', item)\n",
    "\tif m:\n",
    "\t\tprint (m.group() + ' matched in ' + '\\'' + item + '\\'')"
   ]
  },
  {
   "cell_type": "code",
   "execution_count": 26,
   "id": "f79ddebb-9801-4c3d-9f53-f2709fcc337b",
   "metadata": {},
   "outputs": [
    {
     "name": "stdout",
     "output_type": "stream",
     "text": [
      "abc matched in 'abc'\n",
      "abc matched in 'abc ab'\n"
     ]
    }
   ],
   "source": [
    "import re\n",
    "data = ['ab ', 'abc', 'a5e', 'a6f', '123 a6c anc', 'a5b', 'a55b', 'a555b', 'a5555b',\n",
    "        'a55555b', 'a555555b', 'a5xb', '1/4', '3+2=5', 'def ghi', 'abc ab']\n",
    "for item in data:\n",
    "\tm = re.search(r'a[abc]c', item)\n",
    "\tif m:\n",
    "\t\tprint (m.group() + ' matched in ' + '\\'' + item + '\\'')"
   ]
  },
  {
   "cell_type": "code",
   "execution_count": 27,
   "id": "c551fb63-16b7-4fa6-b6ba-fa97c1e71250",
   "metadata": {},
   "outputs": [
    {
     "name": "stdout",
     "output_type": "stream",
     "text": [
      "a6c matched in '123 a6c anc'\n"
     ]
    }
   ],
   "source": [
    "import re\n",
    "data = ['ab ', 'abc', 'a5e', 'a6f', '123 a6c anc', 'a5b', 'a55b', 'a555b', 'a5555b',\n",
    "        'a55555b', 'a555555b', 'a5xb', '1/4', '3+2=5', 'def ghi', 'abc ab']\n",
    "for item in data:\n",
    "\tm = re.search(r'a[0-9]c', item)\n",
    "\tif m:\n",
    "\t\tprint (m.group() + ' matched in ' + '\\'' + item + '\\'')"
   ]
  },
  {
   "cell_type": "code",
   "execution_count": 29,
   "id": "ee78b56e-2a53-437f-a674-1de93b945b3a",
   "metadata": {},
   "outputs": [
    {
     "name": "stdout",
     "output_type": "stream",
     "text": [
      "3+2 matched in '3+2=5'\n"
     ]
    }
   ],
   "source": [
    "import re\n",
    "data = ['ab ', 'abc', 'a5e', 'a6f', '123 a6c anc', 'a5b', 'a55b', 'a555b', 'a5555b',\n",
    "        'a55555b', 'a555555b', 'a5xb', '1/4', '3+2=5', 'def ghi', 'abc ab']\n",
    "for item in data:\n",
    "\tm = re.search(r'3\\+2', item)\n",
    "\tif m:\n",
    "\t\tprint (m.group() + ' matched in ' + '\\'' + item + '\\'')"
   ]
  },
  {
   "cell_type": "code",
   "execution_count": 30,
   "id": "5af3cea7-bf70-41ad-b8c5-18732bbbb870",
   "metadata": {},
   "outputs": [
    {
     "name": "stdout",
     "output_type": "stream",
     "text": [
      "abc matched in 'abc'\n",
      "a6c matched in '123 a6c anc'\n",
      "3+2 matched in '3+2=5'\n",
      "abc matched in 'abc ab'\n"
     ]
    }
   ],
   "source": [
    "import re\n",
    "data = ['ab ', 'abc', 'a5e', 'a6f', '123 a6c anc', 'a5b', 'a55b', 'a555b', 'a5555b',\n",
    "        'a55555b', 'a555555b', 'a5xb', '1/4', '3+2=5', 'def ghi', 'abc ab']\n",
    "for item in data:\n",
    "\tm = re.search(r'a.c|3\\+2', item)\n",
    "\tif m:\n",
    "\t\tprint (m.group() + ' matched in ' + '\\'' + item + '\\'')"
   ]
  },
  {
   "cell_type": "code",
   "execution_count": 31,
   "id": "6009cb0f-4957-45f5-98c4-166ae586e516",
   "metadata": {},
   "outputs": [
    {
     "name": "stdout",
     "output_type": "stream",
     "text": [
      "a6c matched in '123 a6c anc'\n"
     ]
    }
   ],
   "source": [
    "import re\n",
    "data = ['ab ', 'abc', 'a5e', 'a6f', '123 a6c anc', 'a5b', 'a55b', 'a555b', 'a5555b',\n",
    "        'a55555b', 'a555555b', 'a5xb', '1/4', '3+2=5', 'def ghi', 'abc ab']\n",
    "for item in data:\n",
    "\tm = re.search(r'a\\dc', item)\n",
    "\tif m:\n",
    "\t\tprint (m.group() + ' matched in ' + '\\'' + item + '\\'')"
   ]
  },
  {
   "cell_type": "code",
   "execution_count": 32,
   "id": "10a46249-e813-4dd7-8b55-953bad00691b",
   "metadata": {},
   "outputs": [
    {
     "name": "stdout",
     "output_type": "stream",
     "text": [
      "abc matched in 'abc'\n",
      "a6c matched in '123 a6c anc'\n",
      "abc matched in 'abc ab'\n"
     ]
    }
   ],
   "source": [
    "import re\n",
    "data = ['ab ', 'abc', 'a5e', 'a6f', '123 a6c anc', 'a5b', 'a55b', 'a555b', 'a5555b',\n",
    "        'a55555b', 'a555555b', 'a5xb', '1/4', '3+2=5', 'def ghi', 'abc ab']\n",
    "for item in data:\n",
    "\tm = re.search(r'a\\wc', item)\n",
    "\tif m:\n",
    "\t\tprint (m.group() + ' matched in ' + '\\'' + item + '\\'')"
   ]
  },
  {
   "cell_type": "code",
   "execution_count": 33,
   "id": "a0927900-c22b-4113-a46c-c920a0df1c79",
   "metadata": {},
   "outputs": [
    {
     "name": "stdout",
     "output_type": "stream",
     "text": [
      "abc matched in 'abc'\n",
      "a6c matched in '123 a6c anc'\n",
      "abc matched in 'abc ab'\n"
     ]
    }
   ],
   "source": [
    "import re\n",
    "data = ['ab ', 'abc', 'a5e', 'a6f', '123 a6c anc', 'a5b', 'a55b', 'a555b', 'a5555b',\n",
    "        'a55555b', 'a555555b', 'a5xb', '1/4', '3+2=5', 'def ghi', 'abc ab']\n",
    "for item in data:\n",
    "\tm = re.search(r'a\\Sc', item)\n",
    "\tif m:\n",
    "\t\tprint (m.group() + ' matched in ' + '\\'' + item + '\\'')"
   ]
  },
  {
   "cell_type": "code",
   "execution_count": 34,
   "id": "f372ec34-e280-47e5-8453-74126c908976",
   "metadata": {},
   "outputs": [
    {
     "name": "stdout",
     "output_type": "stream",
     "text": [
      "a6 matched in 'a6f'\n",
      "a6 matched in '123 a6c anc'\n"
     ]
    }
   ],
   "source": [
    "import re\n",
    "data = ['ab ', 'abc', 'a5e', 'a6f', '123 a6c anc', 'a5b', 'a55b', 'a555b', 'a5555b',\n",
    "        'a55555b', 'a555555b', 'a5xb', '1/4', '3+2=5', 'def ghi', 'abc ab']\n",
    "for item in data:\n",
    "\tm = re.search(r'a6', item)\n",
    "\tif m:\n",
    "\t\tprint (m.group() + ' matched in ' + '\\'' + item + '\\'')"
   ]
  },
  {
   "cell_type": "code",
   "execution_count": 35,
   "id": "86499be7-0e78-4e87-8ecf-925eb35f4896",
   "metadata": {},
   "outputs": [
    {
     "name": "stdout",
     "output_type": "stream",
     "text": [
      "a6 matched in 'a6f'\n"
     ]
    }
   ],
   "source": [
    "import re\n",
    "data = ['ab ', 'abc', 'a5e', 'a6f', '123 a6c anc', 'a5b', 'a55b', 'a555b', 'a5555b',\n",
    "        'a55555b', 'a555555b', 'a5xb', '1/4', '3+2=5', 'def ghi', 'abc ab']\n",
    "for item in data:\n",
    "\tm = re.search(r'^a6', item)\n",
    "\tif m:\n",
    "\t\tprint (m.group() + ' matched in ' + '\\'' + item + '\\'')"
   ]
  },
  {
   "cell_type": "code",
   "execution_count": 36,
   "id": "406558ce-f7a7-4c50-9819-7ff5f441950c",
   "metadata": {},
   "outputs": [
    {
     "name": "stdout",
     "output_type": "stream",
     "text": [
      "abc matched in 'abc'\n",
      "a6c matched in '123 a6c anc'\n",
      "abc matched in 'abc ab'\n"
     ]
    }
   ],
   "source": [
    "for item in data:\n",
    "\tm = re.search(r'..c', item)\n",
    "\tif m:\n",
    "\t\tprint (m.group() + ' matched in ' + '\\'' + item + '\\'')"
   ]
  },
  {
   "cell_type": "code",
   "execution_count": 37,
   "id": "f8b25b77-1cde-4ff5-8799-414a2fbf299c",
   "metadata": {},
   "outputs": [
    {
     "name": "stdout",
     "output_type": "stream",
     "text": [
      "abc matched in 'abc'\n",
      "anc matched in '123 a6c anc'\n"
     ]
    }
   ],
   "source": [
    "for item in data:\n",
    "\tm = re.search(r'..c$', item)\n",
    "\tif m:\n",
    "\t\tprint (m.group() + ' matched in ' + '\\'' + item + '\\'')"
   ]
  },
  {
   "cell_type": "code",
   "execution_count": 38,
   "id": "e614712c-4c03-4aba-8181-01f64b8bfc55",
   "metadata": {},
   "outputs": [
    {
     "name": "stdout",
     "output_type": "stream",
     "text": [
      "ab matched in 'ab '\n",
      "ab matched in 'abc ab'\n"
     ]
    }
   ],
   "source": [
    "for item in data:\n",
    "\tm = re.search(r'ab\\b', item)\n",
    "\tif m:\n",
    "\t\tprint (m.group() + ' matched in ' + '\\'' + item + '\\'')"
   ]
  },
  {
   "cell_type": "code",
   "execution_count": 39,
   "id": "fba84526-f24b-4d44-8d1e-096536692140",
   "metadata": {},
   "outputs": [
    {
     "name": "stdout",
     "output_type": "stream",
     "text": [
      "ab matched in 'abc'\n",
      "ab matched in 'abc ab'\n"
     ]
    }
   ],
   "source": [
    "for item in data:\n",
    "\tm = re.search(r'ab\\B', item)\n",
    "\tif m:\n",
    "\t\tprint (m.group() + ' matched in ' + '\\'' + item + '\\'')"
   ]
  },
  {
   "cell_type": "code",
   "execution_count": 40,
   "id": "8de97dc3-b76d-4392-94ec-44c74d3e247e",
   "metadata": {},
   "outputs": [
    {
     "name": "stdout",
     "output_type": "stream",
     "text": [
      "a55b matched in 'a55b'\n",
      "a555b matched in 'a555b'\n",
      "a5555b matched in 'a5555b'\n",
      "a55555b matched in 'a55555b'\n",
      "a555555b matched in 'a555555b'\n"
     ]
    }
   ],
   "source": [
    "for item in data:\n",
    "\tm = re.search(r'a555*b', item)\n",
    "\tif m:\n",
    "\t\tprint (m.group() + ' matched in ' + '\\'' + item + '\\'')"
   ]
  },
  {
   "cell_type": "code",
   "execution_count": 41,
   "id": "79c085d2-6bbd-493c-a249-f1519f56cef8",
   "metadata": {},
   "outputs": [
    {
     "name": "stdout",
     "output_type": "stream",
     "text": [
      "a555b matched in 'a555b'\n",
      "a5555b matched in 'a5555b'\n",
      "a55555b matched in 'a55555b'\n",
      "a555555b matched in 'a555555b'\n"
     ]
    }
   ],
   "source": [
    "for item in data:\n",
    "\tm = re.search(r'a555+b', item)\n",
    "\tif m:\n",
    "\t\tprint (m.group() + ' matched in ' + '\\'' + item + '\\'')"
   ]
  },
  {
   "cell_type": "code",
   "execution_count": 42,
   "id": "a5ca843b-c09a-4171-abac-e0e887fbe7cd",
   "metadata": {},
   "outputs": [
    {
     "name": "stdout",
     "output_type": "stream",
     "text": [
      "ab matched in 'ab '\n",
      "ab matched in 'abc'\n",
      "a5e matched in 'a5e'\n",
      "an matched in '123 a6c anc'\n",
      "a5b matched in 'a5b'\n",
      "a5x matched in 'a5xb'\n",
      "ab matched in 'abc ab'\n"
     ]
    }
   ],
   "source": [
    "for item in data:\n",
    "\tm = re.search(r'a5?\\D', item)\n",
    "\tif m:\n",
    "\t\tprint (m.group() + ' matched in ' + '\\'' + item + '\\'')"
   ]
  },
  {
   "cell_type": "code",
   "execution_count": 43,
   "id": "3d0d694b-92e4-4be4-982d-c26cc3d6b309",
   "metadata": {},
   "outputs": [
    {
     "name": "stdout",
     "output_type": "stream",
     "text": [
      "a555b matched in 'a555b'\n",
      "a5555b matched in 'a5555b'\n",
      "a55555b matched in 'a55555b'\n"
     ]
    }
   ],
   "source": [
    "for item in data:\n",
    "\tm = re.search(r'a55{2,4}\\D', item)\n",
    "\tif m:\n",
    "\t\tprint (m.group() + ' matched in ' + '\\'' + item + '\\'')"
   ]
  },
  {
   "cell_type": "code",
   "execution_count": 44,
   "id": "02ceb21a-bed3-457f-bdbc-3aa2a72dda91",
   "metadata": {},
   "outputs": [
    {
     "name": "stdout",
     "output_type": "stream",
     "text": [
      "a555b matched in 'a555b'\n",
      "a5555b matched in 'a5555b'\n",
      "a55555b matched in 'a55555b'\n",
      "a555555b matched in 'a555555b'\n"
     ]
    }
   ],
   "source": [
    "for item in data:\n",
    "\tm = re.search(r'a55{2,}\\D', item)\n",
    "\tif m:\n",
    "\t\tprint (m.group() + ' matched in ' + '\\'' + item + '\\'')"
   ]
  },
  {
   "cell_type": "code",
   "execution_count": 45,
   "id": "cea69dea-755d-44db-9029-d759701c9a31",
   "metadata": {},
   "outputs": [
    {
     "name": "stdout",
     "output_type": "stream",
     "text": [
      "a5e matched in 'a5e'\n",
      "a5b matched in 'a5b'\n",
      "a55b matched in 'a55b'\n",
      "a555b matched in 'a555b'\n",
      "a5555b matched in 'a5555b'\n",
      "a55555b matched in 'a55555b'\n",
      "a5x matched in 'a5xb'\n"
     ]
    }
   ],
   "source": [
    "for item in data:\n",
    "\tm = re.search(r'a55{,4}\\D', item)\n",
    "\tif m:\n",
    "\t\tprint (m.group() + ' matched in ' + '\\'' + item + '\\'')"
   ]
  },
  {
   "cell_type": "code",
   "execution_count": 46,
   "id": "a25ebf9f-5eb3-43df-b285-ff882d663c5d",
   "metadata": {},
   "outputs": [
    {
     "name": "stdout",
     "output_type": "stream",
     "text": [
      "a55555b matched in 'a55555b'\n"
     ]
    }
   ],
   "source": [
    "for item in data:\n",
    "\tm = re.search(r'a555{3}\\D', item)\n",
    "\tif m:\n",
    "\t\tprint (m.group() + ' matched in ' + '\\'' + item + '\\'')"
   ]
  },
  {
   "cell_type": "markdown",
   "id": "c6e37d6c-950d-431e-8994-87589b1393ab",
   "metadata": {},
   "source": [
    "### 14.3 Exercises"
   ]
  },
  {
   "cell_type": "markdown",
   "id": "021865ab-ff1f-480a-a48a-fbe9e2670789",
   "metadata": {},
   "source": [
    "##### Regular expression to detect a complex number in a block of text"
   ]
  },
  {
   "cell_type": "code",
   "execution_count": 49,
   "id": "c3f248de-8edb-4f05-91f2-ff31d5d74dc8",
   "metadata": {},
   "outputs": [],
   "source": [
    "pattern = r\"[-+]?\\d*\\.?\\d+[-+]\\d*\\.?\\d+j\"\n",
    "text = \"This statement consists of a complex -4.5+5.1j number\""
   ]
  },
  {
   "cell_type": "code",
   "execution_count": 50,
   "id": "755b4b98-17b0-4acc-98aa-8765ab5ecf68",
   "metadata": {},
   "outputs": [
    {
     "data": {
      "text/plain": [
       "<re.Match object; span=(37, 46), match='-4.5+5.1j'>"
      ]
     },
     "execution_count": 50,
     "metadata": {},
     "output_type": "execute_result"
    }
   ],
   "source": [
    "re.search(pattern, text)"
   ]
  },
  {
   "cell_type": "markdown",
   "id": "d27458ba-4055-4903-b292-3ce04924323f",
   "metadata": {},
   "source": [
    "##### Quick Test:"
   ]
  },
  {
   "cell_type": "markdown",
   "id": "21bba717-c646-4b6d-a690-6c2c74224ac7",
   "metadata": {},
   "source": [
    "Write a regular expression to detect if the text has an equation of the form a + b = c"
   ]
  },
  {
   "cell_type": "markdown",
   "id": "32b7bd7f-c0e2-4056-9211-484bd2fede22",
   "metadata": {},
   "source": [
    "##### Quick Test:"
   ]
  },
  {
   "cell_type": "markdown",
   "id": "6f1ba212-b766-4d6b-8840-1b2c3a829c30",
   "metadata": {},
   "source": [
    "Write a regular expression to check if the text has a HTML bold tag \"<b></b>\""
   ]
  },
  {
   "cell_type": "markdown",
   "id": "555b2efb-eda3-430c-8b58-e820cdc17336",
   "metadata": {},
   "source": [
    "##### Quick Test:"
   ]
  },
  {
   "cell_type": "markdown",
   "id": "03509e98-2afd-421a-913d-c11eacbd69fb",
   "metadata": {},
   "source": [
    "Write a regular expressiont to detect if a word is repeated multiple times in a text and if so, \n",
    "replace it with a single occurance.\n",
    "\n",
    "Exmaple:\n",
    "It was a dark dark dark night -> It was a dark night\n"
   ]
  },
  {
   "cell_type": "code",
   "execution_count": null,
   "id": "c7b5e514-419d-4a94-a0f2-5e0bd50ba8d4",
   "metadata": {},
   "outputs": [],
   "source": []
  }
 ],
 "metadata": {
  "kernelspec": {
   "display_name": "Python 3 (ipykernel)",
   "language": "python",
   "name": "python3"
  },
  "language_info": {
   "codemirror_mode": {
    "name": "ipython",
    "version": 3
   },
   "file_extension": ".py",
   "mimetype": "text/x-python",
   "name": "python",
   "nbconvert_exporter": "python",
   "pygments_lexer": "ipython3",
   "version": "3.11.7"
  }
 },
 "nbformat": 4,
 "nbformat_minor": 5
}
