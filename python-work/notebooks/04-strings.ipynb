{
 "cells": [
  {
   "cell_type": "markdown",
   "id": "e5375767-8631-40b9-b10b-fbd2b09a1958",
   "metadata": {},
   "source": [
    "# Strings"
   ]
  },
  {
   "cell_type": "markdown",
   "id": "7ebab625-ed21-45f7-9cfa-3eb94b807606",
   "metadata": {},
   "source": [
    "##### Strings is a sequence of characters, it is immutable."
   ]
  },
  {
   "cell_type": "markdown",
   "id": "e27c9095-eb9e-4baf-a770-03e0cfc4f386",
   "metadata": {},
   "source": [
    "##### Most of the data is in the form of text. Understanding strings is the first step to process such data"
   ]
  },
  {
   "cell_type": "markdown",
   "id": "b6472e45-9a45-4ef2-a01e-d71c2ec901ca",
   "metadata": {},
   "source": [
    "### 4.1 Operators "
   ]
  },
  {
   "cell_type": "code",
   "execution_count": 1,
   "id": "42fa8681-88a6-436d-bba8-3a1beedf8ae8",
   "metadata": {},
   "outputs": [],
   "source": [
    "s1 = \"computer\"\n",
    "s2 = \"mississippi\""
   ]
  },
  {
   "cell_type": "code",
   "execution_count": 2,
   "id": "e8c35e05-22a5-4aab-ac72-fb0ef7642692",
   "metadata": {},
   "outputs": [
    {
     "data": {
      "text/plain": [
       "str"
      ]
     },
     "execution_count": 2,
     "metadata": {},
     "output_type": "execute_result"
    }
   ],
   "source": [
    "type(s1)"
   ]
  },
  {
   "cell_type": "code",
   "execution_count": 3,
   "id": "47a0bd80-8ab3-49fc-9922-1a798b975eb7",
   "metadata": {},
   "outputs": [
    {
     "data": {
      "text/plain": [
       "True"
      ]
     },
     "execution_count": 3,
     "metadata": {},
     "output_type": "execute_result"
    }
   ],
   "source": [
    "type(s1) == str # checking the type"
   ]
  },
  {
   "cell_type": "code",
   "execution_count": 4,
   "id": "13ea158b-5871-4700-b79f-da78b6fdaa92",
   "metadata": {},
   "outputs": [
    {
     "data": {
      "text/plain": [
       "False"
      ]
     },
     "execution_count": 4,
     "metadata": {},
     "output_type": "execute_result"
    }
   ],
   "source": [
    "type(s1) == int"
   ]
  },
  {
   "cell_type": "code",
   "execution_count": 5,
   "id": "491faf83-2fd6-49d1-8622-6174db4acd7c",
   "metadata": {},
   "outputs": [
    {
     "data": {
      "text/plain": [
       "True"
      ]
     },
     "execution_count": 5,
     "metadata": {},
     "output_type": "execute_result"
    }
   ],
   "source": [
    "isinstance(s2, str) # checking the type"
   ]
  },
  {
   "cell_type": "code",
   "execution_count": 6,
   "id": "d4ec9019-a749-4d5f-9070-74ac86f1813f",
   "metadata": {},
   "outputs": [
    {
     "data": {
      "text/plain": [
       "'abcdef'"
      ]
     },
     "execution_count": 6,
     "metadata": {},
     "output_type": "execute_result"
    }
   ],
   "source": [
    "# concatenate string\n",
    "\"abc\" + \"def\""
   ]
  },
  {
   "cell_type": "code",
   "execution_count": 7,
   "id": "09d81721-80b7-4f5d-b2ed-f515be4bd1df",
   "metadata": {},
   "outputs": [
    {
     "data": {
      "text/plain": [
       "'abcabcabc'"
      ]
     },
     "execution_count": 7,
     "metadata": {},
     "output_type": "execute_result"
    }
   ],
   "source": [
    "# replication\n",
    "\"abc\" * 3"
   ]
  },
  {
   "cell_type": "code",
   "execution_count": 8,
   "id": "8e465aae-66c3-45ae-917a-e68ce65f70ce",
   "metadata": {},
   "outputs": [
    {
     "data": {
      "text/plain": [
       "11"
      ]
     },
     "execution_count": 8,
     "metadata": {},
     "output_type": "execute_result"
    }
   ],
   "source": [
    "# length of the string\n",
    "len(s2)"
   ]
  },
  {
   "cell_type": "code",
   "execution_count": 9,
   "id": "b04908eb-2989-45f5-9a59-44f3349cd6ad",
   "metadata": {},
   "outputs": [
    {
     "data": {
      "text/plain": [
       "True"
      ]
     },
     "execution_count": 9,
     "metadata": {},
     "output_type": "execute_result"
    }
   ],
   "source": [
    "# the \"in\" operator\n",
    "\"ss\" in s2"
   ]
  },
  {
   "cell_type": "code",
   "execution_count": 10,
   "id": "76fff027-75fe-4462-a342-c976af0df4df",
   "metadata": {},
   "outputs": [
    {
     "data": {
      "text/plain": [
       "False"
      ]
     },
     "execution_count": 10,
     "metadata": {},
     "output_type": "execute_result"
    }
   ],
   "source": [
    "\"app\" in s2"
   ]
  },
  {
   "cell_type": "code",
   "execution_count": 11,
   "id": "9c217754-e741-4761-979b-343d60b81cbe",
   "metadata": {},
   "outputs": [],
   "source": [
    "# delete the variable\n",
    "del s1\n",
    "del s2"
   ]
  },
  {
   "cell_type": "code",
   "execution_count": 13,
   "id": "b9be75e3-8b66-45e2-a025-e844848a2341",
   "metadata": {},
   "outputs": [
    {
     "ename": "NameError",
     "evalue": "name 's1' is not defined",
     "output_type": "error",
     "traceback": [
      "\u001b[1;31m---------------------------------------------------------------------------\u001b[0m",
      "\u001b[1;31mNameError\u001b[0m                                 Traceback (most recent call last)",
      "Cell \u001b[1;32mIn[13], line 1\u001b[0m\n\u001b[1;32m----> 1\u001b[0m \u001b[38;5;28mprint\u001b[39m(s1, s2)\n",
      "\u001b[1;31mNameError\u001b[0m: name 's1' is not defined"
     ]
    }
   ],
   "source": [
    "print(s1, s2)"
   ]
  },
  {
   "cell_type": "markdown",
   "id": "130b6cb4-3395-4f66-99fe-73ef7c55f984",
   "metadata": {},
   "source": [
    "### 4.2 Sub-scripts"
   ]
  },
  {
   "cell_type": "code",
   "execution_count": 14,
   "id": "08d658e7-4926-4629-b614-54998aaf968e",
   "metadata": {},
   "outputs": [],
   "source": [
    "s = \"computer\""
   ]
  },
  {
   "cell_type": "markdown",
   "id": "71071413-3511-4775-96d7-5392d4b664be",
   "metadata": {},
   "source": [
    "##### What is immutability?"
   ]
  },
  {
   "cell_type": "code",
   "execution_count": 15,
   "id": "3bbaf35b-54b8-442d-8337-68c7828f5656",
   "metadata": {},
   "outputs": [
    {
     "data": {
      "text/plain": [
       "'c'"
      ]
     },
     "execution_count": 15,
     "metadata": {},
     "output_type": "execute_result"
    }
   ],
   "source": [
    "s[0]"
   ]
  },
  {
   "cell_type": "code",
   "execution_count": 16,
   "id": "5c390858-15b8-4974-b781-c417929c932c",
   "metadata": {},
   "outputs": [
    {
     "data": {
      "text/plain": [
       "'t'"
      ]
     },
     "execution_count": 16,
     "metadata": {},
     "output_type": "execute_result"
    }
   ],
   "source": [
    "s[5]"
   ]
  },
  {
   "cell_type": "code",
   "execution_count": 17,
   "id": "1e6b3352-183f-4f54-8919-be5004fdd6ee",
   "metadata": {},
   "outputs": [
    {
     "ename": "TypeError",
     "evalue": "'str' object does not support item assignment",
     "output_type": "error",
     "traceback": [
      "\u001b[1;31m---------------------------------------------------------------------------\u001b[0m",
      "\u001b[1;31mTypeError\u001b[0m                                 Traceback (most recent call last)",
      "Cell \u001b[1;32mIn[17], line 1\u001b[0m\n\u001b[1;32m----> 1\u001b[0m s[\u001b[38;5;241m5\u001b[39m] \u001b[38;5;241m=\u001b[39m \u001b[38;5;124m\"\u001b[39m\u001b[38;5;124ma\u001b[39m\u001b[38;5;124m\"\u001b[39m\n",
      "\u001b[1;31mTypeError\u001b[0m: 'str' object does not support item assignment"
     ]
    }
   ],
   "source": [
    "s[5] = \"a\""
   ]
  },
  {
   "cell_type": "markdown",
   "id": "a947106a-aa25-461a-8dc0-ab6f23859b11",
   "metadata": {},
   "source": [
    "##### You cannot change the sequence of the string in-place"
   ]
  },
  {
   "cell_type": "code",
   "execution_count": 18,
   "id": "ca7fe640-2361-4eed-a81a-ee3b6f446a4c",
   "metadata": {},
   "outputs": [
    {
     "data": {
      "text/plain": [
       "'c'"
      ]
     },
     "execution_count": 18,
     "metadata": {},
     "output_type": "execute_result"
    }
   ],
   "source": [
    "s[0] # index"
   ]
  },
  {
   "cell_type": "code",
   "execution_count": 19,
   "id": "d84589e1-f7d6-4aa2-b40f-598f1654b736",
   "metadata": {},
   "outputs": [
    {
     "data": {
      "text/plain": [
       "'r'"
      ]
     },
     "execution_count": 19,
     "metadata": {},
     "output_type": "execute_result"
    }
   ],
   "source": [
    "s[-1]"
   ]
  },
  {
   "cell_type": "code",
   "execution_count": 20,
   "id": "899da2ce-4c5b-4529-afa7-422c817f1225",
   "metadata": {},
   "outputs": [
    {
     "data": {
      "text/plain": [
       "'e'"
      ]
     },
     "execution_count": 20,
     "metadata": {},
     "output_type": "execute_result"
    }
   ],
   "source": [
    "s[-2]"
   ]
  },
  {
   "cell_type": "code",
   "execution_count": 21,
   "id": "2753e752-37ef-4ab0-be6a-4ac0b09d111e",
   "metadata": {},
   "outputs": [
    {
     "data": {
      "text/plain": [
       "'pute'"
      ]
     },
     "execution_count": 21,
     "metadata": {},
     "output_type": "execute_result"
    }
   ],
   "source": [
    "s[3:7] # start:end -> start, start + 1, start + 2, start + 2... end - 1"
   ]
  },
  {
   "cell_type": "code",
   "execution_count": 22,
   "id": "cbad7292-b52c-48bd-91fd-af003cb46d33",
   "metadata": {},
   "outputs": [
    {
     "data": {
      "text/plain": [
       "'com'"
      ]
     },
     "execution_count": 22,
     "metadata": {},
     "output_type": "execute_result"
    }
   ],
   "source": [
    "s[0:3]"
   ]
  },
  {
   "cell_type": "code",
   "execution_count": 23,
   "id": "732cccb4-ddfd-41c1-bcec-9a43027da068",
   "metadata": {},
   "outputs": [
    {
     "data": {
      "text/plain": [
       "'com'"
      ]
     },
     "execution_count": 23,
     "metadata": {},
     "output_type": "execute_result"
    }
   ],
   "source": [
    "s[:3]"
   ]
  },
  {
   "cell_type": "code",
   "execution_count": 24,
   "id": "d9bc35fc-0e03-4d53-a4ad-148f67039168",
   "metadata": {},
   "outputs": [
    {
     "data": {
      "text/plain": [
       "'ter'"
      ]
     },
     "execution_count": 24,
     "metadata": {},
     "output_type": "execute_result"
    }
   ],
   "source": [
    "s[5:8]"
   ]
  },
  {
   "cell_type": "code",
   "execution_count": 25,
   "id": "cb97007f-fd67-4e76-9367-a3d47bb8a6ab",
   "metadata": {},
   "outputs": [
    {
     "data": {
      "text/plain": [
       "'ter'"
      ]
     },
     "execution_count": 25,
     "metadata": {},
     "output_type": "execute_result"
    }
   ],
   "source": [
    "s[5:]"
   ]
  },
  {
   "cell_type": "code",
   "execution_count": 26,
   "id": "16ced7e9-cd30-46f3-b1a2-59069fcfbf0c",
   "metadata": {},
   "outputs": [
    {
     "data": {
      "text/plain": [
       "'computer'"
      ]
     },
     "execution_count": 26,
     "metadata": {},
     "output_type": "execute_result"
    }
   ],
   "source": [
    "s[:]"
   ]
  },
  {
   "cell_type": "code",
   "execution_count": 27,
   "id": "cf5375b3-e9f8-449b-9860-08c73b2070b7",
   "metadata": {},
   "outputs": [
    {
     "data": {
      "text/plain": [
       "'mpu'"
      ]
     },
     "execution_count": 27,
     "metadata": {},
     "output_type": "execute_result"
    }
   ],
   "source": [
    "s[-6:-3]"
   ]
  },
  {
   "cell_type": "code",
   "execution_count": 28,
   "id": "9219be5f-c3df-4bdb-8709-36ca8d87733d",
   "metadata": {},
   "outputs": [
    {
     "data": {
      "text/plain": [
       "''"
      ]
     },
     "execution_count": 28,
     "metadata": {},
     "output_type": "execute_result"
    }
   ],
   "source": [
    "s[-3:-6] # always keep the indexing (start, end) in the left to right fashion even if you use negative indexes"
   ]
  },
  {
   "cell_type": "code",
   "execution_count": 29,
   "id": "17472299-0a4f-439c-9fed-9ca177bafcf5",
   "metadata": {},
   "outputs": [
    {
     "data": {
      "text/plain": [
       "'opt'"
      ]
     },
     "execution_count": 29,
     "metadata": {},
     "output_type": "execute_result"
    }
   ],
   "source": [
    "s[1:7:2] # start : end : interval   C O M P U T E R - > O M P U T E -> O P T"
   ]
  },
  {
   "cell_type": "code",
   "execution_count": 30,
   "id": "21edecdc-773f-45bb-b3ee-3173ca02b573",
   "metadata": {},
   "outputs": [
    {
     "data": {
      "text/plain": [
       "'cmue'"
      ]
     },
     "execution_count": 30,
     "metadata": {},
     "output_type": "execute_result"
    }
   ],
   "source": [
    "s[::2]"
   ]
  },
  {
   "cell_type": "code",
   "execution_count": 31,
   "id": "be4636bb-5215-4a35-aad9-16a7751e5a46",
   "metadata": {},
   "outputs": [
    {
     "data": {
      "text/plain": [
       "'optr'"
      ]
     },
     "execution_count": 31,
     "metadata": {},
     "output_type": "execute_result"
    }
   ],
   "source": [
    "s[1::2]"
   ]
  },
  {
   "cell_type": "code",
   "execution_count": 32,
   "id": "54cb7081-b825-4e7f-ba4d-9479232a08fb",
   "metadata": {},
   "outputs": [
    {
     "data": {
      "text/plain": [
       "'retupmoc'"
      ]
     },
     "execution_count": 32,
     "metadata": {},
     "output_type": "execute_result"
    }
   ],
   "source": [
    "s[::-1]"
   ]
  },
  {
   "cell_type": "markdown",
   "id": "79d31122-248a-4297-9d56-c7e4bdf01819",
   "metadata": {},
   "source": [
    "### 4.2 Case"
   ]
  },
  {
   "cell_type": "code",
   "execution_count": 33,
   "id": "29b4fec8-8720-469c-a5f1-e087129e55aa",
   "metadata": {},
   "outputs": [
    {
     "data": {
      "text/plain": [
       "'computer'"
      ]
     },
     "execution_count": 33,
     "metadata": {},
     "output_type": "execute_result"
    }
   ],
   "source": [
    "s"
   ]
  },
  {
   "cell_type": "code",
   "execution_count": 34,
   "id": "61a16b60-550a-419f-b416-fa55a7b1926c",
   "metadata": {},
   "outputs": [
    {
     "data": {
      "text/plain": [
       "'COMPUTER'"
      ]
     },
     "execution_count": 34,
     "metadata": {},
     "output_type": "execute_result"
    }
   ],
   "source": [
    "s.upper()"
   ]
  },
  {
   "cell_type": "code",
   "execution_count": 35,
   "id": "477ad141-9b05-489d-9ec5-140861ea0ebd",
   "metadata": {},
   "outputs": [
    {
     "data": {
      "text/plain": [
       "'computer'"
      ]
     },
     "execution_count": 35,
     "metadata": {},
     "output_type": "execute_result"
    }
   ],
   "source": [
    "s.lower()"
   ]
  },
  {
   "cell_type": "code",
   "execution_count": 36,
   "id": "efa8d14d-fba5-40f6-a1b2-656c388ab108",
   "metadata": {},
   "outputs": [
    {
     "data": {
      "text/plain": [
       "'Computer'"
      ]
     },
     "execution_count": 36,
     "metadata": {},
     "output_type": "execute_result"
    }
   ],
   "source": [
    "s.capitalize()"
   ]
  },
  {
   "cell_type": "markdown",
   "id": "bb880c6a-c90f-4096-896c-a84383c13d66",
   "metadata": {},
   "source": [
    "### 4.3 Checking Strings"
   ]
  },
  {
   "cell_type": "code",
   "execution_count": 37,
   "id": "b1866557-20a3-4eee-bb01-7410358e20a4",
   "metadata": {},
   "outputs": [
    {
     "data": {
      "text/plain": [
       "True"
      ]
     },
     "execution_count": 37,
     "metadata": {},
     "output_type": "execute_result"
    }
   ],
   "source": [
    "'1234'.isdigit()"
   ]
  },
  {
   "cell_type": "code",
   "execution_count": 38,
   "id": "82d288b1-ec68-4dd2-a286-f3c543671be9",
   "metadata": {},
   "outputs": [
    {
     "data": {
      "text/plain": [
       "False"
      ]
     },
     "execution_count": 38,
     "metadata": {},
     "output_type": "execute_result"
    }
   ],
   "source": [
    "'1234'.isalpha()"
   ]
  },
  {
   "cell_type": "code",
   "execution_count": 39,
   "id": "0303280e-aac1-43fd-bd16-68df649d40bb",
   "metadata": {},
   "outputs": [
    {
     "data": {
      "text/plain": [
       "True"
      ]
     },
     "execution_count": 39,
     "metadata": {},
     "output_type": "execute_result"
    }
   ],
   "source": [
    "'123ABC'.isalnum()"
   ]
  },
  {
   "cell_type": "code",
   "execution_count": 40,
   "id": "2c1ddede-4a11-4611-9fe7-91740d954705",
   "metadata": {},
   "outputs": [
    {
     "data": {
      "text/plain": [
       "True"
      ]
     },
     "execution_count": 40,
     "metadata": {},
     "output_type": "execute_result"
    }
   ],
   "source": [
    "'   '.isspace()"
   ]
  },
  {
   "cell_type": "code",
   "execution_count": 41,
   "id": "67d8ea34-bc9a-4371-abb3-562379b1484d",
   "metadata": {},
   "outputs": [],
   "source": [
    "url = \"www.google.com\""
   ]
  },
  {
   "cell_type": "code",
   "execution_count": 42,
   "id": "bac860ef-1dac-4823-b5b1-f06682cec817",
   "metadata": {},
   "outputs": [
    {
     "data": {
      "text/plain": [
       "True"
      ]
     },
     "execution_count": 42,
     "metadata": {},
     "output_type": "execute_result"
    }
   ],
   "source": [
    "url.startswith(\"www\")"
   ]
  },
  {
   "cell_type": "code",
   "execution_count": 43,
   "id": "93c9ba25-6604-464f-bd14-ef45bbed692e",
   "metadata": {},
   "outputs": [
    {
     "data": {
      "text/plain": [
       "False"
      ]
     },
     "execution_count": 43,
     "metadata": {},
     "output_type": "execute_result"
    }
   ],
   "source": [
    "url.endswith(\"org\")"
   ]
  },
  {
   "cell_type": "code",
   "execution_count": 44,
   "id": "b98c6f2d-96ce-4ce6-8283-f516837ea001",
   "metadata": {},
   "outputs": [],
   "source": [
    "title = \"The Python Course 101\""
   ]
  },
  {
   "cell_type": "code",
   "execution_count": 45,
   "id": "ee880ba8-9fa1-4b61-9318-999b89e4f831",
   "metadata": {},
   "outputs": [
    {
     "data": {
      "text/plain": [
       "True"
      ]
     },
     "execution_count": 45,
     "metadata": {},
     "output_type": "execute_result"
    }
   ],
   "source": [
    "title.istitle()"
   ]
  },
  {
   "cell_type": "code",
   "execution_count": 46,
   "id": "95893bb2-daec-4294-8821-8990cd0e1ecd",
   "metadata": {},
   "outputs": [],
   "source": [
    "title = \"The Python course 101\""
   ]
  },
  {
   "cell_type": "code",
   "execution_count": 47,
   "id": "a7bfdab6-fdc7-4655-b869-65ba66b1d2d1",
   "metadata": {},
   "outputs": [
    {
     "data": {
      "text/plain": [
       "False"
      ]
     },
     "execution_count": 47,
     "metadata": {},
     "output_type": "execute_result"
    }
   ],
   "source": [
    "title.istitle()"
   ]
  },
  {
   "cell_type": "code",
   "execution_count": 48,
   "id": "4baa579a-8a1e-4ca5-8f9f-89410110c102",
   "metadata": {},
   "outputs": [
    {
     "data": {
      "text/plain": [
       "False"
      ]
     },
     "execution_count": 48,
     "metadata": {},
     "output_type": "execute_result"
    }
   ],
   "source": [
    "s.isupper()"
   ]
  },
  {
   "cell_type": "code",
   "execution_count": 49,
   "id": "62494141-8c81-416b-bc79-c53fb64a5fa4",
   "metadata": {},
   "outputs": [
    {
     "data": {
      "text/plain": [
       "'computer'"
      ]
     },
     "execution_count": 49,
     "metadata": {},
     "output_type": "execute_result"
    }
   ],
   "source": [
    "s.lower()"
   ]
  },
  {
   "cell_type": "code",
   "execution_count": 50,
   "id": "86b4104c-3a37-47e4-a561-f2412ee89a92",
   "metadata": {},
   "outputs": [
    {
     "data": {
      "text/plain": [
       "True"
      ]
     },
     "execution_count": 50,
     "metadata": {},
     "output_type": "execute_result"
    }
   ],
   "source": [
    "s.islower()"
   ]
  },
  {
   "cell_type": "markdown",
   "id": "c720013f-5427-4655-8a6f-f00f9724c266",
   "metadata": {},
   "source": [
    "### 4.4 Search"
   ]
  },
  {
   "cell_type": "code",
   "execution_count": 51,
   "id": "a020220f-ee9c-4c13-aad8-a1ce1cab35d6",
   "metadata": {},
   "outputs": [
    {
     "data": {
      "text/plain": [
       "'computer'"
      ]
     },
     "execution_count": 51,
     "metadata": {},
     "output_type": "execute_result"
    }
   ],
   "source": [
    "s"
   ]
  },
  {
   "cell_type": "code",
   "execution_count": 52,
   "id": "de31032a-613d-4cee-81fe-67b86f8112ad",
   "metadata": {},
   "outputs": [
    {
     "data": {
      "text/plain": [
       "True"
      ]
     },
     "execution_count": 52,
     "metadata": {},
     "output_type": "execute_result"
    }
   ],
   "source": [
    "'put' in s"
   ]
  },
  {
   "cell_type": "code",
   "execution_count": 53,
   "id": "651e141f-4faf-490f-8d00-f4d5fe9dedaf",
   "metadata": {},
   "outputs": [
    {
     "data": {
      "text/plain": [
       "3"
      ]
     },
     "execution_count": 53,
     "metadata": {},
     "output_type": "execute_result"
    }
   ],
   "source": [
    "s.find('put')"
   ]
  },
  {
   "cell_type": "code",
   "execution_count": 54,
   "id": "11107e66-87c2-42ae-9095-1820ac157bff",
   "metadata": {},
   "outputs": [],
   "source": [
    "s = \"mississippi\""
   ]
  },
  {
   "cell_type": "code",
   "execution_count": 55,
   "id": "822f3501-0284-4473-bd86-cc3f75958190",
   "metadata": {},
   "outputs": [
    {
     "data": {
      "text/plain": [
       "2"
      ]
     },
     "execution_count": 55,
     "metadata": {},
     "output_type": "execute_result"
    }
   ],
   "source": [
    "s.find('ss')"
   ]
  },
  {
   "cell_type": "code",
   "execution_count": 56,
   "id": "75fdbaf5-8091-4155-993e-f93591568444",
   "metadata": {},
   "outputs": [
    {
     "data": {
      "text/plain": [
       "2"
      ]
     },
     "execution_count": 56,
     "metadata": {},
     "output_type": "execute_result"
    }
   ],
   "source": [
    "s.index('ss')"
   ]
  },
  {
   "cell_type": "code",
   "execution_count": 57,
   "id": "38eaccc9-4611-4bb2-89ff-842d44fafd98",
   "metadata": {},
   "outputs": [
    {
     "data": {
      "text/plain": [
       "5"
      ]
     },
     "execution_count": 57,
     "metadata": {},
     "output_type": "execute_result"
    }
   ],
   "source": [
    "s.rfind('ss')"
   ]
  },
  {
   "cell_type": "code",
   "execution_count": 58,
   "id": "5ceb4d0b-d0ba-4f0a-a695-8781eb13b113",
   "metadata": {},
   "outputs": [
    {
     "data": {
      "text/plain": [
       "5"
      ]
     },
     "execution_count": 58,
     "metadata": {},
     "output_type": "execute_result"
    }
   ],
   "source": [
    "s.rindex('ss')"
   ]
  },
  {
   "cell_type": "code",
   "execution_count": 59,
   "id": "3b6d37a1-de06-4189-9117-80d4aaada97f",
   "metadata": {},
   "outputs": [
    {
     "data": {
      "text/plain": [
       "4"
      ]
     },
     "execution_count": 59,
     "metadata": {},
     "output_type": "execute_result"
    }
   ],
   "source": [
    "s.count('s')"
   ]
  },
  {
   "cell_type": "code",
   "execution_count": 60,
   "id": "368506e2-801e-4d9c-8333-e876c5c2ce3a",
   "metadata": {},
   "outputs": [
    {
     "data": {
      "text/plain": [
       "2"
      ]
     },
     "execution_count": 60,
     "metadata": {},
     "output_type": "execute_result"
    }
   ],
   "source": [
    "s.count('ss')"
   ]
  },
  {
   "cell_type": "markdown",
   "id": "ea256672-68a3-43cd-811c-9588de3a2fdc",
   "metadata": {},
   "source": [
    "### 4.5 Modification on the string"
   ]
  },
  {
   "cell_type": "markdown",
   "id": "b20ca124-59b2-4193-8037-1a60f449393a",
   "metadata": {},
   "source": [
    "##### Note: to protect the immutability aspect, these function return a value and do no modify the original string"
   ]
  },
  {
   "cell_type": "code",
   "execution_count": 62,
   "id": "fc269d4f-c79e-43f9-9098-8a2b54d73bdb",
   "metadata": {},
   "outputs": [],
   "source": [
    "ip = '192-167-1-1'"
   ]
  },
  {
   "cell_type": "code",
   "execution_count": 63,
   "id": "7c688332-f1ec-46cd-82b5-5d50b157a23f",
   "metadata": {},
   "outputs": [
    {
     "data": {
      "text/plain": [
       "'192.167.1.1'"
      ]
     },
     "execution_count": 63,
     "metadata": {},
     "output_type": "execute_result"
    }
   ],
   "source": [
    "ip.replace('-', '.')"
   ]
  },
  {
   "cell_type": "code",
   "execution_count": 65,
   "id": "40ccbfbd-57a7-4aae-8cc2-8d0e07fc49e5",
   "metadata": {},
   "outputs": [
    {
     "data": {
      "text/plain": [
       "'192-167-1-1'"
      ]
     },
     "execution_count": 65,
     "metadata": {},
     "output_type": "execute_result"
    }
   ],
   "source": [
    "ip # the original is still intact, we need to capture the returned value to a variable"
   ]
  },
  {
   "cell_type": "code",
   "execution_count": 66,
   "id": "972e6476-8627-497d-92aa-de01d631acf4",
   "metadata": {},
   "outputs": [],
   "source": [
    "newip = ip.replace('-', '.')"
   ]
  },
  {
   "cell_type": "code",
   "execution_count": 67,
   "id": "94239f54-df03-4836-89d4-a633c7b59517",
   "metadata": {},
   "outputs": [
    {
     "data": {
      "text/plain": [
       "('192-167-1-1', '192.167.1.1')"
      ]
     },
     "execution_count": 67,
     "metadata": {},
     "output_type": "execute_result"
    }
   ],
   "source": [
    "ip, newip"
   ]
  },
  {
   "cell_type": "code",
   "execution_count": 68,
   "id": "d9bdc9b7-b996-4180-a5b1-85629ad7e8f9",
   "metadata": {},
   "outputs": [],
   "source": [
    "text = \"mary had a little lamb\""
   ]
  },
  {
   "cell_type": "code",
   "execution_count": 69,
   "id": "d7054162-d0aa-4370-8b3d-5e8543aa2d2d",
   "metadata": {},
   "outputs": [
    {
     "data": {
      "text/plain": [
       "['mary', 'had', 'a', 'little', 'lamb']"
      ]
     },
     "execution_count": 69,
     "metadata": {},
     "output_type": "execute_result"
    }
   ],
   "source": [
    "text.split()"
   ]
  },
  {
   "cell_type": "code",
   "execution_count": 70,
   "id": "3dbeb5c1-ab6f-43ee-9ff2-c4daa2d1ea34",
   "metadata": {},
   "outputs": [
    {
     "data": {
      "text/plain": [
       "['m', 'ry h', 'd ', ' little l', 'mb']"
      ]
     },
     "execution_count": 70,
     "metadata": {},
     "output_type": "execute_result"
    }
   ],
   "source": [
    "text.split('a')"
   ]
  },
  {
   "cell_type": "code",
   "execution_count": 71,
   "id": "239223ad-1f47-4aac-b021-2cc3c4ba19b7",
   "metadata": {},
   "outputs": [
    {
     "name": "stdout",
     "output_type": "stream",
     "text": [
      "mary-had-a-little-lamb\n"
     ]
    }
   ],
   "source": [
    "L = ['mary', 'had', 'a', 'little', 'lamb']\n",
    "joinedText = '-'.join(L)\n",
    "print(joinedText)"
   ]
  },
  {
   "cell_type": "markdown",
   "id": "38c90d97-a153-4cea-a9fa-922b1ef2a6ba",
   "metadata": {},
   "source": [
    "### 4.6 Formatting Strings"
   ]
  },
  {
   "cell_type": "code",
   "execution_count": 72,
   "id": "65aeb4ce-42b7-4dd6-83a8-f78c676496f0",
   "metadata": {},
   "outputs": [],
   "source": [
    "a = 10\n",
    "b = 20\n",
    "c = a + b"
   ]
  },
  {
   "cell_type": "code",
   "execution_count": 73,
   "id": "60bbb99c-5fd4-4d2b-a73f-978b03428630",
   "metadata": {},
   "outputs": [
    {
     "name": "stdout",
     "output_type": "stream",
     "text": [
      "The initial values are 10 and 20 and their sum is 30\n"
     ]
    }
   ],
   "source": [
    "print(\"The initial values are %d and %d and their sum is %d\" % (a , b ,c))"
   ]
  },
  {
   "cell_type": "code",
   "execution_count": 74,
   "id": "dc195100-bff5-406e-b9fb-c62075782b27",
   "metadata": {},
   "outputs": [
    {
     "data": {
      "text/plain": [
       "'The name is Anil and age is 30'"
      ]
     },
     "execution_count": 74,
     "metadata": {},
     "output_type": "execute_result"
    }
   ],
   "source": [
    "name = 'Anil'\n",
    "age = 30\n",
    "\"The name is {} and age is {}\".format(name, age)"
   ]
  },
  {
   "cell_type": "code",
   "execution_count": 75,
   "id": "361bb8e0-9597-4ccb-aa1c-6f5a9a7578cf",
   "metadata": {},
   "outputs": [
    {
     "data": {
      "text/plain": [
       "'The name is Anil       and age is    30'"
      ]
     },
     "execution_count": 75,
     "metadata": {},
     "output_type": "execute_result"
    }
   ],
   "source": [
    "\"The name is {0:10} and age is {1:5}\".format(name, age) # {p:s} p -> position of value in format list s -> amount of spaces used"
   ]
  },
  {
   "cell_type": "code",
   "execution_count": 76,
   "id": "d0de9911-82fa-40e0-8c88-1d9e48ecc9b7",
   "metadata": {},
   "outputs": [
    {
     "data": {
      "text/plain": [
       "'The name is       Anil and age is 30   '"
      ]
     },
     "execution_count": 76,
     "metadata": {},
     "output_type": "execute_result"
    }
   ],
   "source": [
    "\"The name is {0:>10} and age is {1:<5}\".format(name, age)"
   ]
  },
  {
   "cell_type": "code",
   "execution_count": 78,
   "id": "78121d56-e228-4a89-87bf-ce11aba07bc8",
   "metadata": {},
   "outputs": [
    {
     "data": {
      "text/plain": [
       "'The name is Purushotham and age is  30  '"
      ]
     },
     "execution_count": 78,
     "metadata": {},
     "output_type": "execute_result"
    }
   ],
   "source": [
    "\"The name is {0:^10} and age is {1:^5}\".format(\"Purushotham\", age)"
   ]
  },
  {
   "cell_type": "code",
   "execution_count": 79,
   "id": "cdabc1a4-a985-4337-b172-4bce921b8cd3",
   "metadata": {},
   "outputs": [],
   "source": [
    "i = \"   python  \""
   ]
  },
  {
   "cell_type": "code",
   "execution_count": 80,
   "id": "81d15ca2-d638-4602-aa7d-79b1c34fd3d3",
   "metadata": {},
   "outputs": [
    {
     "data": {
      "text/plain": [
       "'python'"
      ]
     },
     "execution_count": 80,
     "metadata": {},
     "output_type": "execute_result"
    }
   ],
   "source": [
    "i.strip()"
   ]
  },
  {
   "cell_type": "code",
   "execution_count": 81,
   "id": "0ea74f3e-265c-451c-8803-4e5efddd218c",
   "metadata": {},
   "outputs": [
    {
     "data": {
      "text/plain": [
       "'python  '"
      ]
     },
     "execution_count": 81,
     "metadata": {},
     "output_type": "execute_result"
    }
   ],
   "source": [
    "i.lstrip()"
   ]
  },
  {
   "cell_type": "code",
   "execution_count": 83,
   "id": "53262042-4b30-4c82-b113-0c1fab2db427",
   "metadata": {},
   "outputs": [
    {
     "data": {
      "text/plain": [
       "'   python'"
      ]
     },
     "execution_count": 83,
     "metadata": {},
     "output_type": "execute_result"
    }
   ],
   "source": [
    "i.rstrip()"
   ]
  },
  {
   "cell_type": "code",
   "execution_count": 84,
   "id": "9b219cc3-aaf0-4299-b79d-a00ea9a02af4",
   "metadata": {},
   "outputs": [],
   "source": [
    "i = \"computer\""
   ]
  },
  {
   "cell_type": "code",
   "execution_count": 85,
   "id": "f843076c-ba2f-4459-ab97-62d8e2fcf148",
   "metadata": {},
   "outputs": [
    {
     "data": {
      "text/plain": [
       "'computer            '"
      ]
     },
     "execution_count": 85,
     "metadata": {},
     "output_type": "execute_result"
    }
   ],
   "source": [
    "i.ljust(20)"
   ]
  },
  {
   "cell_type": "code",
   "execution_count": 86,
   "id": "ad614231-a3db-44c1-8959-8eed077a3823",
   "metadata": {},
   "outputs": [
    {
     "data": {
      "text/plain": [
       "'>>>>>>>>>>>>computer'"
      ]
     },
     "execution_count": 86,
     "metadata": {},
     "output_type": "execute_result"
    }
   ],
   "source": [
    "i.rjust(20, '>')"
   ]
  },
  {
   "cell_type": "code",
   "execution_count": 88,
   "id": "82e00e44-a458-4154-963c-5755a97abd81",
   "metadata": {},
   "outputs": [
    {
     "data": {
      "text/plain": [
       "'00345'"
      ]
     },
     "execution_count": 88,
     "metadata": {},
     "output_type": "execute_result"
    }
   ],
   "source": [
    "i = \"345\"\n",
    "i.zfill(5)"
   ]
  },
  {
   "cell_type": "markdown",
   "id": "cc6533ed-7d79-44f6-8ff7-0a3b62004e90",
   "metadata": {},
   "source": [
    "### 4.7 Miscellaneous"
   ]
  },
  {
   "cell_type": "code",
   "execution_count": 89,
   "id": "d3fa9a11-5321-408e-a8a7-f48ed9e723e5",
   "metadata": {},
   "outputs": [],
   "source": [
    "s = \"computer\""
   ]
  },
  {
   "cell_type": "code",
   "execution_count": 91,
   "id": "2447c771-6733-420c-a4b5-7a8fe45f275e",
   "metadata": {},
   "outputs": [],
   "source": [
    "tt = s.maketrans({ 'p' : 'pp', 't' : 'TTT' })"
   ]
  },
  {
   "cell_type": "code",
   "execution_count": 92,
   "id": "a567c99e-799b-4692-9ab9-de286225301e",
   "metadata": {},
   "outputs": [
    {
     "data": {
      "text/plain": [
       "'comppuTTTer'"
      ]
     },
     "execution_count": 92,
     "metadata": {},
     "output_type": "execute_result"
    }
   ],
   "source": [
    "s.translate(tt)"
   ]
  },
  {
   "cell_type": "code",
   "execution_count": 96,
   "id": "9c9d93b3-5369-4e8e-8887-82d6f9e58467",
   "metadata": {},
   "outputs": [
    {
     "data": {
      "text/plain": [
       "b'computer'"
      ]
     },
     "execution_count": 96,
     "metadata": {},
     "output_type": "execute_result"
    }
   ],
   "source": [
    "es = s.encode(encoding='utf-8')\n",
    "es"
   ]
  },
  {
   "cell_type": "code",
   "execution_count": 97,
   "id": "4612d927-b2fb-40a7-87ad-9cf935721950",
   "metadata": {},
   "outputs": [
    {
     "data": {
      "text/plain": [
       "bytes"
      ]
     },
     "execution_count": 97,
     "metadata": {},
     "output_type": "execute_result"
    }
   ],
   "source": [
    "type(es)"
   ]
  },
  {
   "cell_type": "code",
   "execution_count": 100,
   "id": "b7801a14-3df5-4074-a580-3afe1cc0093a",
   "metadata": {},
   "outputs": [
    {
     "data": {
      "text/plain": [
       "'computer'"
      ]
     },
     "execution_count": 100,
     "metadata": {},
     "output_type": "execute_result"
    }
   ],
   "source": [
    "ds = es.decode('utf-8')\n",
    "ds"
   ]
  },
  {
   "cell_type": "code",
   "execution_count": 101,
   "id": "30249e93-b395-4a3d-b25d-f8d5b64c1d38",
   "metadata": {},
   "outputs": [
    {
     "data": {
      "text/plain": [
       "str"
      ]
     },
     "execution_count": 101,
     "metadata": {},
     "output_type": "execute_result"
    }
   ],
   "source": [
    "type(ds)"
   ]
  },
  {
   "cell_type": "code",
   "execution_count": 102,
   "id": "857e4bfc-b66d-473b-a698-94b5a1936eb4",
   "metadata": {},
   "outputs": [
    {
     "data": {
      "text/plain": [
       "97"
      ]
     },
     "execution_count": 102,
     "metadata": {},
     "output_type": "execute_result"
    }
   ],
   "source": [
    "ord('a')"
   ]
  },
  {
   "cell_type": "code",
   "execution_count": 103,
   "id": "b999e51c-7674-48b2-b6fe-0b840fcd9633",
   "metadata": {},
   "outputs": [
    {
     "data": {
      "text/plain": [
       "'a'"
      ]
     },
     "execution_count": 103,
     "metadata": {},
     "output_type": "execute_result"
    }
   ],
   "source": [
    "chr(97)"
   ]
  },
  {
   "cell_type": "markdown",
   "id": "700a8e4b-5b57-4707-8050-b44f24a9349a",
   "metadata": {},
   "source": [
    "##### Quick Test:"
   ]
  },
  {
   "cell_type": "markdown",
   "id": "15216a11-324b-428d-8a9f-2f383ca5faed",
   "metadata": {},
   "source": [
    "s = \"computer\"\n",
    "Reverse the string and extract every second character\n",
    "expected output => 'rtpo'"
   ]
  },
  {
   "cell_type": "markdown",
   "id": "72790b7b-ea7d-40f6-9151-1d180bacb01b",
   "metadata": {},
   "source": [
    "##### Quick Test:"
   ]
  },
  {
   "cell_type": "code",
   "execution_count": null,
   "id": "cbf5edd9-8784-4987-a243-e4e51d2ac2f8",
   "metadata": {},
   "outputs": [],
   "source": [
    "input => 'STAR'\n",
    "output => 'R*A*T*S\""
   ]
  }
 ],
 "metadata": {
  "kernelspec": {
   "display_name": "Python 3 (ipykernel)",
   "language": "python",
   "name": "python3"
  },
  "language_info": {
   "codemirror_mode": {
    "name": "ipython",
    "version": 3
   },
   "file_extension": ".py",
   "mimetype": "text/x-python",
   "name": "python",
   "nbconvert_exporter": "python",
   "pygments_lexer": "ipython3",
   "version": "3.11.7"
  }
 },
 "nbformat": 4,
 "nbformat_minor": 5
}
