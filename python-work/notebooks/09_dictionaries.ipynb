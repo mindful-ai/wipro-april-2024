{
 "cells": [
  {
   "cell_type": "markdown",
   "id": "561f21e6-6166-4d55-b0d4-45e6817554e9",
   "metadata": {},
   "source": [
    "# Dictionaries"
   ]
  },
  {
   "cell_type": "markdown",
   "id": "40548a47-5c01-4028-a35b-6eb308667685",
   "metadata": {},
   "source": [
    "### 9.1 Creating and using a dictionary"
   ]
  },
  {
   "cell_type": "code",
   "execution_count": 1,
   "id": "466290fa-c924-401f-a591-512cd2f8ca63",
   "metadata": {},
   "outputs": [],
   "source": [
    "D = {'name':'Ramesh', 'age':45, 'company': 'wipro', 'salalry':'15 LPA'}"
   ]
  },
  {
   "cell_type": "code",
   "execution_count": 2,
   "id": "8ec46913-ac8b-4ca4-ac6a-2ec37d573d02",
   "metadata": {},
   "outputs": [
    {
     "data": {
      "text/plain": [
       "dict"
      ]
     },
     "execution_count": 2,
     "metadata": {},
     "output_type": "execute_result"
    }
   ],
   "source": [
    "type(D)"
   ]
  },
  {
   "cell_type": "code",
   "execution_count": null,
   "id": "02d463a0-7afc-4f6b-8aca-23b9e5661b19",
   "metadata": {},
   "outputs": [],
   "source": [
    "T = (\"Ramesh\", 45, 'wipro', '15 LPA')"
   ]
  },
  {
   "cell_type": "markdown",
   "id": "9f817019-bfcb-4916-8e81-d4d6e9c119af",
   "metadata": {},
   "source": [
    "##### Note: The key can only be a string or a number, the value can be anything: number, string, list, dictionary, function, etc"
   ]
  },
  {
   "cell_type": "markdown",
   "id": "21ceac86-de21-4e84-b0c8-46dcdd368085",
   "metadata": {},
   "source": [
    "### 9.2 Modifying the Dictionary"
   ]
  },
  {
   "cell_type": "code",
   "execution_count": 3,
   "id": "e0c3065a-1eb7-468f-aedd-b3484824667f",
   "metadata": {},
   "outputs": [
    {
     "data": {
      "text/plain": [
       "'Ramesh'"
      ]
     },
     "execution_count": 3,
     "metadata": {},
     "output_type": "execute_result"
    }
   ],
   "source": [
    "D['name']"
   ]
  },
  {
   "cell_type": "code",
   "execution_count": 4,
   "id": "f5bd4b63-0ced-46cc-b3dc-0b0dc8f3846c",
   "metadata": {},
   "outputs": [
    {
     "data": {
      "text/plain": [
       "{'name': 'Anil', 'age': 45, 'company': 'wipro', 'salalry': '15 LPA'}"
      ]
     },
     "execution_count": 4,
     "metadata": {},
     "output_type": "execute_result"
    }
   ],
   "source": [
    "D['name'] = 'Anil'\n",
    "D"
   ]
  },
  {
   "cell_type": "code",
   "execution_count": 5,
   "id": "b6fe860d-b06a-4779-bad0-3b9b668c2fa2",
   "metadata": {},
   "outputs": [
    {
     "ename": "KeyError",
     "evalue": "'addr'",
     "output_type": "error",
     "traceback": [
      "\u001b[1;31m---------------------------------------------------------------------------\u001b[0m",
      "\u001b[1;31mKeyError\u001b[0m                                  Traceback (most recent call last)",
      "Cell \u001b[1;32mIn[5], line 1\u001b[0m\n\u001b[1;32m----> 1\u001b[0m D[\u001b[38;5;124m'\u001b[39m\u001b[38;5;124maddr\u001b[39m\u001b[38;5;124m'\u001b[39m]\n",
      "\u001b[1;31mKeyError\u001b[0m: 'addr'"
     ]
    }
   ],
   "source": [
    "D['addr']"
   ]
  },
  {
   "cell_type": "code",
   "execution_count": 6,
   "id": "65683ac5-0b8d-45d3-ab05-1bf46e24641c",
   "metadata": {},
   "outputs": [],
   "source": [
    "D['addr'] = 'J P Nagar, Bangalore'"
   ]
  },
  {
   "cell_type": "code",
   "execution_count": 7,
   "id": "b0eb2ea9-5162-4ec3-b0fd-d928d8bea617",
   "metadata": {},
   "outputs": [
    {
     "data": {
      "text/plain": [
       "{'name': 'Anil',\n",
       " 'age': 45,\n",
       " 'company': 'wipro',\n",
       " 'salalry': '15 LPA',\n",
       " 'addr': 'J P Nagar, Bangalore'}"
      ]
     },
     "execution_count": 7,
     "metadata": {},
     "output_type": "execute_result"
    }
   ],
   "source": [
    "D"
   ]
  },
  {
   "cell_type": "code",
   "execution_count": 8,
   "id": "4f75490a-af92-4215-b29d-da682753bbdf",
   "metadata": {},
   "outputs": [
    {
     "data": {
      "text/plain": [
       "{'name': 'Anil',\n",
       " 'age': 45,\n",
       " 'company': 'wipro',\n",
       " 'salalry': '15 LPA',\n",
       " 'addr': 'J P Nagar, Bangalore',\n",
       " 'dob': '19-08-1990'}"
      ]
     },
     "execution_count": 8,
     "metadata": {},
     "output_type": "execute_result"
    }
   ],
   "source": [
    "D['dob'] = '19-08-1990'\n",
    "D"
   ]
  },
  {
   "cell_type": "code",
   "execution_count": 9,
   "id": "54643918-43e9-4cbd-86c7-ba80ad8d7752",
   "metadata": {},
   "outputs": [
    {
     "data": {
      "text/plain": [
       "45"
      ]
     },
     "execution_count": 9,
     "metadata": {},
     "output_type": "execute_result"
    }
   ],
   "source": [
    "D.pop('age')"
   ]
  },
  {
   "cell_type": "code",
   "execution_count": 10,
   "id": "4ee56de9-3510-4bea-8559-8e9044f91a81",
   "metadata": {},
   "outputs": [
    {
     "data": {
      "text/plain": [
       "{'name': 'Anil',\n",
       " 'company': 'wipro',\n",
       " 'salalry': '15 LPA',\n",
       " 'addr': 'J P Nagar, Bangalore',\n",
       " 'dob': '19-08-1990'}"
      ]
     },
     "execution_count": 10,
     "metadata": {},
     "output_type": "execute_result"
    }
   ],
   "source": [
    "D"
   ]
  },
  {
   "cell_type": "code",
   "execution_count": 11,
   "id": "d921831c-b6c8-4a56-afcd-178d20db762c",
   "metadata": {},
   "outputs": [],
   "source": [
    "D1 = {\"wife\":\"Anita\", \"wage\":41, \"waddr\":\"J P Nagar, Bangalore\", \"wcomapny\":\"Oracle\"}"
   ]
  },
  {
   "cell_type": "code",
   "execution_count": 12,
   "id": "bb96d1aa-55ae-4d68-ac41-96c6dd88731a",
   "metadata": {},
   "outputs": [],
   "source": [
    "D.update(D1)"
   ]
  },
  {
   "cell_type": "code",
   "execution_count": 13,
   "id": "2fb1a144-e70a-4ebf-9d58-9c61dddb4d46",
   "metadata": {},
   "outputs": [
    {
     "data": {
      "text/plain": [
       "{'name': 'Anil',\n",
       " 'company': 'wipro',\n",
       " 'salalry': '15 LPA',\n",
       " 'addr': 'J P Nagar, Bangalore',\n",
       " 'dob': '19-08-1990',\n",
       " 'wife': 'Anita',\n",
       " 'wage': 41,\n",
       " 'waddr': 'J P Nagar, Bangalore',\n",
       " 'wcomapny': 'Oracle'}"
      ]
     },
     "execution_count": 13,
     "metadata": {},
     "output_type": "execute_result"
    }
   ],
   "source": [
    "D"
   ]
  },
  {
   "cell_type": "markdown",
   "id": "61c06a07-4ad8-4c84-9a67-9c7d6c704919",
   "metadata": {},
   "source": [
    "### 9.3 Important Functions"
   ]
  },
  {
   "cell_type": "code",
   "execution_count": 14,
   "id": "d053b3ad-6131-4972-8d66-a873fbfd2c37",
   "metadata": {},
   "outputs": [
    {
     "data": {
      "text/plain": [
       "dict_values(['Anil', 'wipro', '15 LPA', 'J P Nagar, Bangalore', '19-08-1990', 'Anita', 41, 'J P Nagar, Bangalore', 'Oracle'])"
      ]
     },
     "execution_count": 14,
     "metadata": {},
     "output_type": "execute_result"
    }
   ],
   "source": [
    "D.values()"
   ]
  },
  {
   "cell_type": "code",
   "execution_count": 15,
   "id": "0a2e85a2-4f0e-4504-a119-abae511eea7e",
   "metadata": {},
   "outputs": [
    {
     "data": {
      "text/plain": [
       "dict_keys(['name', 'company', 'salalry', 'addr', 'dob', 'wife', 'wage', 'waddr', 'wcomapny'])"
      ]
     },
     "execution_count": 15,
     "metadata": {},
     "output_type": "execute_result"
    }
   ],
   "source": [
    "D.keys()"
   ]
  },
  {
   "cell_type": "code",
   "execution_count": 16,
   "id": "a5880646-07a0-4690-a696-b2efcb961370",
   "metadata": {},
   "outputs": [
    {
     "data": {
      "text/plain": [
       "dict_items([('name', 'Anil'), ('company', 'wipro'), ('salalry', '15 LPA'), ('addr', 'J P Nagar, Bangalore'), ('dob', '19-08-1990'), ('wife', 'Anita'), ('wage', 41), ('waddr', 'J P Nagar, Bangalore'), ('wcomapny', 'Oracle')])"
      ]
     },
     "execution_count": 16,
     "metadata": {},
     "output_type": "execute_result"
    }
   ],
   "source": [
    "D.items()"
   ]
  },
  {
   "cell_type": "markdown",
   "id": "20b75ef6-cb85-40ac-85d3-1062ce451676",
   "metadata": {},
   "source": [
    "### 9.4 Examples"
   ]
  },
  {
   "cell_type": "code",
   "execution_count": 17,
   "id": "d66c039e-cef8-470b-9041-c4911e9f1eff",
   "metadata": {},
   "outputs": [
    {
     "data": {
      "text/plain": [
       "{'Raj': 1, 'Anil': 2}"
      ]
     },
     "execution_count": 17,
     "metadata": {},
     "output_type": "execute_result"
    }
   ],
   "source": [
    "T = ( ('Raj', 1), ('Anil', 2))\n",
    "dict(T)"
   ]
  },
  {
   "cell_type": "code",
   "execution_count": 18,
   "id": "09ea2be3-2332-4b87-9404-3140ba2d78eb",
   "metadata": {},
   "outputs": [],
   "source": [
    "s = \"mississippi\"\n",
    "# Create a charecter frequency data"
   ]
  },
  {
   "cell_type": "code",
   "execution_count": 19,
   "id": "b6a73f98-8d79-441c-a819-eb96c3fd0a95",
   "metadata": {},
   "outputs": [
    {
     "data": {
      "text/plain": [
       "{'m': 1, 'i': 4, 's': 4, 'p': 2}"
      ]
     },
     "execution_count": 19,
     "metadata": {},
     "output_type": "execute_result"
    }
   ],
   "source": [
    "H = {}\n",
    "for ch in s:\n",
    "    if ch in H.keys():\n",
    "        H[ch] = H[ch] + 1\n",
    "    else:\n",
    "        H[ch] = 1\n",
    "H"
   ]
  },
  {
   "cell_type": "markdown",
   "id": "33880a29-afc7-4902-9086-b58ee7e6245b",
   "metadata": {},
   "source": [
    "##### Create character count data for each of the words in the list"
   ]
  },
  {
   "cell_type": "code",
   "execution_count": 20,
   "id": "77eded56-d3df-4c33-8d71-148c4d4adfac",
   "metadata": {},
   "outputs": [
    {
     "name": "stdout",
     "output_type": "stream",
     "text": [
      "{'a': 1, 'p': 2, 'l': 1, 'e': 1, 's': 1}\n",
      "{'c': 1, 'a': 2, 'b': 2, 'g': 1, 'e': 1}\n",
      "{'r': 1, 'a': 1, 'd': 1, 'i': 1, 's': 1, 'h': 1}\n",
      "{'z': 1, 'u': 1, 'c': 2, 'i': 2, 'n': 1}\n"
     ]
    }
   ],
   "source": [
    "LS = [\"apples\", \"cabbage\", \"radish\", \"zuccini\"]\n",
    "for s in LS:\n",
    "    H = {}\n",
    "    for ch in s:\n",
    "        if ch in H.keys():\n",
    "            H[ch] = H[ch] + 1\n",
    "        else:\n",
    "            H[ch] = 1\n",
    "    print(H)"
   ]
  },
  {
   "cell_type": "code",
   "execution_count": 21,
   "id": "184d266a-08a1-43b1-90b5-e04970bd1a3f",
   "metadata": {},
   "outputs": [
    {
     "name": "stdout",
     "output_type": "stream",
     "text": [
      "{'apples': {'a': 1, 'p': 2, 'l': 1, 'e': 1, 's': 1}, 'cabbage': {'c': 1, 'a': 2, 'b': 2, 'g': 1, 'e': 1}, 'radish': {'r': 1, 'a': 1, 'd': 1, 'i': 1, 's': 1, 'h': 1}, 'zuccini': {'z': 1, 'u': 1, 'c': 2, 'i': 2, 'n': 1}}\n"
     ]
    }
   ],
   "source": [
    "LS = [\"apples\", \"cabbage\", \"radish\", \"zuccini\"]\n",
    "HH = {}\n",
    "for s in LS:\n",
    "    H = {}\n",
    "    for ch in s:\n",
    "        if ch in H.keys():\n",
    "            H[ch] = H[ch] + 1\n",
    "        else:\n",
    "            H[ch] = 1\n",
    "    HH[s] = H\n",
    "print(HH)"
   ]
  },
  {
   "cell_type": "markdown",
   "id": "763591a4-2e93-48a9-8b70-de24553c2802",
   "metadata": {},
   "source": [
    "##### Given student string and scores string combine them into a dictionary"
   ]
  },
  {
   "cell_type": "code",
   "execution_count": 22,
   "id": "029d7604-158f-4cb5-becd-fa7959cb0e0d",
   "metadata": {},
   "outputs": [],
   "source": [
    "s = \"rajesh,ramesh,anil,sunil\"\n",
    "m = \"99,98,100,97\""
   ]
  },
  {
   "cell_type": "code",
   "execution_count": 29,
   "id": "036c3813-15da-4519-a8d8-05a8f4232d92",
   "metadata": {},
   "outputs": [
    {
     "data": {
      "text/plain": [
       "(['rajesh', 'ramesh', 'anil', 'sunil'], ['99', '98', '100', '97'])"
      ]
     },
     "execution_count": 29,
     "metadata": {},
     "output_type": "execute_result"
    }
   ],
   "source": [
    "ls = s.split(',')\n",
    "lm = m.split(',')\n",
    "\n",
    "ls, lm"
   ]
  },
  {
   "cell_type": "code",
   "execution_count": 32,
   "id": "2f3ef8f2-3e68-44dd-8e7c-7812349a195c",
   "metadata": {},
   "outputs": [
    {
     "data": {
      "text/plain": [
       "(('rajesh', 'ramesh', 'anil', 'sunil'), ('99', '98', '100', '97'))"
      ]
     },
     "execution_count": 32,
     "metadata": {},
     "output_type": "execute_result"
    }
   ],
   "source": [
    "tt = (tuple(ls), tuple(lm))"
   ]
  },
  {
   "cell_type": "code",
   "execution_count": 33,
   "id": "1bb1333f-00fb-41f0-9678-3a7a04fe95ed",
   "metadata": {},
   "outputs": [],
   "source": [
    "# Required ( ('rajesh', '99) , ... )"
   ]
  },
  {
   "cell_type": "code",
   "execution_count": 36,
   "id": "84251493-3114-4531-baba-6205d1015f76",
   "metadata": {},
   "outputs": [
    {
     "data": {
      "text/plain": [
       "[('rajesh', 99.0), ('ramesh', 98.0), ('anil', 100.0), ('sunil', 97.0)]"
      ]
     },
     "execution_count": 36,
     "metadata": {},
     "output_type": "execute_result"
    }
   ],
   "source": [
    "ttp = []\n",
    "for i in range(len(ls)):\n",
    "    ttp.append((ls[i], float(lm[i])))\n",
    "ttp"
   ]
  },
  {
   "cell_type": "code",
   "execution_count": 37,
   "id": "7fd89f71-8342-4509-8c3a-ffbd0346d87c",
   "metadata": {},
   "outputs": [
    {
     "data": {
      "text/plain": [
       "{'rajesh': 99.0, 'ramesh': 98.0, 'anil': 100.0, 'sunil': 97.0}"
      ]
     },
     "execution_count": 37,
     "metadata": {},
     "output_type": "execute_result"
    }
   ],
   "source": [
    "dict(ttp)"
   ]
  },
  {
   "cell_type": "code",
   "execution_count": 38,
   "id": "2526fc94-7b29-4d30-bc3b-1316faaf9769",
   "metadata": {},
   "outputs": [
    {
     "data": {
      "text/plain": [
       "(('rajesh', 'ramesh', 'anil', 'sunil'), ('99', '98', '100', '97'))"
      ]
     },
     "execution_count": 38,
     "metadata": {},
     "output_type": "execute_result"
    }
   ],
   "source": [
    "tt"
   ]
  },
  {
   "cell_type": "code",
   "execution_count": 41,
   "id": "a2192b0a-39b7-4b10-b845-c9f55f5b4a82",
   "metadata": {},
   "outputs": [
    {
     "data": {
      "text/plain": [
       "{'rajesh': '99', 'ramesh': '98', 'anil': '100', 'sunil': '97'}"
      ]
     },
     "execution_count": 41,
     "metadata": {},
     "output_type": "execute_result"
    }
   ],
   "source": [
    "dict(zip(ls, lm))"
   ]
  },
  {
   "cell_type": "code",
   "execution_count": 43,
   "id": "37b10fe5-2ee1-4676-bc7e-96463cf4c141",
   "metadata": {},
   "outputs": [
    {
     "data": {
      "text/plain": [
       "{'name': 'Anil',\n",
       " 'company': 'wipro',\n",
       " 'salalry': '15 LPA',\n",
       " 'addr': 'J P Nagar, Bangalore',\n",
       " 'dob': '19-08-1990',\n",
       " 'wife': 'Anita',\n",
       " 'wage': 41,\n",
       " 'waddr': 'J P Nagar, Bangalore',\n",
       " 'wcomapny': 'Oracle'}"
      ]
     },
     "execution_count": 43,
     "metadata": {},
     "output_type": "execute_result"
    }
   ],
   "source": [
    "D"
   ]
  },
  {
   "cell_type": "code",
   "execution_count": 44,
   "id": "d57ab95f-925e-42e9-bb1a-85b370d98231",
   "metadata": {},
   "outputs": [
    {
     "data": {
      "text/plain": [
       "{'Anil': 'name',\n",
       " 'wipro': 'company',\n",
       " '15 LPA': 'salalry',\n",
       " 'J P Nagar, Bangalore': 'waddr',\n",
       " '19-08-1990': 'dob',\n",
       " 'Anita': 'wife',\n",
       " 41: 'wage',\n",
       " 'Oracle': 'wcomapny'}"
      ]
     },
     "execution_count": 44,
     "metadata": {},
     "output_type": "execute_result"
    }
   ],
   "source": [
    "DD = {}\n",
    "for key, value in D.items():\n",
    "    DD[value] = key\n",
    "DD  "
   ]
  },
  {
   "cell_type": "markdown",
   "id": "1a1a52fe-7c1b-42ec-b0b2-8dc00dee782a",
   "metadata": {},
   "source": [
    "##### Quick Test:\n"
   ]
  },
  {
   "cell_type": "markdown",
   "id": "bf39a926-0a13-4308-9c25-7c7788d0c18f",
   "metadata": {},
   "source": [
    "Input a text from the user\n",
    "Output a dictionary which contains unique words in the text as keys and their lengths as values\n",
    "Example: Input -> cat bat mat cat cat bat\n",
    "         Output -> { 'cat':3, 'bat':3, 'mat':3 }"
   ]
  },
  {
   "cell_type": "markdown",
   "id": "165bda07-1c7b-4b9f-99e7-841c9394d55e",
   "metadata": {},
   "source": [
    "##### Quick Test:"
   ]
  },
  {
   "cell_type": "markdown",
   "id": "7ac73f54-15be-442c-919f-739059a5dbaa",
   "metadata": {},
   "source": [
    "Write a program to input come text from the user. Determine the number of occurance of vowels in the text\n",
    "Example: Input -> \"cabbage\"\n",
    "         Output -> {'a':2, 'e':1, 'i':0, 'o':0, 'u':0}"
   ]
  },
  {
   "cell_type": "code",
   "execution_count": null,
   "id": "fc649c33-4d62-41b4-8459-264f06b622af",
   "metadata": {},
   "outputs": [],
   "source": []
  },
  {
   "cell_type": "code",
   "execution_count": null,
   "id": "16bd0d0b-62ae-4e24-8b55-4f8a5a69d8f3",
   "metadata": {},
   "outputs": [],
   "source": []
  }
 ],
 "metadata": {
  "kernelspec": {
   "display_name": "Python 3 (ipykernel)",
   "language": "python",
   "name": "python3"
  },
  "language_info": {
   "codemirror_mode": {
    "name": "ipython",
    "version": 3
   },
   "file_extension": ".py",
   "mimetype": "text/x-python",
   "name": "python",
   "nbconvert_exporter": "python",
   "pygments_lexer": "ipython3",
   "version": "3.11.7"
  }
 },
 "nbformat": 4,
 "nbformat_minor": 5
}
