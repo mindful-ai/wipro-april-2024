{
 "cells": [
  {
   "cell_type": "code",
   "execution_count": 3,
   "id": "c9882382-a420-41d3-a21d-a72cb17c4854",
   "metadata": {},
   "outputs": [
    {
     "name": "stdout",
     "output_type": "stream",
     "text": [
      "Hello World! Namaste\n"
     ]
    }
   ],
   "source": [
    "print(\"Hello World! Namaste\")"
   ]
  },
  {
   "cell_type": "markdown",
   "id": "5fabeb4d-7ed4-489e-be3d-ce458c8f7992",
   "metadata": {},
   "source": [
    "This is my first experiment in Jupyter Notebooks"
   ]
  },
  {
   "cell_type": "markdown",
   "id": "89854760-52f1-465e-91a8-9bf3ba706f36",
   "metadata": {},
   "source": [
    "### 1.1 Number Representation"
   ]
  },
  {
   "cell_type": "code",
   "execution_count": 1,
   "id": "37be4470-31ed-407c-aac3-e19a8a075ed2",
   "metadata": {},
   "outputs": [],
   "source": [
    "a = 10\n",
    "b = -14\n",
    "c = 3.14\n",
    "d = \"123.456\""
   ]
  },
  {
   "cell_type": "code",
   "execution_count": 2,
   "id": "b95cb3a4-10ce-45c3-aa27-4edc8ba66f58",
   "metadata": {},
   "outputs": [
    {
     "data": {
      "text/plain": [
       "int"
      ]
     },
     "execution_count": 2,
     "metadata": {},
     "output_type": "execute_result"
    }
   ],
   "source": [
    "type(a)"
   ]
  },
  {
   "cell_type": "code",
   "execution_count": 3,
   "id": "6fa35a45-c8fb-42af-8092-6648d0198ca9",
   "metadata": {},
   "outputs": [
    {
     "data": {
      "text/plain": [
       "int"
      ]
     },
     "execution_count": 3,
     "metadata": {},
     "output_type": "execute_result"
    }
   ],
   "source": [
    "type(b)"
   ]
  },
  {
   "cell_type": "code",
   "execution_count": 4,
   "id": "461e3f07-4ab0-4b5c-87bd-1dc2afd6164a",
   "metadata": {},
   "outputs": [
    {
     "data": {
      "text/plain": [
       "float"
      ]
     },
     "execution_count": 4,
     "metadata": {},
     "output_type": "execute_result"
    }
   ],
   "source": [
    "type(c)"
   ]
  },
  {
   "cell_type": "code",
   "execution_count": 5,
   "id": "e86e0cb2-7e55-4e9d-a77b-6afa142b89a7",
   "metadata": {},
   "outputs": [
    {
     "data": {
      "text/plain": [
       "str"
      ]
     },
     "execution_count": 5,
     "metadata": {},
     "output_type": "execute_result"
    }
   ],
   "source": [
    "a = \"python\"\n",
    "type(a)"
   ]
  },
  {
   "cell_type": "markdown",
   "id": "a9b478fe-673e-47f0-ac66-c7aa4b152951",
   "metadata": {},
   "source": [
    "### 1.2 Conversion of Numbers"
   ]
  },
  {
   "cell_type": "code",
   "execution_count": 6,
   "id": "55cda386-6c93-485b-a2b8-63feaef9935c",
   "metadata": {},
   "outputs": [
    {
     "data": {
      "text/plain": [
       "int"
      ]
     },
     "execution_count": 6,
     "metadata": {},
     "output_type": "execute_result"
    }
   ],
   "source": [
    "a = 100\n",
    "type(a)"
   ]
  },
  {
   "cell_type": "markdown",
   "id": "ebea80fa-44ff-4ceb-9c23-f945f7942b5b",
   "metadata": {},
   "source": [
    "To convert the number from one base to another use the following built-in functions:\n",
    "int(), bin(), oct(), hex()"
   ]
  },
  {
   "cell_type": "code",
   "execution_count": 7,
   "id": "f6491d3c-65d9-4c85-928a-28f6f96da638",
   "metadata": {},
   "outputs": [
    {
     "data": {
      "text/plain": [
       "'0x64'"
      ]
     },
     "execution_count": 7,
     "metadata": {},
     "output_type": "execute_result"
    }
   ],
   "source": [
    "hex(a)"
   ]
  },
  {
   "cell_type": "code",
   "execution_count": 8,
   "id": "15c8450b-3626-4874-a030-7118b3e5ecdc",
   "metadata": {},
   "outputs": [
    {
     "name": "stdout",
     "output_type": "stream",
     "text": [
      "0x64\n"
     ]
    }
   ],
   "source": [
    "t = hex(a)\n",
    "print(t)"
   ]
  },
  {
   "cell_type": "code",
   "execution_count": 9,
   "id": "0daabe05-0039-4523-92fc-8ace3e5a762c",
   "metadata": {},
   "outputs": [
    {
     "data": {
      "text/plain": [
       "str"
      ]
     },
     "execution_count": 9,
     "metadata": {},
     "output_type": "execute_result"
    }
   ],
   "source": [
    "type(t)"
   ]
  },
  {
   "cell_type": "code",
   "execution_count": 10,
   "id": "36b03091-e955-4057-bd60-e6e3d58b7863",
   "metadata": {},
   "outputs": [
    {
     "data": {
      "text/plain": [
       "'0o144'"
      ]
     },
     "execution_count": 10,
     "metadata": {},
     "output_type": "execute_result"
    }
   ],
   "source": [
    "oct(a)"
   ]
  },
  {
   "cell_type": "code",
   "execution_count": 11,
   "id": "e85d87dc-a95a-4a3a-a633-2fc65c7d026b",
   "metadata": {},
   "outputs": [
    {
     "data": {
      "text/plain": [
       "'0b1100100'"
      ]
     },
     "execution_count": 11,
     "metadata": {},
     "output_type": "execute_result"
    }
   ],
   "source": [
    "bin(a)"
   ]
  },
  {
   "cell_type": "code",
   "execution_count": 12,
   "id": "137ab6c9-dbee-4989-8e9d-2d4b61ca7138",
   "metadata": {},
   "outputs": [
    {
     "data": {
      "text/plain": [
       "'0x64'"
      ]
     },
     "execution_count": 12,
     "metadata": {},
     "output_type": "execute_result"
    }
   ],
   "source": [
    "t"
   ]
  },
  {
   "cell_type": "code",
   "execution_count": 13,
   "id": "b9f77486-50db-496a-87b6-18166d5170b7",
   "metadata": {},
   "outputs": [],
   "source": [
    "h = '0xFF00'"
   ]
  },
  {
   "cell_type": "code",
   "execution_count": 14,
   "id": "88820cbb-bcdb-434f-aabd-34d2fdb8cace",
   "metadata": {},
   "outputs": [
    {
     "ename": "ValueError",
     "evalue": "invalid literal for int() with base 10: '0xFF00'",
     "output_type": "error",
     "traceback": [
      "\u001b[1;31m---------------------------------------------------------------------------\u001b[0m",
      "\u001b[1;31mValueError\u001b[0m                                Traceback (most recent call last)",
      "Cell \u001b[1;32mIn[14], line 1\u001b[0m\n\u001b[1;32m----> 1\u001b[0m \u001b[38;5;28mint\u001b[39m(h)\n",
      "\u001b[1;31mValueError\u001b[0m: invalid literal for int() with base 10: '0xFF00'"
     ]
    }
   ],
   "source": [
    "int(h)"
   ]
  },
  {
   "cell_type": "code",
   "execution_count": 15,
   "id": "790aac23-3387-4699-8450-30144fcc623a",
   "metadata": {},
   "outputs": [
    {
     "data": {
      "text/plain": [
       "65280"
      ]
     },
     "execution_count": 15,
     "metadata": {},
     "output_type": "execute_result"
    }
   ],
   "source": [
    "int(h, base=16)"
   ]
  },
  {
   "cell_type": "markdown",
   "id": "d098045c-125b-45ee-a3af-9b5ebda7b163",
   "metadata": {},
   "source": [
    "##### Quick Test:\n",
    "Consider b = '101101', convert this to a integer value"
   ]
  },
  {
   "cell_type": "markdown",
   "id": "3575da53-2951-478c-8e00-19ad85ddd905",
   "metadata": {},
   "source": [
    "### 1.2 Operators for Numbers"
   ]
  },
  {
   "cell_type": "markdown",
   "id": "d8ae6e2f-d866-482e-862b-f81e4215e1ed",
   "metadata": {},
   "source": [
    "##### Arithmetic Operators: + - * / // **"
   ]
  },
  {
   "cell_type": "markdown",
   "id": "15c4d45f-9e67-4cf9-9378-f87c0d32abac",
   "metadata": {},
   "source": [
    "##### Relational Operators: > < <= >= == !="
   ]
  },
  {
   "cell_type": "markdown",
   "id": "77315eee-4360-453f-8c0d-7a3db03c174c",
   "metadata": {},
   "source": [
    "##### Logical Operators: and or not"
   ]
  },
  {
   "cell_type": "markdown",
   "id": "7e400f4a-beb7-4d1d-867c-9b017b260610",
   "metadata": {},
   "source": [
    "##### Ternary Operator: x if y else z"
   ]
  },
  {
   "cell_type": "code",
   "execution_count": 16,
   "id": "8c95e4db-94c1-4f46-92a2-577932066baa",
   "metadata": {},
   "outputs": [],
   "source": [
    "a = 10\n",
    "b = 3"
   ]
  },
  {
   "cell_type": "code",
   "execution_count": 17,
   "id": "51783e80-897a-4d10-84ab-88cf6b693e5f",
   "metadata": {},
   "outputs": [
    {
     "name": "stdout",
     "output_type": "stream",
     "text": [
      "13\n"
     ]
    }
   ],
   "source": [
    "p = a + b\n",
    "print(p)"
   ]
  },
  {
   "cell_type": "code",
   "execution_count": 18,
   "id": "a05a251d-e215-4b3a-bff0-2b771504bc70",
   "metadata": {},
   "outputs": [
    {
     "data": {
      "text/plain": [
       "13"
      ]
     },
     "execution_count": 18,
     "metadata": {},
     "output_type": "execute_result"
    }
   ],
   "source": [
    "a + b"
   ]
  },
  {
   "cell_type": "code",
   "execution_count": 19,
   "id": "af2b95c7-ed58-46fe-b7c8-f3da3b89fd65",
   "metadata": {},
   "outputs": [
    {
     "data": {
      "text/plain": [
       "7"
      ]
     },
     "execution_count": 19,
     "metadata": {},
     "output_type": "execute_result"
    }
   ],
   "source": [
    "a - b"
   ]
  },
  {
   "cell_type": "code",
   "execution_count": 20,
   "id": "1f51e9f4-c8dc-45d0-9142-ffa6c3fcd44c",
   "metadata": {},
   "outputs": [
    {
     "data": {
      "text/plain": [
       "30"
      ]
     },
     "execution_count": 20,
     "metadata": {},
     "output_type": "execute_result"
    }
   ],
   "source": [
    "a * b"
   ]
  },
  {
   "cell_type": "code",
   "execution_count": 21,
   "id": "18e9203b-9f71-4dfd-899a-4fe8e4ad8475",
   "metadata": {},
   "outputs": [
    {
     "data": {
      "text/plain": [
       "3.3333333333333335"
      ]
     },
     "execution_count": 21,
     "metadata": {},
     "output_type": "execute_result"
    }
   ],
   "source": [
    "a / b"
   ]
  },
  {
   "cell_type": "code",
   "execution_count": 22,
   "id": "c224bc3a-99ea-4ce1-9c23-5e7eb20c4738",
   "metadata": {},
   "outputs": [
    {
     "data": {
      "text/plain": [
       "3"
      ]
     },
     "execution_count": 22,
     "metadata": {},
     "output_type": "execute_result"
    }
   ],
   "source": [
    "a // b"
   ]
  },
  {
   "cell_type": "code",
   "execution_count": 23,
   "id": "6d702b8d-4932-4168-a6c5-6a4fb1f3fefc",
   "metadata": {},
   "outputs": [
    {
     "data": {
      "text/plain": [
       "1"
      ]
     },
     "execution_count": 23,
     "metadata": {},
     "output_type": "execute_result"
    }
   ],
   "source": [
    "a % b"
   ]
  },
  {
   "cell_type": "code",
   "execution_count": 24,
   "id": "2c78bbc7-4fd9-42e0-94c9-bfffcf1594ff",
   "metadata": {},
   "outputs": [
    {
     "data": {
      "text/plain": [
       "True"
      ]
     },
     "execution_count": 24,
     "metadata": {},
     "output_type": "execute_result"
    }
   ],
   "source": [
    "a > b"
   ]
  },
  {
   "cell_type": "code",
   "execution_count": 25,
   "id": "77792904-59f9-4d1b-8f72-97ae242a4fc6",
   "metadata": {},
   "outputs": [
    {
     "data": {
      "text/plain": [
       "False"
      ]
     },
     "execution_count": 25,
     "metadata": {},
     "output_type": "execute_result"
    }
   ],
   "source": [
    "a < b"
   ]
  },
  {
   "cell_type": "code",
   "execution_count": 26,
   "id": "c839f017-f28f-4b64-b134-5fd794117028",
   "metadata": {},
   "outputs": [
    {
     "data": {
      "text/plain": [
       "True"
      ]
     },
     "execution_count": 26,
     "metadata": {},
     "output_type": "execute_result"
    }
   ],
   "source": [
    "a >= b"
   ]
  },
  {
   "cell_type": "code",
   "execution_count": 27,
   "id": "5e9fb449-af8e-41db-952d-37276a842fc9",
   "metadata": {},
   "outputs": [
    {
     "data": {
      "text/plain": [
       "False"
      ]
     },
     "execution_count": 27,
     "metadata": {},
     "output_type": "execute_result"
    }
   ],
   "source": [
    "a <= b"
   ]
  },
  {
   "cell_type": "code",
   "execution_count": 28,
   "id": "0667df41-a571-486d-92b6-3dacc3968b04",
   "metadata": {},
   "outputs": [
    {
     "data": {
      "text/plain": [
       "False"
      ]
     },
     "execution_count": 28,
     "metadata": {},
     "output_type": "execute_result"
    }
   ],
   "source": [
    "a == b"
   ]
  },
  {
   "cell_type": "code",
   "execution_count": 29,
   "id": "cd54daad-0d93-40f7-9fd2-5685eefa20f7",
   "metadata": {},
   "outputs": [
    {
     "data": {
      "text/plain": [
       "True"
      ]
     },
     "execution_count": 29,
     "metadata": {},
     "output_type": "execute_result"
    }
   ],
   "source": [
    "a != b"
   ]
  },
  {
   "cell_type": "code",
   "execution_count": 30,
   "id": "6eabae59-88a7-49e6-8d88-6806f2e1a68a",
   "metadata": {},
   "outputs": [
    {
     "data": {
      "text/plain": [
       "True"
      ]
     },
     "execution_count": 30,
     "metadata": {},
     "output_type": "execute_result"
    }
   ],
   "source": [
    "a == b**2+1"
   ]
  },
  {
   "cell_type": "code",
   "execution_count": 31,
   "id": "0b6bc0df-bebb-472e-adbc-032e1bdc350e",
   "metadata": {},
   "outputs": [
    {
     "data": {
      "text/plain": [
       "True"
      ]
     },
     "execution_count": 31,
     "metadata": {},
     "output_type": "execute_result"
    }
   ],
   "source": [
    "a > 10 or b < a"
   ]
  },
  {
   "cell_type": "code",
   "execution_count": 32,
   "id": "3fe0387e-6b5b-42b1-8429-53738c8f93dd",
   "metadata": {},
   "outputs": [
    {
     "data": {
      "text/plain": [
       "False"
      ]
     },
     "execution_count": 32,
     "metadata": {},
     "output_type": "execute_result"
    }
   ],
   "source": [
    "a > 10 and b < a"
   ]
  },
  {
   "cell_type": "code",
   "execution_count": 33,
   "id": "a606ffd9-4376-4460-ab8e-931f3df5163f",
   "metadata": {},
   "outputs": [
    {
     "data": {
      "text/plain": [
       "True"
      ]
     },
     "execution_count": 33,
     "metadata": {},
     "output_type": "execute_result"
    }
   ],
   "source": [
    "not a > 10 and b < a"
   ]
  },
  {
   "cell_type": "code",
   "execution_count": 35,
   "id": "d7b9ea48-b171-4f85-9fbf-589d40ea7cbd",
   "metadata": {},
   "outputs": [
    {
     "data": {
      "text/plain": [
       "1000"
      ]
     },
     "execution_count": 35,
     "metadata": {},
     "output_type": "execute_result"
    }
   ],
   "source": [
    "x = a**2 if a < b else a**3\n",
    "x"
   ]
  },
  {
   "cell_type": "markdown",
   "id": "94eadcb4-4dac-42fa-af3e-2e3fbbb29723",
   "metadata": {},
   "source": [
    "##### Quick Test:\n",
    "Write the quadratic equation in python"
   ]
  },
  {
   "cell_type": "markdown",
   "id": "4c02431a-0995-4f43-a579-8c0a4be9b904",
   "metadata": {},
   "source": [
    "##### Bit wise operation in python"
   ]
  },
  {
   "cell_type": "code",
   "execution_count": 36,
   "id": "80379ff8-a394-40ea-a32e-d4fa2564eeb6",
   "metadata": {},
   "outputs": [],
   "source": [
    "a = 10 # 1010\n",
    "b = 5  # 0101"
   ]
  },
  {
   "cell_type": "code",
   "execution_count": 37,
   "id": "e4ab32c8-d0b8-46c0-a5da-436f4ceb212d",
   "metadata": {},
   "outputs": [
    {
     "data": {
      "text/plain": [
       "0"
      ]
     },
     "execution_count": 37,
     "metadata": {},
     "output_type": "execute_result"
    }
   ],
   "source": [
    "a & b"
   ]
  },
  {
   "cell_type": "code",
   "execution_count": 38,
   "id": "36b2cdf6-55e3-48e4-8a21-f34ff28e5325",
   "metadata": {},
   "outputs": [
    {
     "data": {
      "text/plain": [
       "15"
      ]
     },
     "execution_count": 38,
     "metadata": {},
     "output_type": "execute_result"
    }
   ],
   "source": [
    "a | b"
   ]
  },
  {
   "cell_type": "code",
   "execution_count": 39,
   "id": "d42e0ad3-db6d-4514-befb-dabd458be8a4",
   "metadata": {},
   "outputs": [
    {
     "data": {
      "text/plain": [
       "-11"
      ]
     },
     "execution_count": 39,
     "metadata": {},
     "output_type": "execute_result"
    }
   ],
   "source": [
    "~a"
   ]
  },
  {
   "cell_type": "code",
   "execution_count": 40,
   "id": "86413812-db3f-4ee7-b6ac-fa270c18081a",
   "metadata": {},
   "outputs": [
    {
     "data": {
      "text/plain": [
       "15"
      ]
     },
     "execution_count": 40,
     "metadata": {},
     "output_type": "execute_result"
    }
   ],
   "source": [
    "a ^ b"
   ]
  },
  {
   "cell_type": "code",
   "execution_count": 41,
   "id": "45734eab-4bb7-4745-8b97-9ad7e81c882c",
   "metadata": {},
   "outputs": [
    {
     "data": {
      "text/plain": [
       "5"
      ]
     },
     "execution_count": 41,
     "metadata": {},
     "output_type": "execute_result"
    }
   ],
   "source": [
    "a >> 1"
   ]
  },
  {
   "cell_type": "code",
   "execution_count": 42,
   "id": "0031d0b4-34f0-4d03-bd23-61c1650477e0",
   "metadata": {},
   "outputs": [
    {
     "data": {
      "text/plain": [
       "20"
      ]
     },
     "execution_count": 42,
     "metadata": {},
     "output_type": "execute_result"
    }
   ],
   "source": [
    "a << 1"
   ]
  },
  {
   "cell_type": "markdown",
   "id": "804d44cd-d0fb-4487-a764-ae0c395ed5d1",
   "metadata": {},
   "source": [
    "### 1.3 In-Built Modules: math, random, statistics"
   ]
  },
  {
   "cell_type": "code",
   "execution_count": 43,
   "id": "f3c4bf45-de09-4544-b4ef-c71e558306ff",
   "metadata": {},
   "outputs": [],
   "source": [
    "# Calculate the sine of a particular angle"
   ]
  },
  {
   "cell_type": "code",
   "execution_count": 45,
   "id": "8ad870ca-2849-40c4-a0e1-5b172c90c6de",
   "metadata": {},
   "outputs": [],
   "source": [
    "a = 90 # angle in degrees"
   ]
  },
  {
   "cell_type": "code",
   "execution_count": 50,
   "id": "0085fa46-f80a-4fb0-a2e6-bc73b21dc7ad",
   "metadata": {},
   "outputs": [
    {
     "data": {
      "text/plain": [
       "0.8939966636005579"
      ]
     },
     "execution_count": 50,
     "metadata": {},
     "output_type": "execute_result"
    }
   ],
   "source": [
    "import math\n",
    "math.sin(90)"
   ]
  },
  {
   "cell_type": "code",
   "execution_count": 51,
   "id": "17ebfc36-d732-40ea-9753-dba44df6a1f2",
   "metadata": {},
   "outputs": [],
   "source": [
    "# sin(90) = 1"
   ]
  },
  {
   "cell_type": "code",
   "execution_count": 52,
   "id": "4b4cba39-f099-4461-9b95-177b8eebcb72",
   "metadata": {},
   "outputs": [
    {
     "data": {
      "text/plain": [
       "0.9999996829318346"
      ]
     },
     "execution_count": 52,
     "metadata": {},
     "output_type": "execute_result"
    }
   ],
   "source": [
    "math.sin(90 * 3.14/180)"
   ]
  },
  {
   "cell_type": "code",
   "execution_count": 53,
   "id": "588be604-721b-4c81-afc9-df6fcf7e3e99",
   "metadata": {},
   "outputs": [
    {
     "data": {
      "text/plain": [
       "0.9999999999991198"
      ]
     },
     "execution_count": 53,
     "metadata": {},
     "output_type": "execute_result"
    }
   ],
   "source": [
    "math.sin(90 * 3.14159/180)"
   ]
  },
  {
   "cell_type": "code",
   "execution_count": 54,
   "id": "0c414cc3-9f71-49f4-bdda-de61cdd507fc",
   "metadata": {},
   "outputs": [
    {
     "data": {
      "text/plain": [
       "0.9979287170421117"
      ]
     },
     "execution_count": 54,
     "metadata": {},
     "output_type": "execute_result"
    }
   ],
   "source": [
    "math.sin(90 * (22/7)*180)"
   ]
  },
  {
   "cell_type": "code",
   "execution_count": 55,
   "id": "7df0b9c3-3bcd-4936-90d3-fb529019a166",
   "metadata": {},
   "outputs": [
    {
     "data": {
      "text/plain": [
       "1.0"
      ]
     },
     "execution_count": 55,
     "metadata": {},
     "output_type": "execute_result"
    }
   ],
   "source": [
    "math.sin(math.radians(90))"
   ]
  },
  {
   "cell_type": "code",
   "execution_count": 56,
   "id": "8f07b27e-89b2-4cb9-b531-b22d7f8cfc94",
   "metadata": {},
   "outputs": [
    {
     "data": {
      "text/plain": [
       "1.0"
      ]
     },
     "execution_count": 56,
     "metadata": {},
     "output_type": "execute_result"
    }
   ],
   "source": [
    "math.sin(90 * math.pi/180)"
   ]
  },
  {
   "cell_type": "code",
   "execution_count": 57,
   "id": "9d967cc9-e0b6-4c98-a2ba-c3d3203a79c0",
   "metadata": {},
   "outputs": [
    {
     "data": {
      "text/plain": [
       "20"
      ]
     },
     "execution_count": 57,
     "metadata": {},
     "output_type": "execute_result"
    }
   ],
   "source": [
    "import random\n",
    "random.randint(1, 100)"
   ]
  },
  {
   "cell_type": "code",
   "execution_count": 58,
   "id": "bc02a212-e073-44af-9db2-78a0d61b7f6b",
   "metadata": {},
   "outputs": [
    {
     "data": {
      "text/plain": [
       "88"
      ]
     },
     "execution_count": 58,
     "metadata": {},
     "output_type": "execute_result"
    }
   ],
   "source": [
    "random.randint(1, 100)"
   ]
  },
  {
   "cell_type": "code",
   "execution_count": 59,
   "id": "08b2ae5e-a973-4b12-9417-63c61f11b11c",
   "metadata": {},
   "outputs": [
    {
     "data": {
      "text/plain": [
       "54"
      ]
     },
     "execution_count": 59,
     "metadata": {},
     "output_type": "execute_result"
    }
   ],
   "source": [
    "random.randint(1, 100)"
   ]
  },
  {
   "cell_type": "code",
   "execution_count": 60,
   "id": "faa7c944-8ed0-4111-839c-8c0015f912ac",
   "metadata": {},
   "outputs": [
    {
     "data": {
      "text/plain": [
       "6"
      ]
     },
     "execution_count": 60,
     "metadata": {},
     "output_type": "execute_result"
    }
   ],
   "source": [
    "random.randint(1, 100)"
   ]
  },
  {
   "cell_type": "code",
   "execution_count": 61,
   "id": "ff8ad7e8-e052-4a73-ae27-19bc55aa8f71",
   "metadata": {},
   "outputs": [
    {
     "data": {
      "text/plain": [
       "92"
      ]
     },
     "execution_count": 61,
     "metadata": {},
     "output_type": "execute_result"
    }
   ],
   "source": [
    "random.randint(1, 100)"
   ]
  },
  {
   "cell_type": "code",
   "execution_count": 62,
   "id": "5b05be3b-31ae-4683-a2bc-09261c6ac71d",
   "metadata": {},
   "outputs": [],
   "source": [
    "N = [1, 5, 6, 7, 5, 5, 8, 9, 0, 7]"
   ]
  },
  {
   "cell_type": "code",
   "execution_count": 63,
   "id": "a29a86fd-c1a2-4a42-a10d-302158c2ff46",
   "metadata": {},
   "outputs": [],
   "source": [
    "from statistics import mean, median, mode"
   ]
  },
  {
   "cell_type": "code",
   "execution_count": 64,
   "id": "183dfc09-9530-4ea2-a112-e54fba2cb458",
   "metadata": {},
   "outputs": [
    {
     "data": {
      "text/plain": [
       "5.3"
      ]
     },
     "execution_count": 64,
     "metadata": {},
     "output_type": "execute_result"
    }
   ],
   "source": [
    "mean(N)"
   ]
  },
  {
   "cell_type": "code",
   "execution_count": 65,
   "id": "b9ddb5d1-4ac0-4d86-b1c5-22f5709c16ea",
   "metadata": {},
   "outputs": [
    {
     "data": {
      "text/plain": [
       "5.5"
      ]
     },
     "execution_count": 65,
     "metadata": {},
     "output_type": "execute_result"
    }
   ],
   "source": [
    "median(N)"
   ]
  },
  {
   "cell_type": "code",
   "execution_count": 66,
   "id": "f4e88c04-6d30-4c80-9cd9-4b7ee7295a97",
   "metadata": {},
   "outputs": [
    {
     "data": {
      "text/plain": [
       "5"
      ]
     },
     "execution_count": 66,
     "metadata": {},
     "output_type": "execute_result"
    }
   ],
   "source": [
    "mode(N)"
   ]
  },
  {
   "cell_type": "markdown",
   "id": "f188046f-05a2-44a6-9eeb-4687a0c18ae1",
   "metadata": {},
   "source": [
    "##### Quick Test:\n",
    "Calculate the GCD for (14, 21) using math module  \n"
   ]
  },
  {
   "cell_type": "markdown",
   "id": "4f7ab789-e596-41f2-b353-73a9b1bede9c",
   "metadata": {},
   "source": [
    "##### Quick Test:\n",
    "Calculate the area of the circle with radius = 10 meters"
   ]
  },
  {
   "cell_type": "code",
   "execution_count": null,
   "id": "e56e4af5-c13e-4640-ab45-5508d6b687ee",
   "metadata": {},
   "outputs": [],
   "source": []
  }
 ],
 "metadata": {
  "kernelspec": {
   "display_name": "Python 3 (ipykernel)",
   "language": "python",
   "name": "python3"
  },
  "language_info": {
   "codemirror_mode": {
    "name": "ipython",
    "version": 3
   },
   "file_extension": ".py",
   "mimetype": "text/x-python",
   "name": "python",
   "nbconvert_exporter": "python",
   "pygments_lexer": "ipython3",
   "version": "3.11.7"
  }
 },
 "nbformat": 4,
 "nbformat_minor": 5
}
