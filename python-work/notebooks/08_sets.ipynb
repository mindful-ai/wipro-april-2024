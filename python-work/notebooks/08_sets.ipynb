{
 "cells": [
  {
   "cell_type": "markdown",
   "id": "f6aeab59-737f-4860-8f7a-e49ee53f926e",
   "metadata": {},
   "source": [
    "# Sets"
   ]
  },
  {
   "cell_type": "markdown",
   "id": "e3a01e8e-f3cf-4811-a5e9-0b29dfa870be",
   "metadata": {},
   "source": [
    "### 8.1 Creating and understanding sets"
   ]
  },
  {
   "cell_type": "code",
   "execution_count": 1,
   "id": "f7aba043-a88a-4fd4-88fa-3e068fa28466",
   "metadata": {},
   "outputs": [],
   "source": [
    "s = \"mississippi\""
   ]
  },
  {
   "cell_type": "code",
   "execution_count": 2,
   "id": "08b227ad-3d04-4e22-8fcb-e25c4265fcdc",
   "metadata": {},
   "outputs": [
    {
     "data": {
      "text/plain": [
       "['m', 'i', 's', 's', 'i', 's', 's', 'i', 'p', 'p', 'i']"
      ]
     },
     "execution_count": 2,
     "metadata": {},
     "output_type": "execute_result"
    }
   ],
   "source": [
    "list(s)"
   ]
  },
  {
   "cell_type": "code",
   "execution_count": 3,
   "id": "e340762e-0787-4562-a6cc-224c6ce6813b",
   "metadata": {},
   "outputs": [
    {
     "data": {
      "text/plain": [
       "('m', 'i', 's', 's', 'i', 's', 's', 'i', 'p', 'p', 'i')"
      ]
     },
     "execution_count": 3,
     "metadata": {},
     "output_type": "execute_result"
    }
   ],
   "source": [
    "tuple(s)"
   ]
  },
  {
   "cell_type": "code",
   "execution_count": 4,
   "id": "da833843-8533-4c17-a413-0cdabb96ade8",
   "metadata": {},
   "outputs": [
    {
     "data": {
      "text/plain": [
       "{'i', 'm', 'p', 's'}"
      ]
     },
     "execution_count": 4,
     "metadata": {},
     "output_type": "execute_result"
    }
   ],
   "source": [
    "set(s)"
   ]
  },
  {
   "cell_type": "code",
   "execution_count": 5,
   "id": "f41d4c5b-40a8-4719-ba42-58e6259140ff",
   "metadata": {},
   "outputs": [
    {
     "data": {
      "text/plain": [
       "{'a', 'b', 'c', 'd', 'e', 'f', 'g', 'h'}"
      ]
     },
     "execution_count": 5,
     "metadata": {},
     "output_type": "execute_result"
    }
   ],
   "source": [
    "s1 = set(\"abcedefgh\")\n",
    "s1"
   ]
  },
  {
   "cell_type": "code",
   "execution_count": 6,
   "id": "b9094626-7b8c-4e62-9ed2-7c01eb17b0cb",
   "metadata": {},
   "outputs": [],
   "source": [
    "s2 = {'f', 'g', 'h', 'i', 'j', 'k', 'l'}"
   ]
  },
  {
   "cell_type": "code",
   "execution_count": 7,
   "id": "f338d12a-701d-4662-8203-cc7c41967655",
   "metadata": {},
   "outputs": [
    {
     "data": {
      "text/plain": [
       "{'a', 'b', 'c', 'd', 'e', 'f', 'g', 'h'}"
      ]
     },
     "execution_count": 7,
     "metadata": {},
     "output_type": "execute_result"
    }
   ],
   "source": [
    "s1"
   ]
  },
  {
   "cell_type": "code",
   "execution_count": 8,
   "id": "d5f8b25f-2f7e-43a8-899a-b44c30e6fb02",
   "metadata": {},
   "outputs": [
    {
     "data": {
      "text/plain": [
       "{'f', 'g', 'h', 'i', 'j', 'k', 'l'}"
      ]
     },
     "execution_count": 8,
     "metadata": {},
     "output_type": "execute_result"
    }
   ],
   "source": [
    "s2"
   ]
  },
  {
   "cell_type": "markdown",
   "id": "7cf8b7cd-a7f9-4ad8-9516-d1de2a6e7cb7",
   "metadata": {},
   "source": [
    "### 8.2 Operations on sets"
   ]
  },
  {
   "cell_type": "code",
   "execution_count": 9,
   "id": "e7384098-6f36-4966-8962-9bc7ae411ac6",
   "metadata": {},
   "outputs": [
    {
     "data": {
      "text/plain": [
       "{'f', 'g', 'h'}"
      ]
     },
     "execution_count": 9,
     "metadata": {},
     "output_type": "execute_result"
    }
   ],
   "source": [
    "s1 & s2"
   ]
  },
  {
   "cell_type": "code",
   "execution_count": 10,
   "id": "f81f333a-7a31-48af-bb66-d78ee10d5a7a",
   "metadata": {},
   "outputs": [
    {
     "data": {
      "text/plain": [
       "{'a', 'b', 'c', 'd', 'e', 'f', 'g', 'h', 'i', 'j', 'k', 'l'}"
      ]
     },
     "execution_count": 10,
     "metadata": {},
     "output_type": "execute_result"
    }
   ],
   "source": [
    "s1 | s2"
   ]
  },
  {
   "cell_type": "code",
   "execution_count": 11,
   "id": "559fd71d-9f5a-4c3c-aab4-7cb46dadaf9f",
   "metadata": {},
   "outputs": [
    {
     "data": {
      "text/plain": [
       "{'a', 'b', 'c', 'd', 'e', 'i', 'j', 'k', 'l'}"
      ]
     },
     "execution_count": 11,
     "metadata": {},
     "output_type": "execute_result"
    }
   ],
   "source": [
    "s1 ^ s2"
   ]
  },
  {
   "cell_type": "code",
   "execution_count": 12,
   "id": "e8a06f2a-1c15-409c-8248-891480b8d3a3",
   "metadata": {},
   "outputs": [
    {
     "data": {
      "text/plain": [
       "{'a', 'b', 'c', 'd', 'e', 'f', 'g', 'h'}"
      ]
     },
     "execution_count": 12,
     "metadata": {},
     "output_type": "execute_result"
    }
   ],
   "source": [
    "s1"
   ]
  },
  {
   "cell_type": "code",
   "execution_count": 13,
   "id": "41717352-6070-480e-906b-4a431c7ea2d7",
   "metadata": {},
   "outputs": [],
   "source": [
    "s1.add('x')"
   ]
  },
  {
   "cell_type": "code",
   "execution_count": 14,
   "id": "18f52070-a174-44fa-95b0-68ee32993e0b",
   "metadata": {},
   "outputs": [
    {
     "data": {
      "text/plain": [
       "{'a', 'b', 'c', 'd', 'e', 'f', 'g', 'h', 'x'}"
      ]
     },
     "execution_count": 14,
     "metadata": {},
     "output_type": "execute_result"
    }
   ],
   "source": [
    "s1"
   ]
  },
  {
   "cell_type": "code",
   "execution_count": 15,
   "id": "62c018ae-782f-4d60-956d-2a4b342fff70",
   "metadata": {},
   "outputs": [
    {
     "data": {
      "text/plain": [
       "{'a', 'b', 'c', 'd', 'e', 'f', 'g', 'h', 'x', 'y', 'z'}"
      ]
     },
     "execution_count": 15,
     "metadata": {},
     "output_type": "execute_result"
    }
   ],
   "source": [
    "s1.update({'y', 'z'})\n",
    "s1"
   ]
  },
  {
   "cell_type": "code",
   "execution_count": 16,
   "id": "70be3270-1b22-4b25-91b1-13918f18609b",
   "metadata": {},
   "outputs": [
    {
     "ename": "TypeError",
     "evalue": "'set' object is not subscriptable",
     "output_type": "error",
     "traceback": [
      "\u001b[1;31m---------------------------------------------------------------------------\u001b[0m",
      "\u001b[1;31mTypeError\u001b[0m                                 Traceback (most recent call last)",
      "Cell \u001b[1;32mIn[16], line 1\u001b[0m\n\u001b[1;32m----> 1\u001b[0m s1[\u001b[38;5;241m0\u001b[39m]\n",
      "\u001b[1;31mTypeError\u001b[0m: 'set' object is not subscriptable"
     ]
    }
   ],
   "source": [
    "s1[0]"
   ]
  },
  {
   "cell_type": "code",
   "execution_count": 17,
   "id": "ee6e6932-969d-44c9-af9f-3e9011532420",
   "metadata": {},
   "outputs": [],
   "source": [
    "s1.remove('x')"
   ]
  },
  {
   "cell_type": "code",
   "execution_count": 18,
   "id": "dda29ea4-9309-4240-b7a0-3101673a9f4f",
   "metadata": {},
   "outputs": [
    {
     "data": {
      "text/plain": [
       "{'a', 'b', 'c', 'd', 'e', 'f', 'g', 'h', 'y', 'z'}"
      ]
     },
     "execution_count": 18,
     "metadata": {},
     "output_type": "execute_result"
    }
   ],
   "source": [
    "s1"
   ]
  },
  {
   "cell_type": "code",
   "execution_count": 19,
   "id": "95411867-1c20-454d-9b4e-e9abaaff5b56",
   "metadata": {},
   "outputs": [
    {
     "data": {
      "text/plain": [
       "{'a', 'b', 'c', 'd', 'e', 'y', 'z'}"
      ]
     },
     "execution_count": 19,
     "metadata": {},
     "output_type": "execute_result"
    }
   ],
   "source": [
    "s1.difference(s2)"
   ]
  },
  {
   "cell_type": "code",
   "execution_count": 20,
   "id": "f2d42d4c-64dc-4b08-94b6-42adacc6c31e",
   "metadata": {},
   "outputs": [
    {
     "data": {
      "text/plain": [
       "{'a', 'b', 'c', 'd', 'e', 'y', 'z'}"
      ]
     },
     "execution_count": 20,
     "metadata": {},
     "output_type": "execute_result"
    }
   ],
   "source": [
    "s1 - s2"
   ]
  },
  {
   "cell_type": "code",
   "execution_count": 21,
   "id": "9b0f3e84-f809-4158-970b-ebf9a131739d",
   "metadata": {},
   "outputs": [
    {
     "data": {
      "text/plain": [
       "{'a', 'b', 'c', 'd', 'e', 'f', 'g', 'h', 'i', 'j', 'k', 'l', 'y', 'z'}"
      ]
     },
     "execution_count": 21,
     "metadata": {},
     "output_type": "execute_result"
    }
   ],
   "source": [
    "s1.union(s2)"
   ]
  },
  {
   "cell_type": "code",
   "execution_count": 22,
   "id": "30f346c1-c421-4dd5-a2d9-1e46b4cc7207",
   "metadata": {},
   "outputs": [
    {
     "data": {
      "text/plain": [
       "{'f', 'g', 'h'}"
      ]
     },
     "execution_count": 22,
     "metadata": {},
     "output_type": "execute_result"
    }
   ],
   "source": [
    "s1.intersection(s2)"
   ]
  },
  {
   "cell_type": "code",
   "execution_count": 28,
   "id": "4cda954b-5f03-40a0-a972-048a29e3a478",
   "metadata": {},
   "outputs": [
    {
     "data": {
      "text/plain": [
       "False"
      ]
     },
     "execution_count": 28,
     "metadata": {},
     "output_type": "execute_result"
    }
   ],
   "source": [
    "s1.issubset({'a', 'b', 'c'})"
   ]
  },
  {
   "cell_type": "code",
   "execution_count": 29,
   "id": "05240866-121d-48ff-9d5d-38bcb2c19b9f",
   "metadata": {},
   "outputs": [
    {
     "data": {
      "text/plain": [
       "{'a', 'b', 'c', 'd', 'e', 'f', 'g', 'h', 'y', 'z'}"
      ]
     },
     "execution_count": 29,
     "metadata": {},
     "output_type": "execute_result"
    }
   ],
   "source": [
    "s1"
   ]
  },
  {
   "cell_type": "code",
   "execution_count": 30,
   "id": "9f0f7958-c4aa-47fc-adb3-a5b8c9bfbb75",
   "metadata": {},
   "outputs": [],
   "source": [
    "s3 = {'a', 'b', 'c'}"
   ]
  },
  {
   "cell_type": "code",
   "execution_count": 31,
   "id": "320ba54b-a135-453a-8eaa-b0416b370084",
   "metadata": {},
   "outputs": [
    {
     "data": {
      "text/plain": [
       "True"
      ]
     },
     "execution_count": 31,
     "metadata": {},
     "output_type": "execute_result"
    }
   ],
   "source": [
    "s3.issubset(s1) # is s3 a subset of s1?"
   ]
  },
  {
   "cell_type": "code",
   "execution_count": 32,
   "id": "7bcc5a07-c1e0-43a7-afb7-cf8b715b4685",
   "metadata": {},
   "outputs": [
    {
     "data": {
      "text/plain": [
       "False"
      ]
     },
     "execution_count": 32,
     "metadata": {},
     "output_type": "execute_result"
    }
   ],
   "source": [
    "s1.issubset(s3)"
   ]
  },
  {
   "cell_type": "code",
   "execution_count": 33,
   "id": "6c82203c-92fb-48ed-8e4e-5ab30558c123",
   "metadata": {},
   "outputs": [
    {
     "data": {
      "text/plain": [
       "True"
      ]
     },
     "execution_count": 33,
     "metadata": {},
     "output_type": "execute_result"
    }
   ],
   "source": [
    "{'a', 'b', 'c'}.issubset(s1)"
   ]
  },
  {
   "cell_type": "markdown",
   "id": "11d8453e-eeec-42fa-b5f9-c8ffbe8e62f1",
   "metadata": {},
   "source": [
    "##### Quick Test:\n"
   ]
  },
  {
   "cell_type": "markdown",
   "id": "3bdd6784-9aff-4bfe-9ed3-75d83dab6966",
   "metadata": {},
   "source": [
    "L = [ (\"Ramesh\", \"Game A\", 15),\n",
    "      (\"Anil\", \"Game B\", 17),\n",
    "      (\"Sunil\", \"Game C\", 14),\n",
    "      (\"Raj\", \"Game D\", 19),\n",
    "      (\"Raj\", \"Game A\", 23),\n",
    "      (\"Sunil\", \"Game B\", 13),\n",
    "      (\"Anil\", \"Game A\", 17), \n",
    "      (\"Raj\", \"Game C\", 9) ]\n",
    "      "
   ]
  },
  {
   "cell_type": "markdown",
   "id": "2770091a-840c-4a6b-bb00-a30dbd0144fb",
   "metadata": {},
   "source": [
    "Expected output:\n",
    "unique_players = [\"Ramesh\", \"Anil\", \"Sunil\", \"Raj\"]\n",
    "unique_games = [\"Game A\", \"Game B\", \"Game C\", \"Game D\"]\n",
    "total_scores = [(\"Ramesh\", 15), (\"Anil\", 34) ...]"
   ]
  },
  {
   "cell_type": "markdown",
   "id": "23d1e3ca-a301-4c9b-a489-059e6cfbbb14",
   "metadata": {},
   "source": [
    "Hint:\n",
    "total_scores = []\n",
    "total_scores.append((\"Raj\", 15))\n",
    "total_scores"
   ]
  },
  {
   "cell_type": "code",
   "execution_count": null,
   "id": "70305fb6-7bea-4838-b0cc-850558894d1e",
   "metadata": {},
   "outputs": [],
   "source": []
  }
 ],
 "metadata": {
  "kernelspec": {
   "display_name": "Python 3 (ipykernel)",
   "language": "python",
   "name": "python3"
  },
  "language_info": {
   "codemirror_mode": {
    "name": "ipython",
    "version": 3
   },
   "file_extension": ".py",
   "mimetype": "text/x-python",
   "name": "python",
   "nbconvert_exporter": "python",
   "pygments_lexer": "ipython3",
   "version": "3.11.7"
  }
 },
 "nbformat": 4,
 "nbformat_minor": 5
}
