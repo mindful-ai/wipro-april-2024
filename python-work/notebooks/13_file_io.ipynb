{
 "cells": [
  {
   "cell_type": "markdown",
   "id": "d8c5993c-cd70-4854-b19f-16b1517bad55",
   "metadata": {},
   "source": [
    "# File IO"
   ]
  },
  {
   "cell_type": "markdown",
   "id": "37e81984-8d5b-4c64-b50c-9d802c8737f1",
   "metadata": {},
   "source": [
    "### 13.1 Different functions"
   ]
  },
  {
   "cell_type": "markdown",
   "id": "d788c80a-4cfa-4c0c-a108-d7a21bcc08f2",
   "metadata": {},
   "source": [
    "open(<filename>, <mode>)\n",
    "mode - r, w, a, b\n",
    "close()"
   ]
  },
  {
   "cell_type": "markdown",
   "id": "ef0e4683-9f96-4c59-9fdf-fb3b88e2ce3c",
   "metadata": {},
   "source": [
    "read()\n",
    "readline()\n",
    "readlines()"
   ]
  },
  {
   "cell_type": "markdown",
   "id": "803a6037-639a-4d9c-a4a2-b217c92c9346",
   "metadata": {},
   "source": [
    "write()\n",
    "writelines()"
   ]
  },
  {
   "cell_type": "markdown",
   "id": "6c5ce5fd-a8ba-4552-bd24-203755ebca35",
   "metadata": {},
   "source": [
    "tell()\n",
    "seek()"
   ]
  },
  {
   "cell_type": "markdown",
   "id": "67bedd39-ed89-4d22-88b2-a386b991caf2",
   "metadata": {},
   "source": [
    "### 13.2 Reading from a file"
   ]
  },
  {
   "cell_type": "code",
   "execution_count": 6,
   "id": "ebee2a4f-bc96-4f64-b8ac-fd9a706df90f",
   "metadata": {},
   "outputs": [],
   "source": [
    "path = r\"C:\\Users\\mindf\\Desktop\\Wipro-IIHT\\python-work\\notebooks\\believer.txt\""
   ]
  },
  {
   "cell_type": "code",
   "execution_count": 5,
   "id": "d6ac29a9-0d24-4ff2-8105-b080bc3c5d76",
   "metadata": {},
   "outputs": [
    {
     "name": "stdout",
     "output_type": "stream",
     "text": [
      "C:\\sers\\mindf\\Desktop\\Wipro-IIHT\\python-work\n",
      "otebookeliever.txt\n"
     ]
    }
   ],
   "source": [
    "# print(\"C:\\sers\\mindf\\Desktop\\Wipro-IIHT\\python-work\\notebooks\\believer.txt\")"
   ]
  },
  {
   "cell_type": "code",
   "execution_count": 7,
   "id": "3cfd37ca-46ff-4228-b857-4c7cae6d1885",
   "metadata": {},
   "outputs": [],
   "source": [
    "f = open(path, 'r')"
   ]
  },
  {
   "cell_type": "code",
   "execution_count": 8,
   "id": "95913478-d1e9-4d9f-bcb8-e4bd21853570",
   "metadata": {},
   "outputs": [
    {
     "data": {
      "text/plain": [
       "<_io.TextIOWrapper name='C:\\\\Users\\\\mindf\\\\Desktop\\\\Wipro-IIHT\\\\python-work\\\\notebooks\\\\believer.txt' mode='r' encoding='cp1252'>"
      ]
     },
     "execution_count": 8,
     "metadata": {},
     "output_type": "execute_result"
    }
   ],
   "source": [
    "f"
   ]
  },
  {
   "cell_type": "code",
   "execution_count": 9,
   "id": "0a2d6679-c986-409b-96a9-86d636ccbaec",
   "metadata": {},
   "outputs": [
    {
     "data": {
      "text/plain": [
       "\"\\nFirst things first\\nI'ma say all the words inside my head\\nI'm fired up and tired of\\nThe way that things have been, oh-ooh\\nThe way that things have been, oh-ooh\\n\\n\\nSecond things second\\nDon't you tell me what you think that I could be\\nI'm the one at the sail\\nI'm the master of my sea, oh-ooh\\nThe master of my sea, oh-ooh\\n\\n\\nI was broken from a young age\\nTaking my sulkin' to the masses\\nWriting my poems for the few\\nThat look at me, took to me, shook at me, feelin' me\\nSinging from heartache from the pain\\nTaking my message from the veins\\nSpeaking my lesson from the brain\\nSeeing the beauty through the...\\n\\n\\nPain! You made me a, you made me a\\nBeliever, believer\\nPain! You break me down, you build me up\\nBeliever, believer\\nPain! Oh, let the bullets fly, oh, let them rain\\nMy life, my love, my drive, it came fromâ€¦\\nPain! You made me a, you made me a\\nBeliever, believer\\n\\n\\nThird things third\\nSend a prayer to the ones up above\\nAll the hate that you've heard\\nHas turned your spirit to a dove, oh-ooh\\nYour spirit up above, oh-ooh\\n\\n\\nI was chokin' in the crowd\\nBuilding my rain up in the cloud\\nFalling like ashes to the ground\\nHoping my feelings, they would drown\\nBut they never did, ever lived, ebbin' and flowin'\\nInhibited, limited 'til it broke open and rained down\\nIt rained down, likeâ€¦\\n\\n\\nPain! You made me a, you made me a\\nBeliever, believer\\nPain! You break me down, you build me up\\nBeliever, believer\\nPain! Oh, let the bullets fly, oh, let them rain\\nMy life, my love, my drive, it came fromâ€¦\\nPain! You made me a, you made me a\\nBeliever, believer\\n\\n\""
      ]
     },
     "execution_count": 9,
     "metadata": {},
     "output_type": "execute_result"
    }
   ],
   "source": [
    "f.read()"
   ]
  },
  {
   "cell_type": "code",
   "execution_count": 10,
   "id": "9a0b6c7e-29c3-44bf-822b-1a940c3e5275",
   "metadata": {},
   "outputs": [
    {
     "data": {
      "text/plain": [
       "''"
      ]
     },
     "execution_count": 10,
     "metadata": {},
     "output_type": "execute_result"
    }
   ],
   "source": [
    "f.readline()"
   ]
  },
  {
   "cell_type": "code",
   "execution_count": 11,
   "id": "13054e07-59d3-4491-8296-a9a2404b1007",
   "metadata": {},
   "outputs": [
    {
     "data": {
      "text/plain": [
       "1606"
      ]
     },
     "execution_count": 11,
     "metadata": {},
     "output_type": "execute_result"
    }
   ],
   "source": [
    "f.tell()"
   ]
  },
  {
   "cell_type": "code",
   "execution_count": 12,
   "id": "71359543-a3d5-43a7-b799-83d812dc72cf",
   "metadata": {},
   "outputs": [
    {
     "data": {
      "text/plain": [
       "0"
      ]
     },
     "execution_count": 12,
     "metadata": {},
     "output_type": "execute_result"
    }
   ],
   "source": [
    "f.seek(0)"
   ]
  },
  {
   "cell_type": "code",
   "execution_count": 13,
   "id": "07836fce-2ffa-4027-b295-f804465d88eb",
   "metadata": {},
   "outputs": [
    {
     "data": {
      "text/plain": [
       "'\\n'"
      ]
     },
     "execution_count": 13,
     "metadata": {},
     "output_type": "execute_result"
    }
   ],
   "source": [
    "f.readline()"
   ]
  },
  {
   "cell_type": "code",
   "execution_count": 14,
   "id": "14d6667e-9bf5-446b-a95a-e5be3b4645d5",
   "metadata": {},
   "outputs": [
    {
     "data": {
      "text/plain": [
       "'First things first\\n'"
      ]
     },
     "execution_count": 14,
     "metadata": {},
     "output_type": "execute_result"
    }
   ],
   "source": [
    "f.readline()"
   ]
  },
  {
   "cell_type": "code",
   "execution_count": 15,
   "id": "feebfee4-1287-4e03-8bf4-feef0fcd0ab8",
   "metadata": {},
   "outputs": [
    {
     "data": {
      "text/plain": [
       "\"I'ma say all the words inside my head\\n\""
      ]
     },
     "execution_count": 15,
     "metadata": {},
     "output_type": "execute_result"
    }
   ],
   "source": [
    "f.readline()"
   ]
  },
  {
   "cell_type": "code",
   "execution_count": 16,
   "id": "553af298-75ac-4bc1-8dc8-4d12ecb79c6c",
   "metadata": {},
   "outputs": [
    {
     "data": {
      "text/plain": [
       "\"I'm fired up and tired of\\n\""
      ]
     },
     "execution_count": 16,
     "metadata": {},
     "output_type": "execute_result"
    }
   ],
   "source": [
    "f.readline()"
   ]
  },
  {
   "cell_type": "code",
   "execution_count": 17,
   "id": "9149fa14-a8f2-49a3-ac34-188af57c24e4",
   "metadata": {},
   "outputs": [
    {
     "data": {
      "text/plain": [
       "'The way that things have been, oh-ooh\\nThe way that things have been, oh-ooh\\n\\n\\nSecond things second\\nD'"
      ]
     },
     "execution_count": 17,
     "metadata": {},
     "output_type": "execute_result"
    }
   ],
   "source": [
    "f.read(100)"
   ]
  },
  {
   "cell_type": "code",
   "execution_count": 18,
   "id": "d75e5980-e00b-4322-a949-762ff9120664",
   "metadata": {},
   "outputs": [
    {
     "data": {
      "text/plain": [
       "[\"on't you tell me what you think that I could be\\n\",\n",
       " \"I'm the one at the sail\\n\",\n",
       " \"I'm the master of my sea, oh-ooh\\n\",\n",
       " 'The master of my sea, oh-ooh\\n',\n",
       " '\\n',\n",
       " '\\n',\n",
       " 'I was broken from a young age\\n',\n",
       " \"Taking my sulkin' to the masses\\n\",\n",
       " 'Writing my poems for the few\\n',\n",
       " \"That look at me, took to me, shook at me, feelin' me\\n\",\n",
       " 'Singing from heartache from the pain\\n',\n",
       " 'Taking my message from the veins\\n',\n",
       " 'Speaking my lesson from the brain\\n',\n",
       " 'Seeing the beauty through the...\\n',\n",
       " '\\n',\n",
       " '\\n',\n",
       " 'Pain! You made me a, you made me a\\n',\n",
       " 'Believer, believer\\n',\n",
       " 'Pain! You break me down, you build me up\\n',\n",
       " 'Believer, believer\\n',\n",
       " 'Pain! Oh, let the bullets fly, oh, let them rain\\n',\n",
       " 'My life, my love, my drive, it came fromâ€¦\\n',\n",
       " 'Pain! You made me a, you made me a\\n',\n",
       " 'Believer, believer\\n',\n",
       " '\\n',\n",
       " '\\n',\n",
       " 'Third things third\\n',\n",
       " 'Send a prayer to the ones up above\\n',\n",
       " \"All the hate that you've heard\\n\",\n",
       " 'Has turned your spirit to a dove, oh-ooh\\n',\n",
       " 'Your spirit up above, oh-ooh\\n',\n",
       " '\\n',\n",
       " '\\n',\n",
       " \"I was chokin' in the crowd\\n\",\n",
       " 'Building my rain up in the cloud\\n',\n",
       " 'Falling like ashes to the ground\\n',\n",
       " 'Hoping my feelings, they would drown\\n',\n",
       " \"But they never did, ever lived, ebbin' and flowin'\\n\",\n",
       " \"Inhibited, limited 'til it broke open and rained down\\n\",\n",
       " 'It rained down, likeâ€¦\\n',\n",
       " '\\n',\n",
       " '\\n',\n",
       " 'Pain! You made me a, you made me a\\n',\n",
       " 'Believer, believer\\n',\n",
       " 'Pain! You break me down, you build me up\\n',\n",
       " 'Believer, believer\\n',\n",
       " 'Pain! Oh, let the bullets fly, oh, let them rain\\n',\n",
       " 'My life, my love, my drive, it came fromâ€¦\\n',\n",
       " 'Pain! You made me a, you made me a\\n',\n",
       " 'Believer, believer\\n',\n",
       " '\\n']"
      ]
     },
     "execution_count": 18,
     "metadata": {},
     "output_type": "execute_result"
    }
   ],
   "source": [
    "f.readlines()"
   ]
  },
  {
   "cell_type": "code",
   "execution_count": 19,
   "id": "ce764943-2929-4d3d-8c40-539d6fb5e5f8",
   "metadata": {},
   "outputs": [],
   "source": [
    "f.close()"
   ]
  },
  {
   "cell_type": "markdown",
   "id": "6c4db8b0-c69d-4627-874d-bb867f90dcf6",
   "metadata": {},
   "source": [
    "### 13.3 Writing into a file"
   ]
  },
  {
   "cell_type": "code",
   "execution_count": 20,
   "id": "4930ee6b-0b8d-4c29-9b00-8b71302601ee",
   "metadata": {},
   "outputs": [],
   "source": [
    "path2 = r\"C:\\Users\\mindf\\Desktop\\Wipro-IIHT\\python-work\\notebooks\\test.txt\""
   ]
  },
  {
   "cell_type": "code",
   "execution_count": 21,
   "id": "d8406a65-8b75-4bfc-b33d-0f7a979f05dd",
   "metadata": {},
   "outputs": [],
   "source": [
    "f = open(path2, 'w')"
   ]
  },
  {
   "cell_type": "code",
   "execution_count": 22,
   "id": "819abc6e-360b-4be5-828a-9c7a57ddd910",
   "metadata": {},
   "outputs": [
    {
     "data": {
      "text/plain": [
       "22"
      ]
     },
     "execution_count": 22,
     "metadata": {},
     "output_type": "execute_result"
    }
   ],
   "source": [
    "f.write(\"FILE WRITE EXPERIMENT\\n\")"
   ]
  },
  {
   "cell_type": "code",
   "execution_count": 23,
   "id": "a2700eb2-1b14-4447-9d06-508713222d4d",
   "metadata": {},
   "outputs": [],
   "source": [
    "f.close()"
   ]
  },
  {
   "cell_type": "code",
   "execution_count": 26,
   "id": "723ea4d7-2386-4310-931a-f4302dbe1813",
   "metadata": {},
   "outputs": [],
   "source": [
    "f = open(path2, 'a')"
   ]
  },
  {
   "cell_type": "code",
   "execution_count": 27,
   "id": "2cf90ca2-3c28-4fac-bc4f-c309cc1b2d5e",
   "metadata": {},
   "outputs": [],
   "source": [
    "f.writelines([\"This is line 1\\n\", \"This is line 2\\n\", \"This is line 3\\n\"])"
   ]
  },
  {
   "cell_type": "code",
   "execution_count": 28,
   "id": "812f23bb-f37e-47f8-99df-b15d58e5cf69",
   "metadata": {},
   "outputs": [],
   "source": [
    "f.close()"
   ]
  },
  {
   "cell_type": "markdown",
   "id": "7ff16c72-e01d-45f2-9ee7-26fbe2b7d78c",
   "metadata": {},
   "source": [
    "### 13.4 Working with other types of files"
   ]
  },
  {
   "cell_type": "markdown",
   "id": "54efce7c-a571-4858-8f7f-394e5983906a",
   "metadata": {},
   "source": [
    "csv, json -> built in python modules can be used"
   ]
  },
  {
   "cell_type": "markdown",
   "id": "8b589794-8965-4e1a-91e1-d2088b84426a",
   "metadata": {},
   "source": [
    "xlsx, docx, pdf -> many third party modules are available"
   ]
  },
  {
   "cell_type": "markdown",
   "id": "9cf7cda6-4897-4a0b-9ed0-fd6937f629cd",
   "metadata": {},
   "source": [
    "### 13.5 Use Case"
   ]
  },
  {
   "cell_type": "code",
   "execution_count": 31,
   "id": "e9dd607e-21c8-49f3-a631-9f6eaf326158",
   "metadata": {},
   "outputs": [],
   "source": [
    "path = r\"C:\\Users\\mindf\\Desktop\\Wipro-IIHT\\python-work\\scripts\\project-student\\students.csv\""
   ]
  },
  {
   "cell_type": "code",
   "execution_count": 32,
   "id": "ccbdb2af-7af4-4db4-a010-d5185e28a2d9",
   "metadata": {},
   "outputs": [],
   "source": [
    "f = open(path)"
   ]
  },
  {
   "cell_type": "code",
   "execution_count": 33,
   "id": "2693363b-5d0a-4451-9f93-5c1a946c208e",
   "metadata": {},
   "outputs": [],
   "source": [
    "data = f.readlines()"
   ]
  },
  {
   "cell_type": "code",
   "execution_count": 34,
   "id": "0014d095-71e9-4726-9bfa-575638f82fa6",
   "metadata": {},
   "outputs": [],
   "source": [
    "f.close()"
   ]
  },
  {
   "cell_type": "code",
   "execution_count": 35,
   "id": "60aed31c-f473-4219-8e50-267f42599b96",
   "metadata": {},
   "outputs": [
    {
     "data": {
      "text/plain": [
       "['name,age,regid,phy,chem,math,bio,avg,rank\\n',\n",
       " 'Vijay,14,HPE001,99,98,97,36,0,0\\n',\n",
       " 'Aryan,14,HPE002,98,61,93,96,0,0\\n',\n",
       " 'Muni,14,HPE003,97,98,77,94,0,0\\n',\n",
       " 'Abhi,14,HPE004,86,93,97,95,0,0\\n',\n",
       " 'Hemanth,14,HPE005,94,91,93,96,0,0\\n',\n",
       " 'Grace,14,HPE006,94,65,46,67,0,0\\n',\n",
       " 'Ankita,14,CAP007,99,99,99,99,0,0\\n',\n",
       " 'John,14,HPE008,96,93,77,85,0,0\\n',\n",
       " 'Chris,14,HPE009,54,91,43,96,0,0\\n',\n",
       " 'Grace,14,ORA006,67,95,96,87,0,0\\n',\n",
       " 'Ankita,14,INF007,99,99,78,99,0,0\\n']"
      ]
     },
     "execution_count": 35,
     "metadata": {},
     "output_type": "execute_result"
    }
   ],
   "source": [
    "data"
   ]
  },
  {
   "cell_type": "code",
   "execution_count": 38,
   "id": "0a04dbb4-125b-47a6-86b0-2bb8be48a8e4",
   "metadata": {},
   "outputs": [
    {
     "data": {
      "text/plain": [
       "['name', 'age', 'regid', 'phy', 'chem', 'math', 'bio', 'avg', 'rank']"
      ]
     },
     "execution_count": 38,
     "metadata": {},
     "output_type": "execute_result"
    }
   ],
   "source": [
    "colData = data[0].strip()\n",
    "cols = colData.split(',')\n",
    "cols"
   ]
  },
  {
   "cell_type": "code",
   "execution_count": 39,
   "id": "270858e0-e5a0-4933-82f9-d300e44e1150",
   "metadata": {},
   "outputs": [
    {
     "data": {
      "text/plain": [
       "['Vijay', '14', 'HPE001', '99', '98', '97', '36', '0', '0']"
      ]
     },
     "execution_count": 39,
     "metadata": {},
     "output_type": "execute_result"
    }
   ],
   "source": [
    "rowData = data[1].strip()\n",
    "row = rowData.split(',')\n",
    "row"
   ]
  },
  {
   "cell_type": "code",
   "execution_count": 41,
   "id": "b60eff0d-17c3-4bc5-a1be-9829980efccd",
   "metadata": {},
   "outputs": [
    {
     "data": {
      "text/plain": [
       "{'name': 'Vijay',\n",
       " 'age': '14',\n",
       " 'regid': 'HPE001',\n",
       " 'phy': '99',\n",
       " 'chem': '98',\n",
       " 'math': '97',\n",
       " 'bio': '36',\n",
       " 'avg': '0',\n",
       " 'rank': '0'}"
      ]
     },
     "execution_count": 41,
     "metadata": {},
     "output_type": "execute_result"
    }
   ],
   "source": [
    "dict(zip(cols, row))"
   ]
  },
  {
   "cell_type": "code",
   "execution_count": 45,
   "id": "eaa1aac7-7a95-4a93-b212-98ce78911cbe",
   "metadata": {},
   "outputs": [
    {
     "data": {
      "text/plain": [
       "{'HPE001': {'name': 'Vijay',\n",
       "  'age': '14',\n",
       "  'regid': 'HPE001',\n",
       "  'phy': '99',\n",
       "  'chem': '98',\n",
       "  'math': '97',\n",
       "  'bio': '36',\n",
       "  'avg': '0',\n",
       "  'rank': '0'},\n",
       " 'HPE002': {'name': 'Aryan',\n",
       "  'age': '14',\n",
       "  'regid': 'HPE002',\n",
       "  'phy': '98',\n",
       "  'chem': '61',\n",
       "  'math': '93',\n",
       "  'bio': '96',\n",
       "  'avg': '0',\n",
       "  'rank': '0'},\n",
       " 'HPE003': {'name': 'Muni',\n",
       "  'age': '14',\n",
       "  'regid': 'HPE003',\n",
       "  'phy': '97',\n",
       "  'chem': '98',\n",
       "  'math': '77',\n",
       "  'bio': '94',\n",
       "  'avg': '0',\n",
       "  'rank': '0'},\n",
       " 'HPE004': {'name': 'Abhi',\n",
       "  'age': '14',\n",
       "  'regid': 'HPE004',\n",
       "  'phy': '86',\n",
       "  'chem': '93',\n",
       "  'math': '97',\n",
       "  'bio': '95',\n",
       "  'avg': '0',\n",
       "  'rank': '0'},\n",
       " 'HPE005': {'name': 'Hemanth',\n",
       "  'age': '14',\n",
       "  'regid': 'HPE005',\n",
       "  'phy': '94',\n",
       "  'chem': '91',\n",
       "  'math': '93',\n",
       "  'bio': '96',\n",
       "  'avg': '0',\n",
       "  'rank': '0'},\n",
       " 'HPE006': {'name': 'Grace',\n",
       "  'age': '14',\n",
       "  'regid': 'HPE006',\n",
       "  'phy': '94',\n",
       "  'chem': '65',\n",
       "  'math': '46',\n",
       "  'bio': '67',\n",
       "  'avg': '0',\n",
       "  'rank': '0'},\n",
       " 'CAP007': {'name': 'Ankita',\n",
       "  'age': '14',\n",
       "  'regid': 'CAP007',\n",
       "  'phy': '99',\n",
       "  'chem': '99',\n",
       "  'math': '99',\n",
       "  'bio': '99',\n",
       "  'avg': '0',\n",
       "  'rank': '0'},\n",
       " 'HPE008': {'name': 'John',\n",
       "  'age': '14',\n",
       "  'regid': 'HPE008',\n",
       "  'phy': '96',\n",
       "  'chem': '93',\n",
       "  'math': '77',\n",
       "  'bio': '85',\n",
       "  'avg': '0',\n",
       "  'rank': '0'},\n",
       " 'HPE009': {'name': 'Chris',\n",
       "  'age': '14',\n",
       "  'regid': 'HPE009',\n",
       "  'phy': '54',\n",
       "  'chem': '91',\n",
       "  'math': '43',\n",
       "  'bio': '96',\n",
       "  'avg': '0',\n",
       "  'rank': '0'},\n",
       " 'ORA006': {'name': 'Grace',\n",
       "  'age': '14',\n",
       "  'regid': 'ORA006',\n",
       "  'phy': '67',\n",
       "  'chem': '95',\n",
       "  'math': '96',\n",
       "  'bio': '87',\n",
       "  'avg': '0',\n",
       "  'rank': '0'},\n",
       " 'INF007': {'name': 'Ankita',\n",
       "  'age': '14',\n",
       "  'regid': 'INF007',\n",
       "  'phy': '99',\n",
       "  'chem': '99',\n",
       "  'math': '78',\n",
       "  'bio': '99',\n",
       "  'avg': '0',\n",
       "  'rank': '0'}}"
      ]
     },
     "execution_count": 45,
     "metadata": {},
     "output_type": "execute_result"
    }
   ],
   "source": [
    "classDict = {}\n",
    "for row in data[1:]:\n",
    "    rowData = row.strip()\n",
    "    temp = rowData.split(',')\n",
    "    studDict = dict(zip(cols, temp))\n",
    "    classDict[studDict['regid']] = studDict\n",
    "classDict"
   ]
  },
  {
   "cell_type": "code",
   "execution_count": 84,
   "id": "3c6f8d3a-2541-4047-b797-f0bb276d9e85",
   "metadata": {},
   "outputs": [
    {
     "name": "stdout",
     "output_type": "stream",
     "text": [
      "[99.0, 98.0, 97.0, 36.0]\n"
     ]
    },
    {
     "ename": "TypeError",
     "evalue": "'int' object is not callable",
     "output_type": "error",
     "traceback": [
      "\u001b[1;31m---------------------------------------------------------------------------\u001b[0m",
      "\u001b[1;31mTypeError\u001b[0m                                 Traceback (most recent call last)",
      "Cell \u001b[1;32mIn[84], line 7\u001b[0m\n\u001b[0;32m      5\u001b[0m         s\u001b[38;5;241m.\u001b[39mappend(\u001b[38;5;28mfloat\u001b[39m(temp))\n\u001b[0;32m      6\u001b[0m     \u001b[38;5;28mprint\u001b[39m(s)\n\u001b[1;32m----> 7\u001b[0m     classDict[stud][\u001b[38;5;124m'\u001b[39m\u001b[38;5;124mavg\u001b[39m\u001b[38;5;124m'\u001b[39m] \u001b[38;5;241m=\u001b[39m \u001b[38;5;28msum\u001b[39m(s)\u001b[38;5;241m/\u001b[39m \u001b[38;5;241m4\u001b[39m\n\u001b[0;32m      8\u001b[0m classDict\n",
      "\u001b[1;31mTypeError\u001b[0m: 'int' object is not callable"
     ]
    }
   ],
   "source": [
    "for stud in classDict.keys():\n",
    "    s = []\n",
    "    for sub in ['phy', 'chem', 'math', 'bio']:\n",
    "        temp = classDict[stud][sub]\n",
    "        s.append(float(temp))\n",
    "    print(s)\n",
    "    classDict[stud]['avg'] = sum(s)/ 4\n",
    "classDict"
   ]
  },
  {
   "cell_type": "code",
   "execution_count": 93,
   "id": "25912628-daa1-4368-9315-e5930d0653b4",
   "metadata": {},
   "outputs": [
    {
     "name": "stdout",
     "output_type": "stream",
     "text": [
      "{'name': 'Vijay', 'age': '14', 'regid': 'HPE001', 'phy': '99', 'chem': '98', 'math': '97', 'bio': '36', 'avg': 82.5, 'rank': '0'}\n",
      "{'name': 'Aryan', 'age': '14', 'regid': 'HPE002', 'phy': '98', 'chem': '61', 'math': '93', 'bio': '96', 'avg': 87.0, 'rank': '0'}\n",
      "{'name': 'Muni', 'age': '14', 'regid': 'HPE003', 'phy': '97', 'chem': '98', 'math': '77', 'bio': '94', 'avg': 91.5, 'rank': '0'}\n",
      "{'name': 'Abhi', 'age': '14', 'regid': 'HPE004', 'phy': '86', 'chem': '93', 'math': '97', 'bio': '95', 'avg': 92.75, 'rank': '0'}\n",
      "{'name': 'Hemanth', 'age': '14', 'regid': 'HPE005', 'phy': '94', 'chem': '91', 'math': '93', 'bio': '96', 'avg': 93.5, 'rank': '0'}\n",
      "{'name': 'Grace', 'age': '14', 'regid': 'HPE006', 'phy': '94', 'chem': '65', 'math': '46', 'bio': '67', 'avg': 68.0, 'rank': '0'}\n",
      "{'name': 'Ankita', 'age': '14', 'regid': 'CAP007', 'phy': '99', 'chem': '99', 'math': '99', 'bio': '99', 'avg': 99.0, 'rank': '0'}\n",
      "{'name': 'John', 'age': '14', 'regid': 'HPE008', 'phy': '96', 'chem': '93', 'math': '77', 'bio': '85', 'avg': 87.75, 'rank': '0'}\n",
      "{'name': 'Chris', 'age': '14', 'regid': 'HPE009', 'phy': '54', 'chem': '91', 'math': '43', 'bio': '96', 'avg': 71.0, 'rank': '0'}\n",
      "{'name': 'Grace', 'age': '14', 'regid': 'ORA006', 'phy': '67', 'chem': '95', 'math': '96', 'bio': '87', 'avg': 86.25, 'rank': '0'}\n",
      "{'name': 'Ankita', 'age': '14', 'regid': 'INF007', 'phy': '99', 'chem': '99', 'math': '78', 'bio': '99', 'avg': 93.75, 'rank': '0'}\n",
      "93.75\n"
     ]
    }
   ],
   "source": [
    "for d in classDict:\n",
    "    print(classDict[d])"
   ]
  },
  {
   "cell_type": "code",
   "execution_count": 94,
   "id": "8b98d913-4414-4ede-b395-f27e244e619d",
   "metadata": {},
   "outputs": [],
   "source": [
    "f = open(\"results.txt\", 'w')"
   ]
  },
  {
   "cell_type": "code",
   "execution_count": 97,
   "id": "8beb54bc-e22e-40e9-b74c-03e6ced4acf1",
   "metadata": {},
   "outputs": [
    {
     "data": {
      "text/plain": [
       "42"
      ]
     },
     "execution_count": 97,
     "metadata": {},
     "output_type": "execute_result"
    }
   ],
   "source": [
    "f.write(colData+\"\\n\")"
   ]
  },
  {
   "cell_type": "code",
   "execution_count": 98,
   "id": "d0f85afa-ef4b-4cf9-829a-ce6eb7ed9c8b",
   "metadata": {},
   "outputs": [
    {
     "data": {
      "text/plain": [
       "'C:\\\\Users\\\\mindf\\\\Desktop\\\\Wipro-IIHT\\\\python-work\\\\notebooks'"
      ]
     },
     "execution_count": 98,
     "metadata": {},
     "output_type": "execute_result"
    }
   ],
   "source": [
    "import os\n",
    "os.getcwd()"
   ]
  },
  {
   "cell_type": "code",
   "execution_count": 102,
   "id": "982ca74e-43c2-4421-b2f2-8dd9639c7bf9",
   "metadata": {},
   "outputs": [
    {
     "data": {
      "text/plain": [
       "'Vijay,14,HPE001,99,98,97,36,82.5,0\\n'"
      ]
     },
     "execution_count": 102,
     "metadata": {},
     "output_type": "execute_result"
    }
   ],
   "source": [
    "','.join([str(i) for i in classDict['HPE001'].values()])+\"\\n\""
   ]
  },
  {
   "cell_type": "code",
   "execution_count": 103,
   "id": "3fbadba3-3aef-4a8a-85a2-ecf49eb24886",
   "metadata": {},
   "outputs": [
    {
     "ename": "AttributeError",
     "evalue": "'float' object has no attribute 'values'",
     "output_type": "error",
     "traceback": [
      "\u001b[1;31m---------------------------------------------------------------------------\u001b[0m",
      "\u001b[1;31mAttributeError\u001b[0m                            Traceback (most recent call last)",
      "Cell \u001b[1;32mIn[103], line 3\u001b[0m\n\u001b[0;32m      1\u001b[0m writeData \u001b[38;5;241m=\u001b[39m []\n\u001b[0;32m      2\u001b[0m \u001b[38;5;28;01mfor\u001b[39;00m stud \u001b[38;5;129;01min\u001b[39;00m classDict:\n\u001b[1;32m----> 3\u001b[0m     writeData\u001b[38;5;241m.\u001b[39mappend(\u001b[38;5;124m'\u001b[39m\u001b[38;5;124m,\u001b[39m\u001b[38;5;124m'\u001b[39m\u001b[38;5;241m.\u001b[39mjoin([\u001b[38;5;28mstr\u001b[39m(i) \u001b[38;5;28;01mfor\u001b[39;00m i \u001b[38;5;129;01min\u001b[39;00m classDict[stud]\u001b[38;5;241m.\u001b[39mvalues()])\u001b[38;5;241m+\u001b[39m\u001b[38;5;124m\"\u001b[39m\u001b[38;5;130;01m\\n\u001b[39;00m\u001b[38;5;124m\"\u001b[39m)\n",
      "\u001b[1;31mAttributeError\u001b[0m: 'float' object has no attribute 'values'"
     ]
    }
   ],
   "source": [
    "writeData = []\n",
    "for stud in classDict:\n",
    "    writeData.append(','.join([str(i) for i in classDict[stud].values()])+\"\\n\")"
   ]
  },
  {
   "cell_type": "code",
   "execution_count": 104,
   "id": "c5b59072-9867-4eaf-ae1a-5a9d1069bfab",
   "metadata": {},
   "outputs": [
    {
     "data": {
      "text/plain": [
       "['Vijay,14,HPE001,99,98,97,36,82.5,0\\n',\n",
       " 'Aryan,14,HPE002,98,61,93,96,87.0,0\\n',\n",
       " 'Muni,14,HPE003,97,98,77,94,91.5,0\\n',\n",
       " 'Abhi,14,HPE004,86,93,97,95,92.75,0\\n',\n",
       " 'Hemanth,14,HPE005,94,91,93,96,93.5,0\\n',\n",
       " 'Grace,14,HPE006,94,65,46,67,68.0,0\\n',\n",
       " 'Ankita,14,CAP007,99,99,99,99,99.0,0\\n',\n",
       " 'John,14,HPE008,96,93,77,85,87.75,0\\n',\n",
       " 'Chris,14,HPE009,54,91,43,96,71.0,0\\n',\n",
       " 'Grace,14,ORA006,67,95,96,87,86.25,0\\n',\n",
       " 'Ankita,14,INF007,99,99,78,99,93.75,0\\n']"
      ]
     },
     "execution_count": 104,
     "metadata": {},
     "output_type": "execute_result"
    }
   ],
   "source": [
    "writeData"
   ]
  },
  {
   "cell_type": "code",
   "execution_count": 105,
   "id": "0657a5bb-6df2-4f15-acbd-38a9b74c38b4",
   "metadata": {},
   "outputs": [],
   "source": [
    "f.writelines(writeData)"
   ]
  },
  {
   "cell_type": "code",
   "execution_count": 106,
   "id": "4d0b61f0-ebfe-43e2-b6c2-b284088c761d",
   "metadata": {},
   "outputs": [],
   "source": [
    "f.close()"
   ]
  },
  {
   "cell_type": "code",
   "execution_count": null,
   "id": "46191ed6-03a2-4a0a-b04d-887e2d5cd14b",
   "metadata": {},
   "outputs": [],
   "source": []
  }
 ],
 "metadata": {
  "kernelspec": {
   "display_name": "Python 3 (ipykernel)",
   "language": "python",
   "name": "python3"
  },
  "language_info": {
   "codemirror_mode": {
    "name": "ipython",
    "version": 3
   },
   "file_extension": ".py",
   "mimetype": "text/x-python",
   "name": "python",
   "nbconvert_exporter": "python",
   "pygments_lexer": "ipython3",
   "version": "3.11.7"
  }
 },
 "nbformat": 4,
 "nbformat_minor": 5
}
