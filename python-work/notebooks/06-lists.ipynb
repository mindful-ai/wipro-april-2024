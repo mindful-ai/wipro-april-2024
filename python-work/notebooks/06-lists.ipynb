{
 "cells": [
  {
   "cell_type": "markdown",
   "id": "51ffae2a-9156-4f73-8a9c-d8f499d185d5",
   "metadata": {},
   "source": [
    "# Lists"
   ]
  },
  {
   "cell_type": "markdown",
   "id": "390cb606-a260-4933-8745-90c06820d2de",
   "metadata": {},
   "source": [
    "### 6.1 Creating a List"
   ]
  },
  {
   "cell_type": "code",
   "execution_count": 1,
   "id": "9ccdecad-0dbb-439b-b898-5abdc8281c8d",
   "metadata": {},
   "outputs": [],
   "source": [
    "L = [\"red\", \"blue\", 5, 6.7, -1.2, [1, 2, 3]]"
   ]
  },
  {
   "cell_type": "code",
   "execution_count": 2,
   "id": "c43dad54-1f41-4bf1-96a4-1f959bd5ac70",
   "metadata": {},
   "outputs": [
    {
     "data": {
      "text/plain": [
       "list"
      ]
     },
     "execution_count": 2,
     "metadata": {},
     "output_type": "execute_result"
    }
   ],
   "source": [
    "type(L)"
   ]
  },
  {
   "cell_type": "code",
   "execution_count": 3,
   "id": "1bd9d9ab-c54d-4a4f-b16e-911af05a705e",
   "metadata": {},
   "outputs": [
    {
     "data": {
      "text/plain": [
       "['a', 'p', 'p', 'l', 'e', 's']"
      ]
     },
     "execution_count": 3,
     "metadata": {},
     "output_type": "execute_result"
    }
   ],
   "source": [
    "s = \"apples\"\n",
    "LS = list(s)\n",
    "LS"
   ]
  },
  {
   "cell_type": "markdown",
   "id": "d4bcc646-2912-435e-a07f-99c22afa70b9",
   "metadata": {},
   "source": [
    "### 6.2 Select the elements"
   ]
  },
  {
   "cell_type": "code",
   "execution_count": 4,
   "id": "74d9abe0-b8ce-4938-aba5-fd90470a51d0",
   "metadata": {},
   "outputs": [],
   "source": [
    "L = [\"red\", \"blue\", 5, 6.7, -1.2, [1, 2, 3]]"
   ]
  },
  {
   "cell_type": "markdown",
   "id": "1eb385e1-4457-4e47-912e-2eaba3d3652c",
   "metadata": {},
   "source": [
    "##### Use subscripting to select the elements"
   ]
  },
  {
   "cell_type": "code",
   "execution_count": 5,
   "id": "879eb3e7-da83-431a-ae92-bbb841a41848",
   "metadata": {},
   "outputs": [
    {
     "data": {
      "text/plain": [
       "'red'"
      ]
     },
     "execution_count": 5,
     "metadata": {},
     "output_type": "execute_result"
    }
   ],
   "source": [
    "L[0]"
   ]
  },
  {
   "cell_type": "code",
   "execution_count": 6,
   "id": "486e67eb-c017-4709-a322-493becaa5950",
   "metadata": {},
   "outputs": [
    {
     "data": {
      "text/plain": [
       "[5, 6.7, -1.2]"
      ]
     },
     "execution_count": 6,
     "metadata": {},
     "output_type": "execute_result"
    }
   ],
   "source": [
    "L[2:5]"
   ]
  },
  {
   "cell_type": "code",
   "execution_count": 7,
   "id": "0c07f401-6052-4344-867f-9aa14bb038b7",
   "metadata": {},
   "outputs": [
    {
     "data": {
      "text/plain": [
       "['red', 'blue', 5, 6.7]"
      ]
     },
     "execution_count": 7,
     "metadata": {},
     "output_type": "execute_result"
    }
   ],
   "source": [
    "L[:4]"
   ]
  },
  {
   "cell_type": "code",
   "execution_count": 8,
   "id": "fa0ff663-d50e-480d-8dbd-866e191b66a7",
   "metadata": {},
   "outputs": [
    {
     "data": {
      "text/plain": [
       "['red', 'blue', 5, 6.7, -1.2, [1, 2, 3]]"
      ]
     },
     "execution_count": 8,
     "metadata": {},
     "output_type": "execute_result"
    }
   ],
   "source": [
    "L[:]"
   ]
  },
  {
   "cell_type": "code",
   "execution_count": 9,
   "id": "2804a3dd-3316-4b3d-9025-8ee3efd8c18d",
   "metadata": {},
   "outputs": [
    {
     "data": {
      "text/plain": [
       "[1, 2, 3]"
      ]
     },
     "execution_count": 9,
     "metadata": {},
     "output_type": "execute_result"
    }
   ],
   "source": [
    "L[-1]"
   ]
  },
  {
   "cell_type": "code",
   "execution_count": 10,
   "id": "66265d95-8479-4329-bfd9-923379e97370",
   "metadata": {},
   "outputs": [
    {
     "data": {
      "text/plain": [
       "3"
      ]
     },
     "execution_count": 10,
     "metadata": {},
     "output_type": "execute_result"
    }
   ],
   "source": [
    "L[-1][2]"
   ]
  },
  {
   "cell_type": "code",
   "execution_count": 11,
   "id": "bb7cdf83-91c2-411c-895b-83469a265c39",
   "metadata": {},
   "outputs": [
    {
     "data": {
      "text/plain": [
       "[[1, 2, 3], -1.2, 6.7, 5, 'blue', 'red']"
      ]
     },
     "execution_count": 11,
     "metadata": {},
     "output_type": "execute_result"
    }
   ],
   "source": [
    "L[::-1]"
   ]
  },
  {
   "cell_type": "code",
   "execution_count": 12,
   "id": "8347ba97-d3c1-4a37-acff-087889d1b711",
   "metadata": {},
   "outputs": [
    {
     "data": {
      "text/plain": [
       "['red', 5, -1.2]"
      ]
     },
     "execution_count": 12,
     "metadata": {},
     "output_type": "execute_result"
    }
   ],
   "source": [
    "L[::2]"
   ]
  },
  {
   "cell_type": "markdown",
   "id": "71f3e0d3-92f8-43a7-b69a-bab09cecb29c",
   "metadata": {},
   "source": [
    "#### 6.2.1 Changing the elements"
   ]
  },
  {
   "cell_type": "code",
   "execution_count": 13,
   "id": "22cb3ea7-f744-4fa3-b86b-0d3fc7af6012",
   "metadata": {},
   "outputs": [
    {
     "data": {
      "text/plain": [
       "['red', 'blue', 5, 6.7, -1.2, [1, 2, 3]]"
      ]
     },
     "execution_count": 13,
     "metadata": {},
     "output_type": "execute_result"
    }
   ],
   "source": [
    "L"
   ]
  },
  {
   "cell_type": "code",
   "execution_count": 18,
   "id": "a8d87540-7dbd-4744-88a8-21d6ca221910",
   "metadata": {},
   "outputs": [
    {
     "data": {
      "text/plain": [
       "'yellow'"
      ]
     },
     "execution_count": 18,
     "metadata": {},
     "output_type": "execute_result"
    }
   ],
   "source": [
    "L[1] # output is a string"
   ]
  },
  {
   "cell_type": "code",
   "execution_count": 14,
   "id": "92bf0842-00eb-4b2f-b521-4f6d04a612e2",
   "metadata": {},
   "outputs": [],
   "source": [
    "L[1] = \"yellow\""
   ]
  },
  {
   "cell_type": "code",
   "execution_count": 15,
   "id": "f85878f1-7a56-43c0-8d9a-d08cf81bd184",
   "metadata": {},
   "outputs": [
    {
     "data": {
      "text/plain": [
       "['red', 'yellow', 5, 6.7, -1.2, [1, 2, 3]]"
      ]
     },
     "execution_count": 15,
     "metadata": {},
     "output_type": "execute_result"
    }
   ],
   "source": [
    "L"
   ]
  },
  {
   "cell_type": "code",
   "execution_count": 17,
   "id": "0d6bd0f2-f553-4739-baed-6cccd1a8b7f0",
   "metadata": {},
   "outputs": [
    {
     "data": {
      "text/plain": [
       "['yellow']"
      ]
     },
     "execution_count": 17,
     "metadata": {},
     "output_type": "execute_result"
    }
   ],
   "source": [
    "L[1:2] # output is a list"
   ]
  },
  {
   "cell_type": "code",
   "execution_count": 19,
   "id": "85fe31d1-0854-419b-beb6-eb5426f6b5cd",
   "metadata": {},
   "outputs": [],
   "source": [
    "L[1:2] = \"green\""
   ]
  },
  {
   "cell_type": "code",
   "execution_count": 21,
   "id": "77b67b1f-a8f5-4169-9a78-daf77214729f",
   "metadata": {},
   "outputs": [
    {
     "data": {
      "text/plain": [
       "['red', 'g', 'r', 'e', 'e', 'n', 5, 6.7, -1.2, [1, 2, 3]]"
      ]
     },
     "execution_count": 21,
     "metadata": {},
     "output_type": "execute_result"
    }
   ],
   "source": [
    "L"
   ]
  },
  {
   "cell_type": "code",
   "execution_count": 22,
   "id": "7e4b3019-a662-466b-a351-c3aa4240d5b0",
   "metadata": {},
   "outputs": [],
   "source": [
    "L = ['red', 'yellow', 5, 6.7, -1.2, [1, 2, 3]]"
   ]
  },
  {
   "cell_type": "code",
   "execution_count": 23,
   "id": "217eae37-1ae9-4e9b-85d6-c409716fa27e",
   "metadata": {},
   "outputs": [
    {
     "data": {
      "text/plain": [
       "['yellow']"
      ]
     },
     "execution_count": 23,
     "metadata": {},
     "output_type": "execute_result"
    }
   ],
   "source": [
    "L[1:2]"
   ]
  },
  {
   "cell_type": "code",
   "execution_count": 24,
   "id": "ae3202ee-e04b-40e6-a311-7c3309332a0b",
   "metadata": {},
   "outputs": [],
   "source": [
    "L[1:2] = [\"apples\"]"
   ]
  },
  {
   "cell_type": "code",
   "execution_count": 25,
   "id": "a8f181cf-384e-4e97-8101-72a3af684618",
   "metadata": {},
   "outputs": [
    {
     "data": {
      "text/plain": [
       "['red', 'apples', 5, 6.7, -1.2, [1, 2, 3]]"
      ]
     },
     "execution_count": 25,
     "metadata": {},
     "output_type": "execute_result"
    }
   ],
   "source": [
    "L"
   ]
  },
  {
   "cell_type": "code",
   "execution_count": 26,
   "id": "c20b6f93-e0e0-4f7b-b0e7-b87fe07ad91f",
   "metadata": {},
   "outputs": [
    {
     "data": {
      "text/plain": [
       "['red']"
      ]
     },
     "execution_count": 26,
     "metadata": {},
     "output_type": "execute_result"
    }
   ],
   "source": [
    "L[0:1]"
   ]
  },
  {
   "cell_type": "code",
   "execution_count": 27,
   "id": "08b4ef34-f7f2-4e7c-b781-caf830eaa8eb",
   "metadata": {},
   "outputs": [],
   "source": [
    "L[0:1] = [\"yellow\", \"orange\", \"golden\", \"brown\"]"
   ]
  },
  {
   "cell_type": "code",
   "execution_count": 28,
   "id": "5021eac1-54b0-479a-ae7e-fbf6c9ada239",
   "metadata": {},
   "outputs": [
    {
     "data": {
      "text/plain": [
       "['yellow', 'orange', 'golden', 'brown', 'apples', 5, 6.7, -1.2, [1, 2, 3]]"
      ]
     },
     "execution_count": 28,
     "metadata": {},
     "output_type": "execute_result"
    }
   ],
   "source": [
    "L"
   ]
  },
  {
   "cell_type": "code",
   "execution_count": 29,
   "id": "221530fc-df98-411c-82cb-9495e9f19e5c",
   "metadata": {},
   "outputs": [
    {
     "data": {
      "text/plain": [
       "'orange'"
      ]
     },
     "execution_count": 29,
     "metadata": {},
     "output_type": "execute_result"
    }
   ],
   "source": [
    "L[1]"
   ]
  },
  {
   "cell_type": "code",
   "execution_count": 30,
   "id": "4c358438-3ec0-441c-ae77-e1cf3eb751df",
   "metadata": {},
   "outputs": [],
   "source": [
    "L[1] = [\"blue\", \"cyan\", \"cerulean\"]"
   ]
  },
  {
   "cell_type": "code",
   "execution_count": 31,
   "id": "95cf5d78-69ec-445f-8404-611398e0eca3",
   "metadata": {},
   "outputs": [
    {
     "data": {
      "text/plain": [
       "['yellow',\n",
       " ['blue', 'cyan', 'cerulean'],\n",
       " 'golden',\n",
       " 'brown',\n",
       " 'apples',\n",
       " 5,\n",
       " 6.7,\n",
       " -1.2,\n",
       " [1, 2, 3]]"
      ]
     },
     "execution_count": 31,
     "metadata": {},
     "output_type": "execute_result"
    }
   ],
   "source": [
    "L"
   ]
  },
  {
   "cell_type": "markdown",
   "id": "c308f71a-e628-4cdc-b4b6-6273ca7a9ab9",
   "metadata": {},
   "source": [
    "### 6.3 Adding elements"
   ]
  },
  {
   "cell_type": "code",
   "execution_count": 32,
   "id": "3bafabaa-123c-42dc-a9e6-3e80019f9758",
   "metadata": {},
   "outputs": [],
   "source": [
    "L = [\"red\", \"green\", \"blue\"]"
   ]
  },
  {
   "cell_type": "code",
   "execution_count": 33,
   "id": "700eaf3a-c26d-40dc-85d3-a15675759f02",
   "metadata": {},
   "outputs": [],
   "source": [
    "L.append(\"golden\")"
   ]
  },
  {
   "cell_type": "code",
   "execution_count": 34,
   "id": "b291cdb4-5e0c-48e2-bd57-1788cf996b29",
   "metadata": {},
   "outputs": [
    {
     "data": {
      "text/plain": [
       "['red', 'green', 'blue', 'golden']"
      ]
     },
     "execution_count": 34,
     "metadata": {},
     "output_type": "execute_result"
    }
   ],
   "source": [
    "L"
   ]
  },
  {
   "cell_type": "code",
   "execution_count": 35,
   "id": "534ffbcd-caf1-45b5-908b-dbc5ef3f8894",
   "metadata": {},
   "outputs": [],
   "source": [
    "L.append(\"yello\")"
   ]
  },
  {
   "cell_type": "code",
   "execution_count": 36,
   "id": "ee8f9147-56ca-44a6-87d7-a9be71b6cc41",
   "metadata": {},
   "outputs": [
    {
     "data": {
      "text/plain": [
       "['red', 'green', 'blue', 'golden', 'yello']"
      ]
     },
     "execution_count": 36,
     "metadata": {},
     "output_type": "execute_result"
    }
   ],
   "source": [
    "L"
   ]
  },
  {
   "cell_type": "code",
   "execution_count": 37,
   "id": "139bf556-f17a-455b-8629-fc4d7904d7da",
   "metadata": {},
   "outputs": [],
   "source": [
    "L[-1] = \"yellow\""
   ]
  },
  {
   "cell_type": "code",
   "execution_count": 38,
   "id": "981309d4-c27b-4900-b327-a2995a50bf51",
   "metadata": {},
   "outputs": [
    {
     "data": {
      "text/plain": [
       "['red', 'green', 'blue', 'golden', 'yellow']"
      ]
     },
     "execution_count": 38,
     "metadata": {},
     "output_type": "execute_result"
    }
   ],
   "source": [
    "L"
   ]
  },
  {
   "cell_type": "code",
   "execution_count": 39,
   "id": "6e3301c4-fab8-492f-baff-4f005de36ed9",
   "metadata": {},
   "outputs": [],
   "source": [
    "L.insert(1, \"orange\")"
   ]
  },
  {
   "cell_type": "code",
   "execution_count": 40,
   "id": "602bfb91-9960-4fa7-8ab2-dceac13198c9",
   "metadata": {},
   "outputs": [
    {
     "data": {
      "text/plain": [
       "['red', 'orange', 'green', 'blue', 'golden', 'yellow']"
      ]
     },
     "execution_count": 40,
     "metadata": {},
     "output_type": "execute_result"
    }
   ],
   "source": [
    "L"
   ]
  },
  {
   "cell_type": "code",
   "execution_count": 41,
   "id": "3c86be8b-357e-4565-862e-ec3242009c5b",
   "metadata": {},
   "outputs": [],
   "source": [
    "L1 = [\"white\", \"grey\", \"black\"]"
   ]
  },
  {
   "cell_type": "code",
   "execution_count": 42,
   "id": "c583679e-bb67-4150-92a2-16408fd5a7ea",
   "metadata": {},
   "outputs": [],
   "source": [
    "L.extend(L1)"
   ]
  },
  {
   "cell_type": "code",
   "execution_count": 43,
   "id": "94a35e47-1439-4eb2-8b72-7499ab8eda28",
   "metadata": {},
   "outputs": [
    {
     "data": {
      "text/plain": [
       "['red',\n",
       " 'orange',\n",
       " 'green',\n",
       " 'blue',\n",
       " 'golden',\n",
       " 'yellow',\n",
       " 'white',\n",
       " 'grey',\n",
       " 'black']"
      ]
     },
     "execution_count": 43,
     "metadata": {},
     "output_type": "execute_result"
    }
   ],
   "source": [
    "L"
   ]
  },
  {
   "cell_type": "markdown",
   "id": "1b2f8b21-d81b-4350-8a16-2558b049cef4",
   "metadata": {},
   "source": [
    "### 6.3 Removing Elements"
   ]
  },
  {
   "cell_type": "code",
   "execution_count": 44,
   "id": "2fd0fd8a-1e86-4148-b45d-7ddbf4d256da",
   "metadata": {},
   "outputs": [
    {
     "data": {
      "text/plain": [
       "['red',\n",
       " 'orange',\n",
       " 'green',\n",
       " 'blue',\n",
       " 'golden',\n",
       " 'yellow',\n",
       " 'white',\n",
       " 'grey',\n",
       " 'black']"
      ]
     },
     "execution_count": 44,
     "metadata": {},
     "output_type": "execute_result"
    }
   ],
   "source": [
    "L"
   ]
  },
  {
   "cell_type": "code",
   "execution_count": 45,
   "id": "91dcbb06-3d68-4b6a-ba5e-510ef1cd6ebd",
   "metadata": {},
   "outputs": [
    {
     "data": {
      "text/plain": [
       "['red', 'orange', 'green', 'blue', 'golden', 'yellow', 'white', 'grey']"
      ]
     },
     "execution_count": 45,
     "metadata": {},
     "output_type": "execute_result"
    }
   ],
   "source": [
    "L.pop()\n",
    "L"
   ]
  },
  {
   "cell_type": "code",
   "execution_count": 46,
   "id": "25934b4f-abac-4afe-aed8-08fbbdc352f6",
   "metadata": {},
   "outputs": [
    {
     "data": {
      "text/plain": [
       "'blue'"
      ]
     },
     "execution_count": 46,
     "metadata": {},
     "output_type": "execute_result"
    }
   ],
   "source": [
    "L.pop(3)"
   ]
  },
  {
   "cell_type": "code",
   "execution_count": 47,
   "id": "fd905003-4b36-4384-9e05-14f9adf501f7",
   "metadata": {},
   "outputs": [
    {
     "data": {
      "text/plain": [
       "['red', 'orange', 'green', 'golden', 'yellow', 'white', 'grey']"
      ]
     },
     "execution_count": 47,
     "metadata": {},
     "output_type": "execute_result"
    }
   ],
   "source": [
    "L"
   ]
  },
  {
   "cell_type": "code",
   "execution_count": 48,
   "id": "95b18251-418b-4777-b441-2e2b3c01f92c",
   "metadata": {},
   "outputs": [],
   "source": [
    "L.remove(\"golden\")"
   ]
  },
  {
   "cell_type": "code",
   "execution_count": 49,
   "id": "4d6f9ede-13d8-4538-98cd-6a1ec7ccf26a",
   "metadata": {},
   "outputs": [
    {
     "data": {
      "text/plain": [
       "['red', 'orange', 'green', 'yellow', 'white', 'grey']"
      ]
     },
     "execution_count": 49,
     "metadata": {},
     "output_type": "execute_result"
    }
   ],
   "source": [
    "L"
   ]
  },
  {
   "cell_type": "markdown",
   "id": "7d23c7a5-d2d2-440d-96ad-628c75fac5e4",
   "metadata": {},
   "source": [
    "### 6.4 Re-arranging Elements"
   ]
  },
  {
   "cell_type": "code",
   "execution_count": 50,
   "id": "812e9816-8ef4-4264-aa26-cf1c3e634477",
   "metadata": {},
   "outputs": [
    {
     "data": {
      "text/plain": [
       "['red', 'orange', 'green', 'yellow', 'white', 'grey']"
      ]
     },
     "execution_count": 50,
     "metadata": {},
     "output_type": "execute_result"
    }
   ],
   "source": [
    "L"
   ]
  },
  {
   "cell_type": "code",
   "execution_count": 58,
   "id": "c6737214-8de0-40cf-ab9d-afdb90befd97",
   "metadata": {},
   "outputs": [
    {
     "data": {
      "text/plain": [
       "['green', 'grey', 'orange', 'red', 'white', 'yellow']"
      ]
     },
     "execution_count": 58,
     "metadata": {},
     "output_type": "execute_result"
    }
   ],
   "source": [
    "SL = sorted(L)\n",
    "SL"
   ]
  },
  {
   "cell_type": "code",
   "execution_count": 53,
   "id": "832614b7-ab0c-4a5d-8c8d-23e02c298ba9",
   "metadata": {},
   "outputs": [
    {
     "data": {
      "text/plain": [
       "['yellow', 'white', 'red', 'orange', 'grey', 'green']"
      ]
     },
     "execution_count": 53,
     "metadata": {},
     "output_type": "execute_result"
    }
   ],
   "source": [
    "sorted(L, reverse=True)"
   ]
  },
  {
   "cell_type": "code",
   "execution_count": 56,
   "id": "b2e8a47d-457e-4abc-9f55-043df799213c",
   "metadata": {},
   "outputs": [
    {
     "data": {
      "text/plain": [
       "['grey', 'white', 'yellow', 'green', 'orange', 'red']"
      ]
     },
     "execution_count": 56,
     "metadata": {},
     "output_type": "execute_result"
    }
   ],
   "source": [
    "list(reversed(L))"
   ]
  },
  {
   "cell_type": "markdown",
   "id": "e364fa3f-081a-4344-aef4-b88abcc8b8a5",
   "metadata": {},
   "source": [
    "##### Note: In all above cases original array is not changed"
   ]
  },
  {
   "cell_type": "code",
   "execution_count": 57,
   "id": "3e072e30-713c-4abc-b87e-e1393d2705c1",
   "metadata": {},
   "outputs": [
    {
     "data": {
      "text/plain": [
       "['red', 'orange', 'green', 'yellow', 'white', 'grey']"
      ]
     },
     "execution_count": 57,
     "metadata": {},
     "output_type": "execute_result"
    }
   ],
   "source": [
    "L"
   ]
  },
  {
   "cell_type": "markdown",
   "id": "47f62cd2-0b5f-4c32-b53d-ea98f33206ed",
   "metadata": {},
   "source": [
    "##### Note: The following functions change the array in-place"
   ]
  },
  {
   "cell_type": "code",
   "execution_count": 59,
   "id": "16bd008e-9df1-40b3-b337-43e50db7fbc6",
   "metadata": {},
   "outputs": [
    {
     "data": {
      "text/plain": [
       "['green', 'grey', 'orange', 'red', 'white', 'yellow']"
      ]
     },
     "execution_count": 59,
     "metadata": {},
     "output_type": "execute_result"
    }
   ],
   "source": [
    "L.sort()\n",
    "L"
   ]
  },
  {
   "cell_type": "code",
   "execution_count": 60,
   "id": "813b53f6-3883-447d-80cb-1aacb25c9d30",
   "metadata": {},
   "outputs": [
    {
     "data": {
      "text/plain": [
       "['yellow', 'white', 'red', 'orange', 'grey', 'green']"
      ]
     },
     "execution_count": 60,
     "metadata": {},
     "output_type": "execute_result"
    }
   ],
   "source": [
    "L.sort(reverse=True)\n",
    "L"
   ]
  },
  {
   "cell_type": "code",
   "execution_count": 65,
   "id": "96ed4279-1a6e-4c73-961e-fe4d781fd1fd",
   "metadata": {},
   "outputs": [
    {
     "data": {
      "text/plain": [
       "['green', 'grey', 'orange', 'red', 'white', 'yellow']"
      ]
     },
     "execution_count": 65,
     "metadata": {},
     "output_type": "execute_result"
    }
   ],
   "source": [
    "L.reverse()\n",
    "L"
   ]
  },
  {
   "cell_type": "markdown",
   "id": "e92bb229-a3cd-424e-9de3-5d60b9f71969",
   "metadata": {},
   "source": [
    "### 6.5 Iterate on an array"
   ]
  },
  {
   "cell_type": "code",
   "execution_count": 66,
   "id": "09479be1-03c9-4cc9-8855-ec8b1a1040ed",
   "metadata": {},
   "outputs": [
    {
     "name": "stdout",
     "output_type": "stream",
     "text": [
      "green\n",
      "grey\n",
      "orange\n",
      "red\n",
      "white\n",
      "yellow\n"
     ]
    }
   ],
   "source": [
    "for item in L:\n",
    "    print(item)"
   ]
  },
  {
   "cell_type": "code",
   "execution_count": 68,
   "id": "af019469-6aa4-4b29-8578-02c61cf31140",
   "metadata": {},
   "outputs": [
    {
     "name": "stdout",
     "output_type": "stream",
     "text": [
      "green\n",
      "grey\n",
      "orange\n",
      "red\n",
      "white\n",
      "yellow\n"
     ]
    }
   ],
   "source": [
    "i = 0\n",
    "while i < len(L):\n",
    "    print(L[i])\n",
    "    i += 1"
   ]
  },
  {
   "cell_type": "markdown",
   "id": "72ba27c7-0770-4d82-be82-8139d56f04c8",
   "metadata": {},
   "source": [
    "### 6.6 Operators"
   ]
  },
  {
   "cell_type": "code",
   "execution_count": 69,
   "id": "48a347e0-58ed-4c25-b96e-ae8dfd959807",
   "metadata": {},
   "outputs": [
    {
     "data": {
      "text/plain": [
       "[1, 2, 3, 4, 5, 6]"
      ]
     },
     "execution_count": 69,
     "metadata": {},
     "output_type": "execute_result"
    }
   ],
   "source": [
    "[1, 2, 3] + [4, 5, 6]"
   ]
  },
  {
   "cell_type": "code",
   "execution_count": 70,
   "id": "5463684a-cc24-4736-bf31-e1f673715386",
   "metadata": {},
   "outputs": [
    {
     "data": {
      "text/plain": [
       "[1, 2, 3, 1, 2, 3, 1, 2, 3]"
      ]
     },
     "execution_count": 70,
     "metadata": {},
     "output_type": "execute_result"
    }
   ],
   "source": [
    "[1, 2, 3] * 3"
   ]
  },
  {
   "cell_type": "code",
   "execution_count": 71,
   "id": "037adb11-20b3-4d53-b9fd-3dd3f44953d6",
   "metadata": {},
   "outputs": [
    {
     "data": {
      "text/plain": [
       "['green', 'grey', 'orange', 'red', 'white', 'yellow']"
      ]
     },
     "execution_count": 71,
     "metadata": {},
     "output_type": "execute_result"
    }
   ],
   "source": [
    "L"
   ]
  },
  {
   "cell_type": "code",
   "execution_count": 72,
   "id": "f426d5aa-0034-4589-9c17-16858810da69",
   "metadata": {},
   "outputs": [
    {
     "data": {
      "text/plain": [
       "True"
      ]
     },
     "execution_count": 72,
     "metadata": {},
     "output_type": "execute_result"
    }
   ],
   "source": [
    "\"red\" in L"
   ]
  },
  {
   "cell_type": "code",
   "execution_count": 73,
   "id": "6e74d046-d1c3-42d7-b3ae-084b18fca62c",
   "metadata": {},
   "outputs": [
    {
     "data": {
      "text/plain": [
       "6"
      ]
     },
     "execution_count": 73,
     "metadata": {},
     "output_type": "execute_result"
    }
   ],
   "source": [
    "len(L)"
   ]
  },
  {
   "cell_type": "code",
   "execution_count": 74,
   "id": "a1e35dd6-a1d2-4b0b-adac-7d4cabfc55d7",
   "metadata": {},
   "outputs": [
    {
     "data": {
      "text/plain": [
       "list"
      ]
     },
     "execution_count": 74,
     "metadata": {},
     "output_type": "execute_result"
    }
   ],
   "source": [
    "type(L)"
   ]
  },
  {
   "cell_type": "code",
   "execution_count": 75,
   "id": "8296ec8b-67de-406a-922f-c5960e3bb568",
   "metadata": {},
   "outputs": [
    {
     "data": {
      "text/plain": [
       "True"
      ]
     },
     "execution_count": 75,
     "metadata": {},
     "output_type": "execute_result"
    }
   ],
   "source": [
    "type(L) == list"
   ]
  },
  {
   "cell_type": "code",
   "execution_count": 76,
   "id": "9dc9ce58-d2cc-477f-84ca-3136e9b4169e",
   "metadata": {},
   "outputs": [
    {
     "data": {
      "text/plain": [
       "True"
      ]
     },
     "execution_count": 76,
     "metadata": {},
     "output_type": "execute_result"
    }
   ],
   "source": [
    "isinstance(L, list)"
   ]
  },
  {
   "cell_type": "code",
   "execution_count": 77,
   "id": "b6e47ea3-3782-42ca-896c-5dab46533c72",
   "metadata": {},
   "outputs": [],
   "source": [
    "del L"
   ]
  },
  {
   "cell_type": "code",
   "execution_count": 78,
   "id": "74d0d393-9827-4df5-aa97-6f5777c5a537",
   "metadata": {},
   "outputs": [
    {
     "ename": "NameError",
     "evalue": "name 'L' is not defined",
     "output_type": "error",
     "traceback": [
      "\u001b[1;31m---------------------------------------------------------------------------\u001b[0m",
      "\u001b[1;31mNameError\u001b[0m                                 Traceback (most recent call last)",
      "Cell \u001b[1;32mIn[78], line 1\u001b[0m\n\u001b[1;32m----> 1\u001b[0m L\n",
      "\u001b[1;31mNameError\u001b[0m: name 'L' is not defined"
     ]
    }
   ],
   "source": [
    "L"
   ]
  },
  {
   "cell_type": "markdown",
   "id": "311838b3-20cb-447f-8637-65784fd45615",
   "metadata": {},
   "source": [
    "### 6.7 Built-in Functions"
   ]
  },
  {
   "cell_type": "code",
   "execution_count": 79,
   "id": "6a145a83-4a92-4ae0-84b8-2551722026ad",
   "metadata": {},
   "outputs": [],
   "source": [
    "L = [23, 45, 67, 89, 92]"
   ]
  },
  {
   "cell_type": "code",
   "execution_count": 80,
   "id": "d38895ba-c26c-4f69-9dde-7b9ae0584fe6",
   "metadata": {},
   "outputs": [
    {
     "data": {
      "text/plain": [
       "316"
      ]
     },
     "execution_count": 80,
     "metadata": {},
     "output_type": "execute_result"
    }
   ],
   "source": [
    "sum(L)"
   ]
  },
  {
   "cell_type": "code",
   "execution_count": 81,
   "id": "b766d604-5b67-467b-8ce1-169de9959513",
   "metadata": {},
   "outputs": [
    {
     "data": {
      "text/plain": [
       "92"
      ]
     },
     "execution_count": 81,
     "metadata": {},
     "output_type": "execute_result"
    }
   ],
   "source": [
    "max(L)"
   ]
  },
  {
   "cell_type": "code",
   "execution_count": 82,
   "id": "42c52a99-e972-40c5-bfd5-5aff75f5ac3f",
   "metadata": {},
   "outputs": [
    {
     "data": {
      "text/plain": [
       "23"
      ]
     },
     "execution_count": 82,
     "metadata": {},
     "output_type": "execute_result"
    }
   ],
   "source": [
    "min(L)"
   ]
  },
  {
   "cell_type": "code",
   "execution_count": 83,
   "id": "1a6a47cf-420c-4b2c-b6df-219a9aa53667",
   "metadata": {},
   "outputs": [
    {
     "data": {
      "text/plain": [
       "True"
      ]
     },
     "execution_count": 83,
     "metadata": {},
     "output_type": "execute_result"
    }
   ],
   "source": [
    "any(L)"
   ]
  },
  {
   "cell_type": "markdown",
   "id": "9d7cdf05-ea53-4463-b091-d35a45cf2df1",
   "metadata": {},
   "source": [
    "##### Note: any non-zero value is True"
   ]
  },
  {
   "cell_type": "code",
   "execution_count": 85,
   "id": "09896e47-9c51-4e19-ae45-a5bab41f0dd0",
   "metadata": {},
   "outputs": [
    {
     "data": {
      "text/plain": [
       "True"
      ]
     },
     "execution_count": 85,
     "metadata": {},
     "output_type": "execute_result"
    }
   ],
   "source": [
    "all(L)"
   ]
  },
  {
   "cell_type": "code",
   "execution_count": 86,
   "id": "9fa1aea0-10a5-4ffd-8b58-3b2457840c35",
   "metadata": {},
   "outputs": [],
   "source": [
    "L.append(0)"
   ]
  },
  {
   "cell_type": "code",
   "execution_count": 87,
   "id": "783b13c4-e37c-4088-ab09-74af75fb7cf5",
   "metadata": {},
   "outputs": [
    {
     "data": {
      "text/plain": [
       "[23, 45, 67, 89, 92, 0]"
      ]
     },
     "execution_count": 87,
     "metadata": {},
     "output_type": "execute_result"
    }
   ],
   "source": [
    "L"
   ]
  },
  {
   "cell_type": "code",
   "execution_count": 88,
   "id": "ae07d466-04f2-43ac-a415-089baca96457",
   "metadata": {},
   "outputs": [
    {
     "data": {
      "text/plain": [
       "False"
      ]
     },
     "execution_count": 88,
     "metadata": {},
     "output_type": "execute_result"
    }
   ],
   "source": [
    "all(L)"
   ]
  },
  {
   "cell_type": "code",
   "execution_count": 89,
   "id": "64a1c4b7-72cd-4b94-a89a-5d1e828b079d",
   "metadata": {},
   "outputs": [],
   "source": [
    "from statistics import mean, median, mode"
   ]
  },
  {
   "cell_type": "code",
   "execution_count": 90,
   "id": "6c158e20-3ade-4008-9f1a-48b6bf068d09",
   "metadata": {},
   "outputs": [
    {
     "data": {
      "text/plain": [
       "52.666666666666664"
      ]
     },
     "execution_count": 90,
     "metadata": {},
     "output_type": "execute_result"
    }
   ],
   "source": [
    "mean(L)"
   ]
  },
  {
   "cell_type": "code",
   "execution_count": 91,
   "id": "4b4a9dbe-0921-492a-80ac-6044f2ec5f33",
   "metadata": {},
   "outputs": [
    {
     "data": {
      "text/plain": [
       "56.0"
      ]
     },
     "execution_count": 91,
     "metadata": {},
     "output_type": "execute_result"
    }
   ],
   "source": [
    "median(L)"
   ]
  },
  {
   "cell_type": "code",
   "execution_count": 92,
   "id": "3418ca0f-0f13-449f-8ac7-129343b9bee9",
   "metadata": {},
   "outputs": [
    {
     "data": {
      "text/plain": [
       "23"
      ]
     },
     "execution_count": 92,
     "metadata": {},
     "output_type": "execute_result"
    }
   ],
   "source": [
    "mode(L)"
   ]
  },
  {
   "cell_type": "markdown",
   "id": "da27921a-5a18-4942-8dc7-7ce2db9547d5",
   "metadata": {},
   "source": [
    "### 6.8 Search for elements"
   ]
  },
  {
   "cell_type": "code",
   "execution_count": 93,
   "id": "1172c017-6ca9-4b31-aa7f-ffa98d83a9fc",
   "metadata": {},
   "outputs": [
    {
     "data": {
      "text/plain": [
       "[23, 45, 67, 89, 92, 0]"
      ]
     },
     "execution_count": 93,
     "metadata": {},
     "output_type": "execute_result"
    }
   ],
   "source": [
    "L"
   ]
  },
  {
   "cell_type": "code",
   "execution_count": 94,
   "id": "a328702f-2099-45ac-82f0-194f5b6ae06e",
   "metadata": {},
   "outputs": [
    {
     "data": {
      "text/plain": [
       "True"
      ]
     },
     "execution_count": 94,
     "metadata": {},
     "output_type": "execute_result"
    }
   ],
   "source": [
    "23 in L"
   ]
  },
  {
   "cell_type": "code",
   "execution_count": 95,
   "id": "b7c3e0ac-2107-4759-b1ae-a4540d7f86f1",
   "metadata": {},
   "outputs": [
    {
     "data": {
      "text/plain": [
       "0"
      ]
     },
     "execution_count": 95,
     "metadata": {},
     "output_type": "execute_result"
    }
   ],
   "source": [
    "L.index(23)"
   ]
  },
  {
   "cell_type": "code",
   "execution_count": 97,
   "id": "a9013ce8-9761-4085-acdd-045c9fd8a4f6",
   "metadata": {},
   "outputs": [
    {
     "ename": "ValueError",
     "evalue": "99 is not in list",
     "output_type": "error",
     "traceback": [
      "\u001b[1;31m---------------------------------------------------------------------------\u001b[0m",
      "\u001b[1;31mValueError\u001b[0m                                Traceback (most recent call last)",
      "Cell \u001b[1;32mIn[97], line 1\u001b[0m\n\u001b[1;32m----> 1\u001b[0m L\u001b[38;5;241m.\u001b[39mindex(\u001b[38;5;241m99\u001b[39m)\n",
      "\u001b[1;31mValueError\u001b[0m: 99 is not in list"
     ]
    }
   ],
   "source": [
    "L.index(99)"
   ]
  },
  {
   "cell_type": "code",
   "execution_count": 98,
   "id": "b0bb3549-7f74-403e-90f0-1b8edfe075d5",
   "metadata": {},
   "outputs": [
    {
     "ename": "AttributeError",
     "evalue": "'list' object has no attribute 'find'",
     "output_type": "error",
     "traceback": [
      "\u001b[1;31m---------------------------------------------------------------------------\u001b[0m",
      "\u001b[1;31mAttributeError\u001b[0m                            Traceback (most recent call last)",
      "Cell \u001b[1;32mIn[98], line 1\u001b[0m\n\u001b[1;32m----> 1\u001b[0m L\u001b[38;5;241m.\u001b[39mfind(\u001b[38;5;241m99\u001b[39m)\n",
      "\u001b[1;31mAttributeError\u001b[0m: 'list' object has no attribute 'find'"
     ]
    }
   ],
   "source": [
    "L.find(99)"
   ]
  },
  {
   "cell_type": "code",
   "execution_count": null,
   "id": "015d4b10-0579-4f3b-b2f9-a3b5e4cf983e",
   "metadata": {},
   "outputs": [],
   "source": []
  }
 ],
 "metadata": {
  "kernelspec": {
   "display_name": "Python 3 (ipykernel)",
   "language": "python",
   "name": "python3"
  },
  "language_info": {
   "codemirror_mode": {
    "name": "ipython",
    "version": 3
   },
   "file_extension": ".py",
   "mimetype": "text/x-python",
   "name": "python",
   "nbconvert_exporter": "python",
   "pygments_lexer": "ipython3",
   "version": "3.11.7"
  }
 },
 "nbformat": 4,
 "nbformat_minor": 5
}
