{
 "cells": [
  {
   "cell_type": "markdown",
   "id": "d6b70fee-99f8-4248-bc55-d84861ac0a03",
   "metadata": {},
   "source": [
    "# Object Oriented Programming"
   ]
  },
  {
   "cell_type": "markdown",
   "id": "9acb3ba2-c218-45f9-a62f-36e891111e8f",
   "metadata": {},
   "source": [
    "### 12.1 Creating classes and objects"
   ]
  },
  {
   "cell_type": "markdown",
   "id": "277a6ab9-bd0f-4d8f-8a03-579af5ee3e8a",
   "metadata": {},
   "source": [
    "Let's create an employee class with the following attributes:\n",
    "- name\n",
    "- age\n",
    "- company\n",
    "- salary"
   ]
  },
  {
   "cell_type": "markdown",
   "id": "9c64169f-dabe-4d6b-8e01-87e927adc044",
   "metadata": {},
   "source": [
    "#### Developer"
   ]
  },
  {
   "cell_type": "code",
   "execution_count": 90,
   "id": "48671899-7ec6-42e3-ad81-74a08bd8daf8",
   "metadata": {},
   "outputs": [],
   "source": [
    "class employee:\n",
    "\n",
    "    # Class variable\n",
    "    nemployees = 0 \n",
    "\n",
    "    # Constructer, all the instance variable are mentioned\n",
    "    def __init__(self, name, age): # args specified should be passed at the time of creating the object\n",
    "        # instance variables\n",
    "        self.name = name\n",
    "        self.age  = str(age)\n",
    "        self.company = ''\n",
    "        self.salary = '0 INR'\n",
    "        employee.nemployees += 1\n",
    "\n",
    "    # functions or method -> member functions -> public interface\n",
    "    def printinfo(self):\n",
    "        template = \"Name\".ljust(10) + self.name + '|' + \"Age\".ljust(10) + self.age  + '|' + \\\n",
    "                   \"Company\".ljust(10) + self.company + '|' + \"Salary\".ljust(10) + str(self.salary)\n",
    "        print(template)\n",
    "        print(self)\n",
    "\n",
    "    def updateinfo(self, field, value):\n",
    "        if field in ['name', 'age', 'company', 'salary']:\n",
    "            if field == 'name':\n",
    "                self.name = str(value)\n",
    "            elif field == 'age':\n",
    "                self.age = str(value)\n",
    "            elif field == 'company':\n",
    "                self.company = str(value)\n",
    "            else:\n",
    "                if value.endswith(' INR') and value[ :-4].isdigit():\n",
    "                    self.salary = value\n",
    "                else:\n",
    "                    print(\"Invalid value for salary\")\n",
    "        else:\n",
    "            print(\"Invalid value for field\")\n",
    "            \n",
    "\n",
    "    def calctax(self, pct):\n",
    "        amount = float(self.salary.split()[0])\n",
    "        newamount = amount - ((pct/100) * amount)\n",
    "        self.salary = str(newamount) + ' INR'\n",
    "        "
   ]
  },
  {
   "cell_type": "markdown",
   "id": "97823ba9-1dc8-412d-9212-0046132d47f3",
   "metadata": {},
   "source": [
    "#### User"
   ]
  },
  {
   "cell_type": "code",
   "execution_count": 68,
   "id": "68e49791-0211-43e8-bd2c-e043c717c5af",
   "metadata": {},
   "outputs": [],
   "source": [
    "e1 = employee(\"Rajesh\", 40)\n",
    "e2 = employee(\"Anil\", 35)"
   ]
  },
  {
   "cell_type": "code",
   "execution_count": 69,
   "id": "89da5e55-614f-40f8-a62e-e3542824c059",
   "metadata": {},
   "outputs": [
    {
     "data": {
      "text/plain": [
       "<__main__.employee at 0x1fd4b651450>"
      ]
     },
     "execution_count": 69,
     "metadata": {},
     "output_type": "execute_result"
    }
   ],
   "source": [
    "e1"
   ]
  },
  {
   "cell_type": "code",
   "execution_count": 70,
   "id": "786a8746-3ad3-4500-8a1a-dc0250d53464",
   "metadata": {},
   "outputs": [
    {
     "data": {
      "text/plain": [
       "<__main__.employee at 0x1fd4ae6f8d0>"
      ]
     },
     "execution_count": 70,
     "metadata": {},
     "output_type": "execute_result"
    }
   ],
   "source": [
    "e2"
   ]
  },
  {
   "cell_type": "code",
   "execution_count": 71,
   "id": "62e94d49-f444-4818-930b-8a99d3444419",
   "metadata": {},
   "outputs": [
    {
     "name": "stdout",
     "output_type": "stream",
     "text": [
      "Name      Rajesh|Age       40|Company   |Salary    0 INR\n",
      "<__main__.employee object at 0x000001FD4B651450>\n"
     ]
    }
   ],
   "source": [
    "e1.printinfo()"
   ]
  },
  {
   "cell_type": "code",
   "execution_count": 72,
   "id": "d5489a0d-bfd7-4a21-bf65-6a06659f4ec6",
   "metadata": {},
   "outputs": [
    {
     "name": "stdout",
     "output_type": "stream",
     "text": [
      "Name      Anil|Age       35|Company   |Salary    0 INR\n",
      "<__main__.employee object at 0x000001FD4AE6F8D0>\n"
     ]
    }
   ],
   "source": [
    "e2.printinfo()"
   ]
  },
  {
   "cell_type": "code",
   "execution_count": 73,
   "id": "27b6b54e-7706-40b1-91ac-c117eded4871",
   "metadata": {},
   "outputs": [],
   "source": [
    "e1.updateinfo('company', 'Wipro')\n",
    "e1.updateinfo('salary', '1000000 INR')"
   ]
  },
  {
   "cell_type": "code",
   "execution_count": 74,
   "id": "89291514-d22e-4374-839c-3acf83eb939c",
   "metadata": {},
   "outputs": [
    {
     "data": {
      "text/plain": [
       "True"
      ]
     },
     "execution_count": 74,
     "metadata": {},
     "output_type": "execute_result"
    }
   ],
   "source": [
    "s = '1000000 INR'\n",
    "s[:-4].isdigit() and s.endswith(' INR')"
   ]
  },
  {
   "cell_type": "code",
   "execution_count": 75,
   "id": "aeb97c45-97de-4280-978e-de6fc2b1060b",
   "metadata": {},
   "outputs": [
    {
     "name": "stdout",
     "output_type": "stream",
     "text": [
      "Name      Rajesh|Age       40|Company   Wipro|Salary    1000000 INR\n",
      "<__main__.employee object at 0x000001FD4B651450>\n"
     ]
    }
   ],
   "source": [
    "e1.printinfo()"
   ]
  },
  {
   "cell_type": "code",
   "execution_count": 76,
   "id": "b3784d70-a241-4a06-925e-ca67ec7857a8",
   "metadata": {},
   "outputs": [],
   "source": [
    "e1.calctax(15)"
   ]
  },
  {
   "cell_type": "code",
   "execution_count": 77,
   "id": "fa49c68e-6357-401b-a26d-ae5f2e275588",
   "metadata": {},
   "outputs": [
    {
     "name": "stdout",
     "output_type": "stream",
     "text": [
      "Name      Rajesh|Age       40|Company   Wipro|Salary    850000.0 INR\n",
      "<__main__.employee object at 0x000001FD4B651450>\n"
     ]
    }
   ],
   "source": [
    "e1.printinfo()"
   ]
  },
  {
   "cell_type": "code",
   "execution_count": 79,
   "id": "d0fcea51-54cd-4437-b127-641b4a740c7e",
   "metadata": {},
   "outputs": [
    {
     "data": {
      "text/plain": [
       "(2, 2, 2)"
      ]
     },
     "execution_count": 79,
     "metadata": {},
     "output_type": "execute_result"
    }
   ],
   "source": [
    "employee.nemployees, e1.nemployees, e2.nemployees"
   ]
  },
  {
   "cell_type": "markdown",
   "id": "66063186-6379-4568-99f3-4f9950249a83",
   "metadata": {},
   "source": [
    "### 12.2 Inheritance"
   ]
  },
  {
   "cell_type": "markdown",
   "id": "dd98c79e-c5d8-4c00-9f65-e9367373b6cd",
   "metadata": {},
   "source": [
    "Extend the class with more properties and methods:\n",
    "- phone number\n",
    "- address\n",
    "- dependent list"
   ]
  },
  {
   "cell_type": "markdown",
   "id": "3a074040-9cd4-4e6b-a4c9-5215d945950e",
   "metadata": {},
   "source": [
    "##### Syntax and behaviour for inheritence"
   ]
  },
  {
   "cell_type": "code",
   "execution_count": 80,
   "id": "4f9acce0-6ec8-4125-8bae-f3ee6ce1173c",
   "metadata": {},
   "outputs": [],
   "source": [
    "class employee2(employee):\n",
    "    pass"
   ]
  },
  {
   "cell_type": "code",
   "execution_count": 81,
   "id": "8e40b301-df24-47b3-a0f6-0bb4d34588f0",
   "metadata": {},
   "outputs": [
    {
     "name": "stdout",
     "output_type": "stream",
     "text": [
      "Name      Sunil|Age       45|Company   |Salary    0 INR\n",
      "<__main__.employee2 object at 0x000001FD4B68C350>\n"
     ]
    }
   ],
   "source": [
    "e3 = employee2('Sunil', 45)\n",
    "e3.printinfo()"
   ]
  },
  {
   "cell_type": "markdown",
   "id": "57527cbb-5127-4550-bf19-a546e5479f81",
   "metadata": {},
   "source": [
    "##### Can we access the class variable?"
   ]
  },
  {
   "cell_type": "code",
   "execution_count": 83,
   "id": "27331cf1-f454-4b57-bdb7-0a9a1b26898a",
   "metadata": {},
   "outputs": [
    {
     "data": {
      "text/plain": [
       "(3, 3)"
      ]
     },
     "execution_count": 83,
     "metadata": {},
     "output_type": "execute_result"
    }
   ],
   "source": [
    "e3.nemployees, e1.nemployees"
   ]
  },
  {
   "cell_type": "code",
   "execution_count": 106,
   "id": "e794d65f-d417-4c28-8e1c-523c41a08d98",
   "metadata": {},
   "outputs": [],
   "source": [
    "class extEmployee(employee):\n",
    "\n",
    "    def __init__(self, name, age, company, phone='0000000000', addr=''):\n",
    "        super().__init__(name, age)\n",
    "        super().updateinfo('company', str(company))\n",
    "        self.phone = phone\n",
    "        self.addr  = addr\n",
    "        self.dependents = []\n",
    "\n",
    "    # method override - redefine the existing function\n",
    "    def printinfo(self):\n",
    "        print(\"NAME : {} ( {} )\".format(self.name, self.age))\n",
    "        print(\"-\"*50)\n",
    "        print(\"COMPANY    : \", self.company)\n",
    "        print(\"SALARY     : \", self.salary)\n",
    "        print(\"PHONE      : \", self.phone)\n",
    "        print(\"ADDRESS    : \", self.addr)\n",
    "        print(\"-\"*50)\n",
    "        print(\"DEPENDENTS : \", *self.dependents)\n",
    "\n",
    "    def getDependents(self):\n",
    "        return self.dependents\n",
    "\n",
    "    def addDependent(self, value):\n",
    "        if(isinstance(value, str)):\n",
    "            self.dependents.append(value)\n",
    "\n",
    "    def removeDependent(self, value):\n",
    "        if value in self.dependents:\n",
    "            self.dependents.remove(value)\n",
    "\n",
    "    def setPhone(self, value):\n",
    "        if(str(value).isdigit()):\n",
    "            self.phone = value\n",
    "\n",
    "    def setAddress(self, addr):\n",
    "        if(type(addr) == str):\n",
    "            self.addr = addr\n"
   ]
  },
  {
   "cell_type": "code",
   "execution_count": 107,
   "id": "bbd9efcb-8f40-43c0-be31-4d8e0178acaf",
   "metadata": {},
   "outputs": [],
   "source": [
    "e4 = extEmployee('Ram', 45, 'Oracle', '9876534534', 'Jayanagar, Bangalore')"
   ]
  },
  {
   "cell_type": "code",
   "execution_count": 108,
   "id": "90dc3d43-bc0a-4400-bfff-e57901f3c531",
   "metadata": {},
   "outputs": [
    {
     "name": "stdout",
     "output_type": "stream",
     "text": [
      "NAME : Ram ( 45 )\n",
      "--------------------------------------------------\n",
      "COMPANY    :  Oracle\n",
      "SALARY     :  0 INR\n",
      "PHONE      :  9876534534\n",
      "ADDRESS    :  Jayanagar, Bangalore\n",
      "--------------------------------------------------\n",
      "DEPENDENTS : \n"
     ]
    }
   ],
   "source": [
    "e4.printinfo()"
   ]
  },
  {
   "cell_type": "code",
   "execution_count": 109,
   "id": "621e0fa4-b9de-48bc-b120-6560c0474186",
   "metadata": {},
   "outputs": [],
   "source": [
    "e4.addDependent('Suresh')\n",
    "e4.addDependent('Sunita')"
   ]
  },
  {
   "cell_type": "code",
   "execution_count": 110,
   "id": "57473a29-c945-420f-8a0c-25108ddc4ab6",
   "metadata": {},
   "outputs": [
    {
     "name": "stdout",
     "output_type": "stream",
     "text": [
      "NAME : Ram ( 45 )\n",
      "--------------------------------------------------\n",
      "COMPANY    :  Oracle\n",
      "SALARY     :  0 INR\n",
      "PHONE      :  9876534534\n",
      "ADDRESS    :  Jayanagar, Bangalore\n",
      "--------------------------------------------------\n",
      "DEPENDENTS :  Suresh Sunita\n"
     ]
    }
   ],
   "source": [
    "e4.printinfo()"
   ]
  },
  {
   "cell_type": "code",
   "execution_count": 111,
   "id": "aef8e1cb-9ba9-4669-8799-ac64cf4f9f23",
   "metadata": {},
   "outputs": [],
   "source": [
    "e4.updateinfo('salary', '2500000 INR')"
   ]
  },
  {
   "cell_type": "code",
   "execution_count": 112,
   "id": "f9b09e8a-916a-461f-8940-d27234510ab6",
   "metadata": {},
   "outputs": [
    {
     "name": "stdout",
     "output_type": "stream",
     "text": [
      "NAME : Ram ( 45 )\n",
      "--------------------------------------------------\n",
      "COMPANY    :  Oracle\n",
      "SALARY     :  2500000 INR\n",
      "PHONE      :  9876534534\n",
      "ADDRESS    :  Jayanagar, Bangalore\n",
      "--------------------------------------------------\n",
      "DEPENDENTS :  Suresh Sunita\n"
     ]
    }
   ],
   "source": [
    "e4.printinfo()"
   ]
  },
  {
   "cell_type": "code",
   "execution_count": 113,
   "id": "64ecedc3-11b6-4627-a107-e1a8ff5d5b23",
   "metadata": {},
   "outputs": [],
   "source": [
    "e4.calctax(13)"
   ]
  },
  {
   "cell_type": "code",
   "execution_count": 114,
   "id": "ba3c57ab-d51b-4c4a-a5c5-12035192bdec",
   "metadata": {},
   "outputs": [
    {
     "name": "stdout",
     "output_type": "stream",
     "text": [
      "NAME : Ram ( 45 )\n",
      "--------------------------------------------------\n",
      "COMPANY    :  Oracle\n",
      "SALARY     :  2175000.0 INR\n",
      "PHONE      :  9876534534\n",
      "ADDRESS    :  Jayanagar, Bangalore\n",
      "--------------------------------------------------\n",
      "DEPENDENTS :  Suresh Sunita\n"
     ]
    }
   ],
   "source": [
    "e4.printinfo()"
   ]
  },
  {
   "cell_type": "code",
   "execution_count": 115,
   "id": "a4ac6c96-f7cd-43ae-85e0-d16695a6cb55",
   "metadata": {},
   "outputs": [
    {
     "data": {
      "text/plain": [
       "4"
      ]
     },
     "execution_count": 115,
     "metadata": {},
     "output_type": "execute_result"
    }
   ],
   "source": [
    "extEmployee.nemployees"
   ]
  },
  {
   "cell_type": "markdown",
   "id": "116a733a-08d6-455f-a511-4dff3e300298",
   "metadata": {},
   "source": [
    "### 12.3 Polymorphism"
   ]
  },
  {
   "cell_type": "code",
   "execution_count": 116,
   "id": "bdd7e0d0-d50b-4d2c-9776-4b3ba8ffab9e",
   "metadata": {},
   "outputs": [],
   "source": [
    "e = e1"
   ]
  },
  {
   "cell_type": "code",
   "execution_count": 117,
   "id": "352f0ecc-1902-4710-87c8-c5e845822900",
   "metadata": {},
   "outputs": [
    {
     "name": "stdout",
     "output_type": "stream",
     "text": [
      "Name      Rajesh|Age       40|Company   Wipro|Salary    850000.0 INR\n",
      "<__main__.employee object at 0x000001FD4B651450>\n"
     ]
    }
   ],
   "source": [
    "e.printinfo()"
   ]
  },
  {
   "cell_type": "code",
   "execution_count": 118,
   "id": "158ca607-9b6d-4c2a-8d46-2d848650a250",
   "metadata": {},
   "outputs": [],
   "source": [
    "e = e4"
   ]
  },
  {
   "cell_type": "code",
   "execution_count": 119,
   "id": "ff247dab-e3a6-4aea-81a3-23af3d520c22",
   "metadata": {},
   "outputs": [
    {
     "name": "stdout",
     "output_type": "stream",
     "text": [
      "NAME : Ram ( 45 )\n",
      "--------------------------------------------------\n",
      "COMPANY    :  Oracle\n",
      "SALARY     :  2175000.0 INR\n",
      "PHONE      :  9876534534\n",
      "ADDRESS    :  Jayanagar, Bangalore\n",
      "--------------------------------------------------\n",
      "DEPENDENTS :  Suresh Sunita\n"
     ]
    }
   ],
   "source": [
    "e.printinfo()"
   ]
  },
  {
   "cell_type": "markdown",
   "id": "04011ec5-2619-47d6-b51a-e4ccf8addb14",
   "metadata": {},
   "source": [
    "##### Quick Test:"
   ]
  },
  {
   "cell_type": "markdown",
   "id": "73c23fbf-a09c-4f3b-bd8d-fdd264dee836",
   "metadata": {},
   "source": [
    "Create a student class with the following attributes and functions:\n",
    "\n",
    "- name, age, class, marks a dictionary with phy, chem, math, bio, avg, rank\n",
    "- printreport, updateMarks, calcAvg, assignRank\n",
    "\n",
    "Extent the class to incorporate the following attributes:\n",
    "\n",
    "- hobbies [], parents = { 'father':None, 'mother':'' }\n",
    "- addHobby, removeHobby, updateParentsInfo"
   ]
  },
  {
   "cell_type": "markdown",
   "id": "60f1a391-6054-4458-92c0-d4252fe9e278",
   "metadata": {},
   "source": [
    "### 12.4 Design a Queue data structure"
   ]
  },
  {
   "cell_type": "code",
   "execution_count": 129,
   "id": "1fa39d07-6c2b-439d-b75e-96f7648f1f57",
   "metadata": {},
   "outputs": [],
   "source": [
    "class queue:\n",
    "\n",
    "    def __init__(self, maxSize):\n",
    "        self.maxSize = maxSize\n",
    "        self.ds = []\n",
    "\n",
    "    def status(self):\n",
    "        return len(self.ds)\n",
    "\n",
    "    def push(self, item):\n",
    "        if(self.status() < self.maxSize):\n",
    "            self.ds.insert(0, item)\n",
    "            return 1\n",
    "        else:\n",
    "            return -1\n",
    "\n",
    "    def pop(self):\n",
    "        if(self.status() != 0):\n",
    "            return self.ds.pop()\n",
    "        else:\n",
    "            return -1"
   ]
  },
  {
   "cell_type": "code",
   "execution_count": 130,
   "id": "24fa4651-398a-4379-91c6-a0e5b53dd1c0",
   "metadata": {},
   "outputs": [],
   "source": [
    "q = queue(10)"
   ]
  },
  {
   "cell_type": "code",
   "execution_count": 131,
   "id": "26897b38-90b1-4e4a-8ce4-43c098ea57de",
   "metadata": {},
   "outputs": [
    {
     "data": {
      "text/plain": [
       "0"
      ]
     },
     "execution_count": 131,
     "metadata": {},
     "output_type": "execute_result"
    }
   ],
   "source": [
    "q.status()"
   ]
  },
  {
   "cell_type": "code",
   "execution_count": 132,
   "id": "7732f74a-f1a0-40ed-a4a0-bcd488f85d2e",
   "metadata": {},
   "outputs": [],
   "source": [
    "for i in range(8):\n",
    "    q.push(i**2)"
   ]
  },
  {
   "cell_type": "code",
   "execution_count": 133,
   "id": "b2ab0648-8812-400b-a116-d8d85af1b781",
   "metadata": {},
   "outputs": [
    {
     "data": {
      "text/plain": [
       "8"
      ]
     },
     "execution_count": 133,
     "metadata": {},
     "output_type": "execute_result"
    }
   ],
   "source": [
    "q.status()"
   ]
  },
  {
   "cell_type": "code",
   "execution_count": 134,
   "id": "4e6bf512-dd1f-4ccc-9ad1-1eb2b77fc8d4",
   "metadata": {},
   "outputs": [
    {
     "data": {
      "text/plain": [
       "1"
      ]
     },
     "execution_count": 134,
     "metadata": {},
     "output_type": "execute_result"
    }
   ],
   "source": [
    "q.push(100)"
   ]
  },
  {
   "cell_type": "code",
   "execution_count": 135,
   "id": "575f4de3-696a-4375-ad5e-8652f40df894",
   "metadata": {},
   "outputs": [
    {
     "data": {
      "text/plain": [
       "1"
      ]
     },
     "execution_count": 135,
     "metadata": {},
     "output_type": "execute_result"
    }
   ],
   "source": [
    "q.push(200)"
   ]
  },
  {
   "cell_type": "code",
   "execution_count": 136,
   "id": "ec12efb9-bbb0-4768-8c0c-5d19cbb35d7f",
   "metadata": {},
   "outputs": [
    {
     "data": {
      "text/plain": [
       "-1"
      ]
     },
     "execution_count": 136,
     "metadata": {},
     "output_type": "execute_result"
    }
   ],
   "source": [
    "q.push(300)"
   ]
  },
  {
   "cell_type": "code",
   "execution_count": 137,
   "id": "fe89ca5f-88aa-4a1c-a515-fb95ab7ea9a6",
   "metadata": {},
   "outputs": [
    {
     "name": "stdout",
     "output_type": "stream",
     "text": [
      "0\n",
      "1\n",
      "4\n",
      "9\n",
      "16\n",
      "25\n",
      "36\n",
      "49\n",
      "100\n",
      "200\n",
      "-1\n"
     ]
    }
   ],
   "source": [
    "item = 1\n",
    "while item != -1:\n",
    "    item = q.pop()\n",
    "    print(item)"
   ]
  },
  {
   "cell_type": "code",
   "execution_count": 138,
   "id": "f2b78f56-1f48-455e-826a-46bdcd0cee70",
   "metadata": {},
   "outputs": [
    {
     "data": {
      "text/plain": [
       "6"
      ]
     },
     "execution_count": 138,
     "metadata": {},
     "output_type": "execute_result"
    }
   ],
   "source": [
    "L = [1, 2, 3]\n",
    "sum(L)"
   ]
  },
  {
   "cell_type": "code",
   "execution_count": null,
   "id": "818c679f-417c-4e2d-8c62-d16d5cf6c5c9",
   "metadata": {},
   "outputs": [],
   "source": []
  }
 ],
 "metadata": {
  "kernelspec": {
   "display_name": "Python 3 (ipykernel)",
   "language": "python",
   "name": "python3"
  },
  "language_info": {
   "codemirror_mode": {
    "name": "ipython",
    "version": 3
   },
   "file_extension": ".py",
   "mimetype": "text/x-python",
   "name": "python",
   "nbconvert_exporter": "python",
   "pygments_lexer": "ipython3",
   "version": "3.11.7"
  }
 },
 "nbformat": 4,
 "nbformat_minor": 5
}
