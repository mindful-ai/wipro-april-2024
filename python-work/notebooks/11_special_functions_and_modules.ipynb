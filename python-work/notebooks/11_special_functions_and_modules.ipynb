{
 "cells": [
  {
   "cell_type": "markdown",
   "id": "1ac39d76-bf7e-48dd-b711-f1e6dde2ec73",
   "metadata": {},
   "source": [
    "# Special Functions"
   ]
  },
  {
   "cell_type": "markdown",
   "id": "b9b47e14-3d39-46a5-a0e5-d60a7576c61b",
   "metadata": {},
   "source": [
    "### 11.1 Lambda Functions"
   ]
  },
  {
   "cell_type": "markdown",
   "id": "45a7672c-bcfd-40c6-84c0-22c7aecced3e",
   "metadata": {},
   "source": [
    "##### Anonymous functions, short definition functions used on a case by case instantaneous basis"
   ]
  },
  {
   "cell_type": "markdown",
   "id": "e9fd70df-2906-4edb-bc0c-e2e9c33440dc",
   "metadata": {},
   "source": [
    "lambda a, b : a + b -> This expression will return a callable function object"
   ]
  },
  {
   "cell_type": "code",
   "execution_count": 1,
   "id": "74b6629f-ef02-4815-9336-6b55bdbd16d9",
   "metadata": {},
   "outputs": [],
   "source": [
    "f = lambda a, b : a + b"
   ]
  },
  {
   "cell_type": "code",
   "execution_count": 2,
   "id": "ba013e17-a121-4b36-8e34-3d057f67f6d1",
   "metadata": {},
   "outputs": [
    {
     "data": {
      "text/plain": [
       "function"
      ]
     },
     "execution_count": 2,
     "metadata": {},
     "output_type": "execute_result"
    }
   ],
   "source": [
    "type(f)"
   ]
  },
  {
   "cell_type": "code",
   "execution_count": 3,
   "id": "33d45458-11c2-4ee7-ab5f-a05e46f6e8a4",
   "metadata": {},
   "outputs": [
    {
     "data": {
      "text/plain": [
       "30"
      ]
     },
     "execution_count": 3,
     "metadata": {},
     "output_type": "execute_result"
    }
   ],
   "source": [
    "f(10, 20)"
   ]
  },
  {
   "cell_type": "code",
   "execution_count": 4,
   "id": "10cf706b-cc79-4844-bcae-ef1a1ff971c3",
   "metadata": {},
   "outputs": [
    {
     "data": {
      "text/plain": [
       "'abcdef'"
      ]
     },
     "execution_count": 4,
     "metadata": {},
     "output_type": "execute_result"
    }
   ],
   "source": [
    "f(\"abc\", \"def\")"
   ]
  },
  {
   "cell_type": "markdown",
   "id": "87706c06-d050-44db-b73d-01c25e012304",
   "metadata": {},
   "source": [
    "### 11.2 map()"
   ]
  },
  {
   "cell_type": "code",
   "execution_count": 5,
   "id": "e9206c57-0cd1-4eca-b363-1880455475f1",
   "metadata": {},
   "outputs": [],
   "source": [
    "T = [34, 45, 56, 67, 100]"
   ]
  },
  {
   "cell_type": "code",
   "execution_count": 6,
   "id": "fb8013c2-1c31-4dae-9667-bef8d3e22db3",
   "metadata": {},
   "outputs": [
    {
     "data": {
      "text/plain": [
       "[93.2, 113.0, 132.8, 152.60000000000002, 212.0]"
      ]
     },
     "execution_count": 6,
     "metadata": {},
     "output_type": "execute_result"
    }
   ],
   "source": [
    "F = []\n",
    "for t in T:\n",
    "    F.append(t * 1.8 + 32)\n",
    "F"
   ]
  },
  {
   "cell_type": "code",
   "execution_count": 8,
   "id": "0148aa96-a21a-457e-857d-681585139e52",
   "metadata": {},
   "outputs": [
    {
     "data": {
      "text/plain": [
       "[93.2, 113.0, 132.8, 152.60000000000002, 212.0]"
      ]
     },
     "execution_count": 8,
     "metadata": {},
     "output_type": "execute_result"
    }
   ],
   "source": [
    "F1 = map(lambda t : t * 1.8 + 32, T)\n",
    "list(F1)"
   ]
  },
  {
   "cell_type": "code",
   "execution_count": 10,
   "id": "6fcf6fcb-9a8e-444d-84b7-7e1ae4d98886",
   "metadata": {},
   "outputs": [
    {
     "data": {
      "text/plain": [
       "['selppa', 'sananab', 'seirrehc']"
      ]
     },
     "execution_count": 10,
     "metadata": {},
     "output_type": "execute_result"
    }
   ],
   "source": [
    "S = [\"apples\", \"bananas\", \"cherries\"]\n",
    "S1 = map(lambda s : s[::-1], S)\n",
    "list(S1)"
   ]
  },
  {
   "cell_type": "markdown",
   "id": "cd067bbf-c25f-4ca1-a6c9-15a0d04aaa28",
   "metadata": {},
   "source": [
    "### 11.3 filter()"
   ]
  },
  {
   "cell_type": "code",
   "execution_count": 12,
   "id": "33e01aec-a115-4f01-81ad-d2f78bd9fc93",
   "metadata": {},
   "outputs": [
    {
     "data": {
      "text/plain": [
       "[1,\n",
       " 2,\n",
       " 3,\n",
       " 4,\n",
       " 5,\n",
       " 6,\n",
       " 7,\n",
       " 8,\n",
       " 9,\n",
       " 10,\n",
       " 11,\n",
       " 12,\n",
       " 13,\n",
       " 14,\n",
       " 15,\n",
       " 16,\n",
       " 17,\n",
       " 18,\n",
       " 19,\n",
       " 20,\n",
       " 21,\n",
       " 22,\n",
       " 23,\n",
       " 24,\n",
       " 25,\n",
       " 26,\n",
       " 27,\n",
       " 28,\n",
       " 29,\n",
       " 30,\n",
       " 31,\n",
       " 32,\n",
       " 33,\n",
       " 34,\n",
       " 35,\n",
       " 36,\n",
       " 37,\n",
       " 38,\n",
       " 39,\n",
       " 40,\n",
       " 41,\n",
       " 42,\n",
       " 43,\n",
       " 44,\n",
       " 45,\n",
       " 46,\n",
       " 47,\n",
       " 48,\n",
       " 49,\n",
       " 50,\n",
       " 51,\n",
       " 52,\n",
       " 53,\n",
       " 54,\n",
       " 55,\n",
       " 56,\n",
       " 57,\n",
       " 58,\n",
       " 59,\n",
       " 60,\n",
       " 61,\n",
       " 62,\n",
       " 63,\n",
       " 64,\n",
       " 65,\n",
       " 66,\n",
       " 67,\n",
       " 68,\n",
       " 69,\n",
       " 70,\n",
       " 71,\n",
       " 72,\n",
       " 73,\n",
       " 74,\n",
       " 75,\n",
       " 76,\n",
       " 77,\n",
       " 78,\n",
       " 79,\n",
       " 80,\n",
       " 81,\n",
       " 82,\n",
       " 83,\n",
       " 84,\n",
       " 85,\n",
       " 86,\n",
       " 87,\n",
       " 88,\n",
       " 89,\n",
       " 90,\n",
       " 91,\n",
       " 92,\n",
       " 93,\n",
       " 94,\n",
       " 95,\n",
       " 96,\n",
       " 97,\n",
       " 98,\n",
       " 99]"
      ]
     },
     "execution_count": 12,
     "metadata": {},
     "output_type": "execute_result"
    }
   ],
   "source": [
    "n = list(range(1, 100))\n",
    "n"
   ]
  },
  {
   "cell_type": "code",
   "execution_count": 13,
   "id": "0c1e32b8-2a69-4786-bb9f-ca8f3b1c5ebb",
   "metadata": {},
   "outputs": [
    {
     "data": {
      "text/plain": [
       "[7, 14, 21, 28, 35, 42, 49, 56, 63, 70, 77, 84, 91, 98]"
      ]
     },
     "execution_count": 13,
     "metadata": {},
     "output_type": "execute_result"
    }
   ],
   "source": [
    "f7 = []\n",
    "for i in n:\n",
    "    if(i % 7 == 0):\n",
    "        f7.append(i)\n",
    "f7"
   ]
  },
  {
   "cell_type": "code",
   "execution_count": 15,
   "id": "a0cc5a9c-ca9a-4041-a1be-2304bc83a805",
   "metadata": {},
   "outputs": [
    {
     "data": {
      "text/plain": [
       "[7, 14, 21, 28, 35, 42, 49, 56, 63, 70, 77, 84, 91, 98]"
      ]
     },
     "execution_count": 15,
     "metadata": {},
     "output_type": "execute_result"
    }
   ],
   "source": [
    "f71 = filter(lambda i : (i % 7 == 0), n)\n",
    "list(f71)"
   ]
  },
  {
   "cell_type": "markdown",
   "id": "4fe5c47c-2795-4fc1-9dc8-1c9af0a1a4d9",
   "metadata": {},
   "source": [
    "### 11.4 Revisiting sort()"
   ]
  },
  {
   "cell_type": "code",
   "execution_count": 17,
   "id": "f378a3cd-c6f5-406b-a1a2-cdf428972a2d",
   "metadata": {},
   "outputs": [],
   "source": [
    "T = [ (\"apples\", 4), (\"cherries\", 8), (\"bananas\", 2), (\"guavas\", 7) ]"
   ]
  },
  {
   "cell_type": "code",
   "execution_count": 19,
   "id": "05bc7d2f-6f51-4954-90b3-49e46bbdf21b",
   "metadata": {},
   "outputs": [
    {
     "data": {
      "text/plain": [
       "[('apples', 4), ('bananas', 2), ('cherries', 8), ('guavas', 7)]"
      ]
     },
     "execution_count": 19,
     "metadata": {},
     "output_type": "execute_result"
    }
   ],
   "source": [
    "T.sort()\n",
    "T"
   ]
  },
  {
   "cell_type": "code",
   "execution_count": 20,
   "id": "684e44a5-5c30-4667-ba21-d0c53b673b26",
   "metadata": {},
   "outputs": [
    {
     "data": {
      "text/plain": [
       "[('bananas', 2), ('apples', 4), ('guavas', 7), ('cherries', 8)]"
      ]
     },
     "execution_count": 20,
     "metadata": {},
     "output_type": "execute_result"
    }
   ],
   "source": [
    "T.sort(key = lambda item : item[1])\n",
    "T"
   ]
  },
  {
   "cell_type": "code",
   "execution_count": 21,
   "id": "dc9c09bc-8239-4678-816e-1c72013a9228",
   "metadata": {},
   "outputs": [
    {
     "data": {
      "text/plain": [
       "[('bananas', 2), ('cherries', 8), ('apples', 4), ('guavas', 7)]"
      ]
     },
     "execution_count": 21,
     "metadata": {},
     "output_type": "execute_result"
    }
   ],
   "source": [
    "T.sort(key = lambda item : item[0][1])\n",
    "T"
   ]
  },
  {
   "cell_type": "markdown",
   "id": "e749a54e-13fe-4e3e-a226-1a1cff7fb6ee",
   "metadata": {},
   "source": [
    "### 11.5 zip()"
   ]
  },
  {
   "cell_type": "code",
   "execution_count": 23,
   "id": "6d39b7ea-5e17-4d9b-9807-95920f06cc7b",
   "metadata": {},
   "outputs": [
    {
     "data": {
      "text/plain": [
       "{'apples': 1, 'bananas': 2, 'cherries': 3}"
      ]
     },
     "execution_count": 23,
     "metadata": {},
     "output_type": "execute_result"
    }
   ],
   "source": [
    "T1 = (\"apples\", \"bananas\", \"cherries\")\n",
    "T2 = (1, 2, 3)\n",
    "dict(zip(T1, T2))"
   ]
  },
  {
   "cell_type": "code",
   "execution_count": 24,
   "id": "111ff1f9-36b3-4f5b-8584-70106c7925a4",
   "metadata": {},
   "outputs": [],
   "source": [
    "D = {'apples': 1, 'bananas': 2, 'cherries': 3}"
   ]
  },
  {
   "cell_type": "code",
   "execution_count": 25,
   "id": "924274c3-75ad-49f7-8ea8-5afe23ce7c58",
   "metadata": {},
   "outputs": [
    {
     "data": {
      "text/plain": [
       "(dict_keys(['apples', 'bananas', 'cherries']),\n",
       " dict_items([('apples', 1), ('bananas', 2), ('cherries', 3)]))"
      ]
     },
     "execution_count": 25,
     "metadata": {},
     "output_type": "execute_result"
    }
   ],
   "source": [
    "D.keys(), D.items()"
   ]
  },
  {
   "cell_type": "code",
   "execution_count": 27,
   "id": "584e50da-62f2-4b5d-a0e6-e67b9daabdfd",
   "metadata": {},
   "outputs": [
    {
     "data": {
      "text/plain": [
       "[('apples', 'bananas', 'cherries'), (1, 2, 3)]"
      ]
     },
     "execution_count": 27,
     "metadata": {},
     "output_type": "execute_result"
    }
   ],
   "source": [
    "list(zip(*D.items()))"
   ]
  },
  {
   "cell_type": "markdown",
   "id": "1b26e8e7-5478-4492-9564-c6fa111fa64a",
   "metadata": {},
   "source": [
    "### 11.6 Comprehensions"
   ]
  },
  {
   "cell_type": "markdown",
   "id": "6f4aa4af-134d-4b26-845e-10ed8be6afdf",
   "metadata": {},
   "source": [
    "##### A construct that help you generate sequence of values"
   ]
  },
  {
   "cell_type": "markdown",
   "id": "475584f0-9121-4ef6-b480-6ac449b2553d",
   "metadata": {},
   "source": [
    "Syntax:\n",
    "Comprehensions could be [], (), {}, {k:v}\n",
    "[ <expr><loop><condition> ]"
   ]
  },
  {
   "cell_type": "code",
   "execution_count": 28,
   "id": "33e99fbe-cc4f-46f0-88fd-0d9982f7a990",
   "metadata": {},
   "outputs": [],
   "source": [
    "L = [1, 2, 3, 4, 5]"
   ]
  },
  {
   "cell_type": "code",
   "execution_count": 29,
   "id": "dc0d82de-03a9-497e-a547-b97a8c5d31d8",
   "metadata": {},
   "outputs": [
    {
     "data": {
      "text/plain": [
       "[1, 4, 9, 16, 25]"
      ]
     },
     "execution_count": 29,
     "metadata": {},
     "output_type": "execute_result"
    }
   ],
   "source": [
    "[ x**2 for x in L ]"
   ]
  },
  {
   "cell_type": "code",
   "execution_count": 30,
   "id": "de157940-fd57-4211-baf3-18e8b8445507",
   "metadata": {},
   "outputs": [
    {
     "data": {
      "text/plain": [
       "[4, 16]"
      ]
     },
     "execution_count": 30,
     "metadata": {},
     "output_type": "execute_result"
    }
   ],
   "source": [
    "[ x**2 for x in L if x % 2 == 0 ]"
   ]
  },
  {
   "cell_type": "code",
   "execution_count": 32,
   "id": "16c06bb8-b2d5-452b-9b78-a6e4b6d53818",
   "metadata": {},
   "outputs": [
    {
     "data": {
      "text/plain": [
       "[('apples', 6), ('bananas', 7), ('cherries', 8)]"
      ]
     },
     "execution_count": 32,
     "metadata": {},
     "output_type": "execute_result"
    }
   ],
   "source": [
    "T = (\"apples\", \"bananas\", \"cherries\")\n",
    "list( (s, len(s)) for s in T )"
   ]
  },
  {
   "cell_type": "code",
   "execution_count": 33,
   "id": "9cc8b829-366b-49ee-bb2a-7d6a19351a4b",
   "metadata": {},
   "outputs": [
    {
     "data": {
      "text/plain": [
       "{'apples': 6, 'bananas': 7, 'cherries': 8}"
      ]
     },
     "execution_count": 33,
     "metadata": {},
     "output_type": "execute_result"
    }
   ],
   "source": [
    "{ s : len(s) for s in T }"
   ]
  },
  {
   "cell_type": "code",
   "execution_count": 34,
   "id": "b5f054e3-a35d-4eb5-9472-b2c6195a88d1",
   "metadata": {},
   "outputs": [
    {
     "data": {
      "text/plain": [
       "[9]"
      ]
     },
     "execution_count": 34,
     "metadata": {},
     "output_type": "execute_result"
    }
   ],
   "source": [
    "L = [1, 2, 3, 4, 5]\n",
    "[ x ** 2 for x in L if x == 3 ]"
   ]
  },
  {
   "cell_type": "code",
   "execution_count": 35,
   "id": "7451ef21-f5a9-418c-b057-52b1fc7b6e45",
   "metadata": {},
   "outputs": [
    {
     "data": {
      "text/plain": [
       "[1, 2, 9, 4, 5]"
      ]
     },
     "execution_count": 35,
     "metadata": {},
     "output_type": "execute_result"
    }
   ],
   "source": [
    "[ x**2 if x == 3 else x for x in L ]"
   ]
  },
  {
   "cell_type": "code",
   "execution_count": 36,
   "id": "2ac559cc-812b-4f48-8cfd-a981f9f635b1",
   "metadata": {},
   "outputs": [
    {
     "data": {
      "text/plain": [
       "[(2, 9), (3, 8), (4, 7), (5, 6), (6, 5), (7, 4), (8, 3), (9, 2)]"
      ]
     },
     "execution_count": 36,
     "metadata": {},
     "output_type": "execute_result"
    }
   ],
   "source": [
    "[ (x, y) for x in range(10) for y in range(10) if x + y == 11 ]"
   ]
  },
  {
   "cell_type": "markdown",
   "id": "57a34ca4-bc81-4003-9a59-2d7f311cd8b5",
   "metadata": {},
   "source": [
    "# Python Built-in Modules"
   ]
  },
  {
   "cell_type": "markdown",
   "id": "242e6882-c4c6-4348-bf2b-bfaa5485056b",
   "metadata": {},
   "source": [
    "### 11.7 Collections"
   ]
  },
  {
   "cell_type": "code",
   "execution_count": 37,
   "id": "db9347dc-65e0-459f-80e5-9752b1c77337",
   "metadata": {},
   "outputs": [
    {
     "data": {
      "text/plain": [
       "{'m': 1, 'i': 4, 's': 4, 'p': 2}"
      ]
     },
     "execution_count": 37,
     "metadata": {},
     "output_type": "execute_result"
    }
   ],
   "source": [
    "s = \"mississippi\"\n",
    "ch = {}\n",
    "for c in s:\n",
    "    if c in ch.keys():\n",
    "        ch[c] =ch[c] + 1\n",
    "    else:\n",
    "        ch[c] = 1\n",
    "ch"
   ]
  },
  {
   "cell_type": "code",
   "execution_count": 38,
   "id": "b48bba24-4d63-4e5f-b5f0-e4fec138a6ba",
   "metadata": {},
   "outputs": [
    {
     "data": {
      "text/plain": [
       "Counter({'i': 4, 's': 4, 'p': 2, 'm': 1})"
      ]
     },
     "execution_count": 38,
     "metadata": {},
     "output_type": "execute_result"
    }
   ],
   "source": [
    "from collections import Counter\n",
    "z = Counter(s)\n",
    "z"
   ]
  },
  {
   "cell_type": "markdown",
   "id": "d493b8cb-5eaf-4e34-9214-c20e74b1f236",
   "metadata": {},
   "source": [
    "### 11.8 Datetime"
   ]
  },
  {
   "cell_type": "code",
   "execution_count": 39,
   "id": "f02a767c-6fa2-4379-8857-87e239414680",
   "metadata": {},
   "outputs": [],
   "source": [
    "from datetime import datetime"
   ]
  },
  {
   "cell_type": "code",
   "execution_count": 40,
   "id": "9daf0d88-d47d-429c-8eb2-fd1f96bd94f0",
   "metadata": {},
   "outputs": [
    {
     "data": {
      "text/plain": [
       "datetime.datetime(2024, 4, 24, 10, 30, 44, 147589)"
      ]
     },
     "execution_count": 40,
     "metadata": {},
     "output_type": "execute_result"
    }
   ],
   "source": [
    "t1 = datetime.now()\n",
    "t1"
   ]
  },
  {
   "cell_type": "code",
   "execution_count": 44,
   "id": "113d792a-5afe-46d9-a49f-3f446b450a92",
   "metadata": {},
   "outputs": [
    {
     "data": {
      "text/plain": [
       "datetime.datetime"
      ]
     },
     "execution_count": 44,
     "metadata": {},
     "output_type": "execute_result"
    }
   ],
   "source": [
    "type(t1)"
   ]
  },
  {
   "cell_type": "code",
   "execution_count": 42,
   "id": "66fb96fc-f745-4fe8-8f35-4b47b5a05c3a",
   "metadata": {},
   "outputs": [
    {
     "data": {
      "text/plain": [
       "(2024, 4, 24, 2)"
      ]
     },
     "execution_count": 42,
     "metadata": {},
     "output_type": "execute_result"
    }
   ],
   "source": [
    "t1.year, t1.month, t1.day, t1.weekday()"
   ]
  },
  {
   "cell_type": "code",
   "execution_count": 45,
   "id": "99de9928-f1d4-4c8b-a3dd-9272d4b0b995",
   "metadata": {},
   "outputs": [
    {
     "data": {
      "text/plain": [
       "(10, 30, 44, 147589)"
      ]
     },
     "execution_count": 45,
     "metadata": {},
     "output_type": "execute_result"
    }
   ],
   "source": [
    "t1.hour, t1.minute, t1.second, t1.microsecond"
   ]
  },
  {
   "cell_type": "code",
   "execution_count": 47,
   "id": "0bf377b6-06c3-4ca7-956a-78c094cd2763",
   "metadata": {},
   "outputs": [
    {
     "data": {
      "text/plain": [
       "'Wednesday, 24 April, 2024  10:30 AM'"
      ]
     },
     "execution_count": 47,
     "metadata": {},
     "output_type": "execute_result"
    }
   ],
   "source": [
    "# 24 April, 2024 Wednesday 10:30 AM\n",
    "fs = \"%A, %d %B, %Y  %I:%M %p\"\n",
    "t1.strftime(fs)"
   ]
  },
  {
   "cell_type": "code",
   "execution_count": 48,
   "id": "7645bbc0-6639-4755-a5ea-900d8a493b5c",
   "metadata": {},
   "outputs": [],
   "source": [
    "t2 = datetime.now()"
   ]
  },
  {
   "cell_type": "code",
   "execution_count": 49,
   "id": "65dabeb2-608f-4f15-801b-4c9e129bc419",
   "metadata": {},
   "outputs": [
    {
     "data": {
      "text/plain": [
       "datetime.timedelta(seconds=351, microseconds=885125)"
      ]
     },
     "execution_count": 49,
     "metadata": {},
     "output_type": "execute_result"
    }
   ],
   "source": [
    "t2 - t1"
   ]
  },
  {
   "cell_type": "markdown",
   "id": "e3391e3a-ea3b-4534-a138-90259fbc4002",
   "metadata": {},
   "source": [
    "### 11.9 os, os.path, shutil"
   ]
  },
  {
   "cell_type": "markdown",
   "id": "9b79fa38-aad3-468b-82ee-1a4cec1638c3",
   "metadata": {},
   "source": [
    "##### Write a script to automate the organization of the folder into sub-folders"
   ]
  },
  {
   "cell_type": "code",
   "execution_count": 50,
   "id": "cea02a69-df73-40bd-8d5a-fab27ca377d7",
   "metadata": {},
   "outputs": [],
   "source": [
    "import os, os.path, shutil"
   ]
  },
  {
   "cell_type": "code",
   "execution_count": 51,
   "id": "8c2a0c42-e2c9-460f-a52c-881ad73db511",
   "metadata": {},
   "outputs": [
    {
     "data": {
      "text/plain": [
       "'C:\\\\Users\\\\mindf\\\\Desktop\\\\Wipro-IIHT\\\\python-work\\\\notebooks'"
      ]
     },
     "execution_count": 51,
     "metadata": {},
     "output_type": "execute_result"
    }
   ],
   "source": [
    "# check which path we are in\n",
    "os.getcwd()"
   ]
  },
  {
   "cell_type": "code",
   "execution_count": 52,
   "id": "c98e7f77-2d23-4d7d-b106-6de497240e3f",
   "metadata": {},
   "outputs": [],
   "source": [
    "os.chdir(r'./files')"
   ]
  },
  {
   "cell_type": "code",
   "execution_count": 53,
   "id": "062d1f66-55a3-4b97-a078-617082174ff0",
   "metadata": {},
   "outputs": [
    {
     "data": {
      "text/plain": [
       "'C:\\\\Users\\\\mindf\\\\Desktop\\\\Wipro-IIHT\\\\python-work\\\\notebooks\\\\files'"
      ]
     },
     "execution_count": 53,
     "metadata": {},
     "output_type": "execute_result"
    }
   ],
   "source": [
    "# check is path is changed\n",
    "os.getcwd()"
   ]
  },
  {
   "cell_type": "code",
   "execution_count": 54,
   "id": "25795d20-fd61-40d1-95b5-3b8d52df4e77",
   "metadata": {},
   "outputs": [
    {
     "data": {
      "text/plain": [
       "['document1.docx',\n",
       " 'document2.docx',\n",
       " 'presentation1.pptx',\n",
       " 'presentation2.pptx',\n",
       " 'spreadsheet1.xlsx',\n",
       " 'spreadsheet2.xlsx',\n",
       " 'text1.txt',\n",
       " 'text2.txt']"
      ]
     },
     "execution_count": 54,
     "metadata": {},
     "output_type": "execute_result"
    }
   ],
   "source": [
    "#list the files\n",
    "os.listdir()"
   ]
  },
  {
   "cell_type": "code",
   "execution_count": 65,
   "id": "c69b36e5-6f92-422f-bae2-6fa168be83cb",
   "metadata": {},
   "outputs": [
    {
     "data": {
      "text/plain": [
       "'docx'"
      ]
     },
     "execution_count": 65,
     "metadata": {},
     "output_type": "execute_result"
    }
   ],
   "source": [
    "# how to extract extenstion\n",
    "f = 'document1.docx'\n",
    "os.path.splitext(f)[1][1:]"
   ]
  },
  {
   "cell_type": "code",
   "execution_count": 59,
   "id": "aad1bedf-e6bd-474f-a8e0-fba07d14d068",
   "metadata": {},
   "outputs": [
    {
     "data": {
      "text/plain": [
       "{'docx', 'pptx', 'txt', 'xlsx'}"
      ]
     },
     "execution_count": 59,
     "metadata": {},
     "output_type": "execute_result"
    }
   ],
   "source": [
    "exts = {os.path.splitext(f)[1][1:] for f in os.listdir()}\n",
    "exts"
   ]
  },
  {
   "cell_type": "code",
   "execution_count": 60,
   "id": "b404a414-3be5-4d8a-8e1c-ef48bb4bc522",
   "metadata": {},
   "outputs": [],
   "source": [
    "# Create the sub-directories\n",
    "for ext in exts:\n",
    "    os.mkdir(ext)"
   ]
  },
  {
   "cell_type": "code",
   "execution_count": 61,
   "id": "b0b9199e-f8ad-4e6b-9462-d8145247d0f9",
   "metadata": {},
   "outputs": [
    {
     "data": {
      "text/plain": [
       "['document1.docx',\n",
       " 'document2.docx',\n",
       " 'docx',\n",
       " 'pptx',\n",
       " 'presentation1.pptx',\n",
       " 'presentation2.pptx',\n",
       " 'spreadsheet1.xlsx',\n",
       " 'spreadsheet2.xlsx',\n",
       " 'text1.txt',\n",
       " 'text2.txt',\n",
       " 'txt',\n",
       " 'xlsx']"
      ]
     },
     "execution_count": 61,
     "metadata": {},
     "output_type": "execute_result"
    }
   ],
   "source": [
    "os.listdir()"
   ]
  },
  {
   "cell_type": "code",
   "execution_count": 62,
   "id": "b8d65c24-e07f-43dc-aa0f-7edae4231b72",
   "metadata": {},
   "outputs": [
    {
     "name": "stdout",
     "output_type": "stream",
     "text": [
      "C:\\Users\\mindf\\Desktop\\Wipro-IIHT\\python-work\\notebooks\\files\\docx\n",
      "C:\\Users\\mindf\\Desktop\\Wipro-IIHT\\python-work\\notebooks\\files\\docx\n",
      "C:\\Users\\mindf\\Desktop\\Wipro-IIHT\\python-work\\notebooks\\files\\pptx\n",
      "C:\\Users\\mindf\\Desktop\\Wipro-IIHT\\python-work\\notebooks\\files\\pptx\n",
      "C:\\Users\\mindf\\Desktop\\Wipro-IIHT\\python-work\\notebooks\\files\\xlsx\n",
      "C:\\Users\\mindf\\Desktop\\Wipro-IIHT\\python-work\\notebooks\\files\\xlsx\n",
      "C:\\Users\\mindf\\Desktop\\Wipro-IIHT\\python-work\\notebooks\\files\\txt\n",
      "C:\\Users\\mindf\\Desktop\\Wipro-IIHT\\python-work\\notebooks\\files\\txt\n"
     ]
    }
   ],
   "source": [
    "# move the files to respective folders\n",
    "for file in os.listdir():\n",
    "    if os.path.isfile(file):\n",
    "        src = file\n",
    "        dest = os.path.splitext(file)[1][1:]\n",
    "        finalDest = os.path.join(os.getcwd(), dest)\n",
    "        print(finalDest)\n",
    "        shutil.move(src, finalDest)"
   ]
  },
  {
   "cell_type": "markdown",
   "id": "9d6bd43a-4533-4830-af36-0804352b6e43",
   "metadata": {},
   "source": [
    "##### Quick Test:"
   ]
  },
  {
   "cell_type": "markdown",
   "id": "01c6c365-0d98-4cc3-b3dc-f53916b5ff77",
   "metadata": {},
   "source": [
    "Consider insertion sort and bubble sort functions\n",
    "Create 100 random numbers: RN = [random.randint(1, 100) for i in range(100)]\n",
    "Apply both insertion sort and bubble sort on these random numbers"
   ]
  },
  {
   "cell_type": "markdown",
   "id": "066ad56f-1e0b-43d8-b19d-63fad9604b75",
   "metadata": {},
   "source": [
    "Compare the times taken by insertion sort and bubble sort and specify which one is faster?"
   ]
  },
  {
   "cell_type": "code",
   "execution_count": null,
   "id": "a121164c-2866-4888-b9de-43a6a1c00720",
   "metadata": {},
   "outputs": [],
   "source": [
    "t1\n",
    "function()\n",
    "t2\n",
    "t2 - t1"
   ]
  }
 ],
 "metadata": {
  "kernelspec": {
   "display_name": "Python 3 (ipykernel)",
   "language": "python",
   "name": "python3"
  },
  "language_info": {
   "codemirror_mode": {
    "name": "ipython",
    "version": 3
   },
   "file_extension": ".py",
   "mimetype": "text/x-python",
   "name": "python",
   "nbconvert_exporter": "python",
   "pygments_lexer": "ipython3",
   "version": "3.11.7"
  }
 },
 "nbformat": 4,
 "nbformat_minor": 5
}
