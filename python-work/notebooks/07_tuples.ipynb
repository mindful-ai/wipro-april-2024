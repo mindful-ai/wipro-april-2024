{
 "cells": [
  {
   "cell_type": "markdown",
   "id": "6acc3f0a-2bf1-4485-b0de-8f320b2740e5",
   "metadata": {},
   "source": [
    "# Tuples"
   ]
  },
  {
   "cell_type": "markdown",
   "id": "6a3ed8af-4c99-470d-af14-c322b2519090",
   "metadata": {},
   "source": [
    "#### 7.1 Creating and understanding tuples"
   ]
  },
  {
   "cell_type": "code",
   "execution_count": 1,
   "id": "374e87fc-a26e-4382-90da-328fe2da02ee",
   "metadata": {},
   "outputs": [],
   "source": [
    "T = (\"red\", \"green\", \"blue\", 1, 3, 4, [1, 2, 3])"
   ]
  },
  {
   "cell_type": "code",
   "execution_count": 2,
   "id": "20afaceb-1cc9-4733-a73b-30c92d0d5f12",
   "metadata": {},
   "outputs": [
    {
     "data": {
      "text/plain": [
       "tuple"
      ]
     },
     "execution_count": 2,
     "metadata": {},
     "output_type": "execute_result"
    }
   ],
   "source": [
    "type(T)"
   ]
  },
  {
   "cell_type": "code",
   "execution_count": 3,
   "id": "ecd195cf-8371-4c45-b5bd-ea9bb9eeda4b",
   "metadata": {},
   "outputs": [
    {
     "data": {
      "text/plain": [
       "'blue'"
      ]
     },
     "execution_count": 3,
     "metadata": {},
     "output_type": "execute_result"
    }
   ],
   "source": [
    "T[2]"
   ]
  },
  {
   "cell_type": "code",
   "execution_count": 4,
   "id": "c08a0ff1-1df6-4c6c-91d0-a560eaf9298f",
   "metadata": {},
   "outputs": [
    {
     "ename": "TypeError",
     "evalue": "'tuple' object does not support item assignment",
     "output_type": "error",
     "traceback": [
      "\u001b[1;31m---------------------------------------------------------------------------\u001b[0m",
      "\u001b[1;31mTypeError\u001b[0m                                 Traceback (most recent call last)",
      "Cell \u001b[1;32mIn[4], line 1\u001b[0m\n\u001b[1;32m----> 1\u001b[0m T[\u001b[38;5;241m2\u001b[39m] \u001b[38;5;241m=\u001b[39m \u001b[38;5;124m\"\u001b[39m\u001b[38;5;124myellow\u001b[39m\u001b[38;5;124m\"\u001b[39m\n",
      "\u001b[1;31mTypeError\u001b[0m: 'tuple' object does not support item assignment"
     ]
    }
   ],
   "source": [
    "T[2] = \"yellow\""
   ]
  },
  {
   "cell_type": "markdown",
   "id": "414f3dd4-5bac-4315-ab3e-d89076308d71",
   "metadata": {},
   "source": [
    "##### Note: You can simple call the tuples as immutable lists"
   ]
  },
  {
   "cell_type": "code",
   "execution_count": 5,
   "id": "e0d9eb83-5e27-466f-9f1b-4c7d4fa12f3b",
   "metadata": {},
   "outputs": [
    {
     "data": {
      "text/plain": [
       "'eulb'"
      ]
     },
     "execution_count": 5,
     "metadata": {},
     "output_type": "execute_result"
    }
   ],
   "source": [
    "T[2][::-1]"
   ]
  },
  {
   "cell_type": "code",
   "execution_count": 6,
   "id": "ae885238-2566-4447-a2f4-f352767275c8",
   "metadata": {},
   "outputs": [
    {
     "data": {
      "text/plain": [
       "[1, 2, 3]"
      ]
     },
     "execution_count": 6,
     "metadata": {},
     "output_type": "execute_result"
    }
   ],
   "source": [
    "T[-1]"
   ]
  },
  {
   "cell_type": "code",
   "execution_count": 7,
   "id": "d8ffc109-756d-4281-938c-9ec3a0f6ed63",
   "metadata": {},
   "outputs": [
    {
     "ename": "TypeError",
     "evalue": "'tuple' object does not support item assignment",
     "output_type": "error",
     "traceback": [
      "\u001b[1;31m---------------------------------------------------------------------------\u001b[0m",
      "\u001b[1;31mTypeError\u001b[0m                                 Traceback (most recent call last)",
      "Cell \u001b[1;32mIn[7], line 1\u001b[0m\n\u001b[1;32m----> 1\u001b[0m T[\u001b[38;5;241m-\u001b[39m\u001b[38;5;241m1\u001b[39m] \u001b[38;5;241m=\u001b[39m T[\u001b[38;5;241m-\u001b[39m\u001b[38;5;241m1\u001b[39m] \u001b[38;5;241m+\u001b[39m [\u001b[38;5;241m4\u001b[39m ,\u001b[38;5;241m5\u001b[39m ,\u001b[38;5;241m6\u001b[39m]\n",
      "\u001b[1;31mTypeError\u001b[0m: 'tuple' object does not support item assignment"
     ]
    }
   ],
   "source": [
    "T[-1] = T[-1] + [4 ,5 ,6]"
   ]
  },
  {
   "cell_type": "code",
   "execution_count": 8,
   "id": "01a7d3fc-5391-4c7c-89e0-7c0ed52a851b",
   "metadata": {},
   "outputs": [],
   "source": [
    "T[-1][1] = \"purple\""
   ]
  },
  {
   "cell_type": "code",
   "execution_count": 9,
   "id": "108054e2-106d-409c-a44f-89cadabefc78",
   "metadata": {},
   "outputs": [
    {
     "data": {
      "text/plain": [
       "('red', 'green', 'blue', 1, 3, 4, [1, 'purple', 3])"
      ]
     },
     "execution_count": 9,
     "metadata": {},
     "output_type": "execute_result"
    }
   ],
   "source": [
    "T"
   ]
  },
  {
   "cell_type": "markdown",
   "id": "29b27f2b-0d07-4421-abc6-5ad7d2c9f0ea",
   "metadata": {},
   "source": [
    "### 7.2 Operations on Tuples"
   ]
  },
  {
   "cell_type": "markdown",
   "id": "e1f04709-7ab2-4d27-8eb5-8060b6162a37",
   "metadata": {},
   "source": [
    "##### Operators: + * len in type isinstance del\n",
    "The above operators will work similar to their operations on lists"
   ]
  },
  {
   "cell_type": "markdown",
   "id": "5098ef6c-c6df-4b54-b232-40695bd5e6be",
   "metadata": {},
   "source": [
    "##### What's not possible directly?"
   ]
  },
  {
   "cell_type": "markdown",
   "id": "2436f1bb-c3d8-4263-8152-1ffecb4a5101",
   "metadata": {},
   "source": [
    "Adding and removing elements"
   ]
  },
  {
   "cell_type": "markdown",
   "id": "8a3217f5-add1-4624-be21-9feeb59c9325",
   "metadata": {},
   "source": [
    "Re-arranging -> sorting and reversing in-place"
   ]
  },
  {
   "cell_type": "markdown",
   "id": "900df0f0-74ea-4579-9291-15f5e0d884b6",
   "metadata": {},
   "source": [
    "But you can use reversed() and sorted() because it doesnot attempt to change the original tuple"
   ]
  },
  {
   "cell_type": "code",
   "execution_count": 12,
   "id": "962919ff-8b3b-4231-9e2d-93add807bdc9",
   "metadata": {},
   "outputs": [
    {
     "data": {
      "text/plain": [
       "('red', 'green', 'blue', 1, 3, 4, [1, 'purple', 3])"
      ]
     },
     "execution_count": 12,
     "metadata": {},
     "output_type": "execute_result"
    }
   ],
   "source": [
    "T"
   ]
  },
  {
   "cell_type": "code",
   "execution_count": 14,
   "id": "063b88a4-2381-4a45-8eae-3640df8b5382",
   "metadata": {},
   "outputs": [
    {
     "data": {
      "text/plain": [
       "([1, 'purple', 3], 4, 3, 1, 'blue', 'green', 'red')"
      ]
     },
     "execution_count": 14,
     "metadata": {},
     "output_type": "execute_result"
    }
   ],
   "source": [
    "tuple(reversed(T))"
   ]
  },
  {
   "cell_type": "code",
   "execution_count": 15,
   "id": "ab8e9783-7519-45bc-82dd-7645067d922a",
   "metadata": {},
   "outputs": [
    {
     "ename": "TypeError",
     "evalue": "'<' not supported between instances of 'int' and 'str'",
     "output_type": "error",
     "traceback": [
      "\u001b[1;31m---------------------------------------------------------------------------\u001b[0m",
      "\u001b[1;31mTypeError\u001b[0m                                 Traceback (most recent call last)",
      "Cell \u001b[1;32mIn[15], line 1\u001b[0m\n\u001b[1;32m----> 1\u001b[0m \u001b[38;5;28msorted\u001b[39m(T)\n",
      "\u001b[1;31mTypeError\u001b[0m: '<' not supported between instances of 'int' and 'str'"
     ]
    }
   ],
   "source": [
    "sorted(T) "
   ]
  },
  {
   "cell_type": "code",
   "execution_count": 16,
   "id": "6e70cda3-c2e8-4aa6-97ed-60de2af52165",
   "metadata": {},
   "outputs": [],
   "source": [
    "T = ('red', 'green', 'blue', 1, 3, 4)"
   ]
  },
  {
   "cell_type": "code",
   "execution_count": 17,
   "id": "d0c81342-36c2-4a77-8edc-0de04cff655a",
   "metadata": {},
   "outputs": [
    {
     "ename": "TypeError",
     "evalue": "'<' not supported between instances of 'int' and 'str'",
     "output_type": "error",
     "traceback": [
      "\u001b[1;31m---------------------------------------------------------------------------\u001b[0m",
      "\u001b[1;31mTypeError\u001b[0m                                 Traceback (most recent call last)",
      "Cell \u001b[1;32mIn[17], line 1\u001b[0m\n\u001b[1;32m----> 1\u001b[0m \u001b[38;5;28msorted\u001b[39m(T)\n",
      "\u001b[1;31mTypeError\u001b[0m: '<' not supported between instances of 'int' and 'str'"
     ]
    }
   ],
   "source": [
    "sorted(T)"
   ]
  },
  {
   "cell_type": "code",
   "execution_count": 18,
   "id": "fb41e8d2-1134-45e8-88ba-ce9b7023a28b",
   "metadata": {},
   "outputs": [
    {
     "data": {
      "text/plain": [
       "[1, 3, 4, 'blue', 'green', 'red']"
      ]
     },
     "execution_count": 18,
     "metadata": {},
     "output_type": "execute_result"
    }
   ],
   "source": [
    "sorted(T, key=str)"
   ]
  },
  {
   "cell_type": "code",
   "execution_count": 19,
   "id": "2af4efaa-dab9-4a9a-a2cc-26e86f44a453",
   "metadata": {},
   "outputs": [
    {
     "data": {
      "text/plain": [
       "('red', 'green', 'blue', 1, 3, 4)"
      ]
     },
     "execution_count": 19,
     "metadata": {},
     "output_type": "execute_result"
    }
   ],
   "source": [
    "T"
   ]
  },
  {
   "cell_type": "markdown",
   "id": "1850e0e9-0a66-4b94-be86-b882f1aa9004",
   "metadata": {},
   "source": [
    "##### Iteration using for and while loops"
   ]
  },
  {
   "cell_type": "code",
   "execution_count": 20,
   "id": "657603bf-678c-46bf-b1ed-f006e235ae79",
   "metadata": {},
   "outputs": [
    {
     "name": "stdout",
     "output_type": "stream",
     "text": [
      "red\n",
      "green\n",
      "blue\n",
      "1\n",
      "3\n",
      "4\n"
     ]
    }
   ],
   "source": [
    "for item in T:\n",
    "    print(item)"
   ]
  },
  {
   "cell_type": "code",
   "execution_count": 21,
   "id": "ca83bf6d-09e9-416b-adb6-b7a2f8abb212",
   "metadata": {},
   "outputs": [
    {
     "name": "stdout",
     "output_type": "stream",
     "text": [
      "red\n",
      "green\n",
      "blue\n",
      "1\n",
      "3\n",
      "4\n"
     ]
    }
   ],
   "source": [
    "i = 0\n",
    "while i < len(T):\n",
    "    print(T[i])\n",
    "    i += 1"
   ]
  },
  {
   "cell_type": "markdown",
   "id": "4d46d154-1111-4979-8ad3-d09da708f2d9",
   "metadata": {},
   "source": [
    "### 7.3 How to actually change the contents of a tuple?"
   ]
  },
  {
   "cell_type": "code",
   "execution_count": 22,
   "id": "f608d2ef-0534-446a-83db-6919faa79b10",
   "metadata": {},
   "outputs": [],
   "source": [
    "T = (\"Hardik Kumar\", 46, \"Wipro\", \"Program Manager\", \"26 LPA\")"
   ]
  },
  {
   "cell_type": "markdown",
   "id": "b3f78f15-8ed9-4d24-9096-f90d93e2f203",
   "metadata": {},
   "source": [
    "##### Change the job title of Hardik Kumar"
   ]
  },
  {
   "cell_type": "code",
   "execution_count": 23,
   "id": "81e20d3c-8986-48b7-8a42-ca1e5dadb88e",
   "metadata": {},
   "outputs": [
    {
     "data": {
      "text/plain": [
       "'Program Manager'"
      ]
     },
     "execution_count": 23,
     "metadata": {},
     "output_type": "execute_result"
    }
   ],
   "source": [
    "T[-2]"
   ]
  },
  {
   "cell_type": "code",
   "execution_count": 24,
   "id": "74fe7bc8-8d7c-4738-9936-fffdef117976",
   "metadata": {},
   "outputs": [
    {
     "ename": "TypeError",
     "evalue": "'tuple' object does not support item assignment",
     "output_type": "error",
     "traceback": [
      "\u001b[1;31m---------------------------------------------------------------------------\u001b[0m",
      "\u001b[1;31mTypeError\u001b[0m                                 Traceback (most recent call last)",
      "Cell \u001b[1;32mIn[24], line 1\u001b[0m\n\u001b[1;32m----> 1\u001b[0m T[\u001b[38;5;241m-\u001b[39m\u001b[38;5;241m2\u001b[39m] \u001b[38;5;241m=\u001b[39m \u001b[38;5;124m\"\u001b[39m\u001b[38;5;124mDeliver Manager\u001b[39m\u001b[38;5;124m\"\u001b[39m\n",
      "\u001b[1;31mTypeError\u001b[0m: 'tuple' object does not support item assignment"
     ]
    }
   ],
   "source": [
    "T[-2] = \"Deliver Manager\""
   ]
  },
  {
   "cell_type": "code",
   "execution_count": 25,
   "id": "80876766-d81d-41b3-a65b-1e37c550d33e",
   "metadata": {},
   "outputs": [],
   "source": [
    "temp = list(T)"
   ]
  },
  {
   "cell_type": "code",
   "execution_count": 26,
   "id": "b20d4e92-04a9-4121-8d52-9dc79726d56d",
   "metadata": {},
   "outputs": [
    {
     "data": {
      "text/plain": [
       "['Hardik Kumar', 46, 'Wipro', 'Program Manager', '26 LPA']"
      ]
     },
     "execution_count": 26,
     "metadata": {},
     "output_type": "execute_result"
    }
   ],
   "source": [
    "temp"
   ]
  },
  {
   "cell_type": "code",
   "execution_count": 27,
   "id": "ed6c8fbd-3ff5-4fa7-bdc9-7784f825b185",
   "metadata": {},
   "outputs": [],
   "source": [
    "temp[-2] = \"Delivery Manager\""
   ]
  },
  {
   "cell_type": "code",
   "execution_count": 28,
   "id": "bd6eeb70-34ea-4882-aaf9-258565ebd587",
   "metadata": {},
   "outputs": [
    {
     "data": {
      "text/plain": [
       "['Hardik Kumar', 46, 'Wipro', 'Delivery Manager', '26 LPA']"
      ]
     },
     "execution_count": 28,
     "metadata": {},
     "output_type": "execute_result"
    }
   ],
   "source": [
    "temp"
   ]
  },
  {
   "cell_type": "code",
   "execution_count": 29,
   "id": "1d8e84d0-71b0-4132-b53e-82070e37609e",
   "metadata": {},
   "outputs": [],
   "source": [
    "T = tuple(T)"
   ]
  },
  {
   "cell_type": "code",
   "execution_count": 30,
   "id": "abcabccb-e57f-4924-9310-0204ca0963a0",
   "metadata": {},
   "outputs": [
    {
     "data": {
      "text/plain": [
       "('Hardik Kumar', 46, 'Wipro', 'Program Manager', '26 LPA')"
      ]
     },
     "execution_count": 30,
     "metadata": {},
     "output_type": "execute_result"
    }
   ],
   "source": [
    "T"
   ]
  },
  {
   "cell_type": "markdown",
   "id": "daec8545-8a75-4f9d-b20d-b247da2cd8ef",
   "metadata": {},
   "source": [
    "### 7.4 Unpacking"
   ]
  },
  {
   "cell_type": "markdown",
   "id": "e444d265-c115-4f40-9628-63a24a2b0967",
   "metadata": {},
   "source": [
    "##### Applies lists and tuples"
   ]
  },
  {
   "cell_type": "code",
   "execution_count": 31,
   "id": "c05d3a59-3892-43f4-a2fa-19e96a6b9bc1",
   "metadata": {},
   "outputs": [
    {
     "data": {
      "text/plain": [
       "('Hardik Kumar', 46, 'Wipro', 'Program Manager', '26 LPA')"
      ]
     },
     "execution_count": 31,
     "metadata": {},
     "output_type": "execute_result"
    }
   ],
   "source": [
    "T"
   ]
  },
  {
   "cell_type": "code",
   "execution_count": 32,
   "id": "d29f7037-3b6d-4076-b327-5a1ba400249f",
   "metadata": {},
   "outputs": [],
   "source": [
    "name, age, company, job, salary = T"
   ]
  },
  {
   "cell_type": "code",
   "execution_count": 33,
   "id": "dc13df73-2443-401b-a62a-e436d7822f1d",
   "metadata": {},
   "outputs": [
    {
     "name": "stdout",
     "output_type": "stream",
     "text": [
      "Hardik Kumar 46 Wipro Program Manager 26 LPA\n"
     ]
    }
   ],
   "source": [
    "print(name, age, company, job, salary)"
   ]
  },
  {
   "cell_type": "code",
   "execution_count": 35,
   "id": "6626af42-c94d-42d4-bf0f-0b1ee8b8b67c",
   "metadata": {},
   "outputs": [
    {
     "data": {
      "text/plain": [
       "('Hardik Kumar', '26 LPA')"
      ]
     },
     "execution_count": 35,
     "metadata": {},
     "output_type": "execute_result"
    }
   ],
   "source": [
    "name, salary"
   ]
  },
  {
   "cell_type": "code",
   "execution_count": 36,
   "id": "c12b7bbd-c7f9-497c-9296-6bc15372a8dd",
   "metadata": {},
   "outputs": [],
   "source": [
    "L =  ['red', 'green', 'blue' ,'yellow']"
   ]
  },
  {
   "cell_type": "code",
   "execution_count": 37,
   "id": "c2f1cc7e-c981-46ca-8fa6-4771a64c8bca",
   "metadata": {},
   "outputs": [
    {
     "ename": "ValueError",
     "evalue": "too many values to unpack (expected 2)",
     "output_type": "error",
     "traceback": [
      "\u001b[1;31m---------------------------------------------------------------------------\u001b[0m",
      "\u001b[1;31mValueError\u001b[0m                                Traceback (most recent call last)",
      "Cell \u001b[1;32mIn[37], line 1\u001b[0m\n\u001b[1;32m----> 1\u001b[0m a, b \u001b[38;5;241m=\u001b[39m L\n",
      "\u001b[1;31mValueError\u001b[0m: too many values to unpack (expected 2)"
     ]
    }
   ],
   "source": [
    "a, b = L"
   ]
  },
  {
   "cell_type": "code",
   "execution_count": 38,
   "id": "73933a1c-80ef-4f29-b4e0-4c82fd86311c",
   "metadata": {},
   "outputs": [],
   "source": [
    "a, b, *x = L"
   ]
  },
  {
   "cell_type": "code",
   "execution_count": 39,
   "id": "d270e66c-dd31-43f5-b8f4-81ec23dd1d2e",
   "metadata": {},
   "outputs": [
    {
     "data": {
      "text/plain": [
       "'red'"
      ]
     },
     "execution_count": 39,
     "metadata": {},
     "output_type": "execute_result"
    }
   ],
   "source": [
    "a"
   ]
  },
  {
   "cell_type": "code",
   "execution_count": 40,
   "id": "ff7968a8-b90d-4b1e-ab8c-8b22b48654f4",
   "metadata": {},
   "outputs": [
    {
     "data": {
      "text/plain": [
       "'green'"
      ]
     },
     "execution_count": 40,
     "metadata": {},
     "output_type": "execute_result"
    }
   ],
   "source": [
    "b"
   ]
  },
  {
   "cell_type": "code",
   "execution_count": 41,
   "id": "e1a773a2-cb7a-49b1-9706-a3d6ff3e7fd5",
   "metadata": {},
   "outputs": [
    {
     "data": {
      "text/plain": [
       "['blue', 'yellow']"
      ]
     },
     "execution_count": 41,
     "metadata": {},
     "output_type": "execute_result"
    }
   ],
   "source": [
    "x"
   ]
  },
  {
   "cell_type": "code",
   "execution_count": 43,
   "id": "2acc8034-7d0e-41dc-b541-2a9dbe0ecf47",
   "metadata": {},
   "outputs": [
    {
     "name": "stdout",
     "output_type": "stream",
     "text": [
      "blue yellow\n"
     ]
    }
   ],
   "source": [
    "print(*x)"
   ]
  },
  {
   "cell_type": "code",
   "execution_count": null,
   "id": "0222745d-ee93-497f-ad8a-dab6a80dec75",
   "metadata": {},
   "outputs": [],
   "source": []
  }
 ],
 "metadata": {
  "kernelspec": {
   "display_name": "Python 3 (ipykernel)",
   "language": "python",
   "name": "python3"
  },
  "language_info": {
   "codemirror_mode": {
    "name": "ipython",
    "version": 3
   },
   "file_extension": ".py",
   "mimetype": "text/x-python",
   "name": "python",
   "nbconvert_exporter": "python",
   "pygments_lexer": "ipython3",
   "version": "3.11.7"
  }
 },
 "nbformat": 4,
 "nbformat_minor": 5
}
