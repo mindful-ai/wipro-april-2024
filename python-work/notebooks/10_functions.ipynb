{
 "cells": [
  {
   "cell_type": "markdown",
   "id": "e9afe679-b4cd-428c-9869-dbcc3b6fba49",
   "metadata": {},
   "source": [
    "# User Defined Functions"
   ]
  },
  {
   "cell_type": "markdown",
   "id": "ea5dee1a-ca32-4692-bdfe-70304c8cbda9",
   "metadata": {},
   "source": [
    "### 10.1 Defining and using functions"
   ]
  },
  {
   "cell_type": "markdown",
   "id": "47cf9746-33ef-4591-9c0b-83143d55ec4f",
   "metadata": {},
   "source": [
    "##### Write a function for determining if a number is prime or not. The output should be True or False"
   ]
  },
  {
   "cell_type": "code",
   "execution_count": 12,
   "id": "227ea5cf-e96e-4285-972f-8f2d30741d88",
   "metadata": {},
   "outputs": [],
   "source": [
    "# Function Definition\n",
    "def checkprime(n):\n",
    "    flag = True\n",
    "    for i in range(2, n):\n",
    "        if(n % i == 0):\n",
    "            flag = False\n",
    "            break\n",
    "    return flag"
   ]
  },
  {
   "cell_type": "code",
   "execution_count": 4,
   "id": "72313191-2a01-459d-88a7-3115498972af",
   "metadata": {},
   "outputs": [
    {
     "data": {
      "text/plain": [
       "False"
      ]
     },
     "execution_count": 4,
     "metadata": {},
     "output_type": "execute_result"
    }
   ],
   "source": [
    "# Function Call\n",
    "checkprime(10)"
   ]
  },
  {
   "cell_type": "code",
   "execution_count": 3,
   "id": "db54054d-5c55-4527-b0c0-1848046a72d9",
   "metadata": {},
   "outputs": [
    {
     "data": {
      "text/plain": [
       "True"
      ]
     },
     "execution_count": 3,
     "metadata": {},
     "output_type": "execute_result"
    }
   ],
   "source": [
    "checkprime(13)"
   ]
  },
  {
   "cell_type": "markdown",
   "id": "c3e38477-cae4-4283-8b67-637fd59f91b8",
   "metadata": {},
   "source": [
    "##### Detect all the prime number between a given range"
   ]
  },
  {
   "cell_type": "code",
   "execution_count": 6,
   "id": "c50beaf1-5bd9-4071-8046-54795663b35a",
   "metadata": {},
   "outputs": [
    {
     "name": "stdout",
     "output_type": "stream",
     "text": [
      "[101, 103, 107, 109, 113, 127, 131, 137, 139, 149, 151, 157, 163, 167, 173, 179, 181, 191, 193, 197, 199, 211, 223, 227, 229, 233, 239, 241, 251, 257, 263, 269, 271, 277, 281, 283, 293, 307, 311, 313, 317, 331, 337, 347, 349, 353, 359, 367, 373, 379, 383, 389, 397, 401, 409, 419, 421, 431, 433, 439, 443, 449, 457, 461, 463, 467, 479, 487, 491, 499, 503, 509, 521, 523, 541, 547, 557, 563, 569, 571, 577, 587, 593, 599, 601, 607, 613, 617, 619, 631, 641, 643, 647, 653, 659, 661, 673, 677, 683, 691, 701, 709, 719, 727, 733, 739, 743, 751, 757, 761, 769, 773, 787, 797, 809, 811, 821, 823, 827, 829, 839, 853, 857, 859, 863, 877, 881, 883, 887, 907, 911, 919, 929, 937, 941, 947, 953, 967, 971, 977, 983, 991, 997]\n"
     ]
    }
   ],
   "source": [
    "start = 100\n",
    "end = 1000\n",
    "primes = []\n",
    "for n in range(start, end + 1):\n",
    "    if(checkprime(n)): # checkprime(n) == True\n",
    "        primes.append(n)\n",
    "print(primes)"
   ]
  },
  {
   "cell_type": "markdown",
   "id": "8aaf9560-f755-4af3-aa42-fd28a4d7606f",
   "metadata": {},
   "source": [
    "##### Detect the highest prime number below a specified number"
   ]
  },
  {
   "cell_type": "code",
   "execution_count": 8,
   "id": "eb57826b-4652-40ee-8b32-236a6a626cb9",
   "metadata": {},
   "outputs": [
    {
     "name": "stdout",
     "output_type": "stream",
     "text": [
      "997\n"
     ]
    }
   ],
   "source": [
    "max_value = 1000\n",
    "for n in range(max_value, -1, -1):\n",
    "    if(checkprime(n)):\n",
    "        print(n)\n",
    "        break"
   ]
  },
  {
   "cell_type": "markdown",
   "id": "feaa165e-8223-4b48-96c8-8ab2e6dec18a",
   "metadata": {},
   "source": [
    "##### Exmaple to do a detailed test of a function"
   ]
  },
  {
   "cell_type": "code",
   "execution_count": 9,
   "id": "138337bf-ee5f-49ab-966f-dc42efa768a3",
   "metadata": {},
   "outputs": [],
   "source": [
    "# Test plan: count the number of prime number in a given range\n",
    "# Test case #1\n",
    "# Test data = range(1, 11)\n",
    "# Expected number of prime numbers in test range = 5\n",
    "# Test the expected result with the obtained result\n"
   ]
  },
  {
   "cell_type": "code",
   "execution_count": 13,
   "id": "af4d2df4-e923-45ea-9a86-2b82761f254b",
   "metadata": {},
   "outputs": [],
   "source": [
    "def testPrimes_testCase_01(start, end, expectedResult):\n",
    "    count = 0\n",
    "    for i in range(start, end):\n",
    "        if(checkprime(i)):\n",
    "            count += 1\n",
    "    if(count == expectedResult):\n",
    "        return \"pass\"\n",
    "    else:\n",
    "        return \"fail\""
   ]
  },
  {
   "cell_type": "code",
   "execution_count": 16,
   "id": "d5991bdb-d861-406e-98cb-f88725300f11",
   "metadata": {},
   "outputs": [
    {
     "data": {
      "text/plain": [
       "'pass'"
      ]
     },
     "execution_count": 16,
     "metadata": {},
     "output_type": "execute_result"
    }
   ],
   "source": [
    "testPrimes_testCase_01(1, 11, 5)"
   ]
  },
  {
   "cell_type": "markdown",
   "id": "9c7d74a7-efd1-413a-8155-da4161eb70ea",
   "metadata": {},
   "source": [
    "### 10.2 Scope of variables "
   ]
  },
  {
   "cell_type": "code",
   "execution_count": 18,
   "id": "a279d75a-514b-4aeb-bb0f-1ea932af92d0",
   "metadata": {},
   "outputs": [
    {
     "name": "stdout",
     "output_type": "stream",
     "text": [
      "10\n"
     ]
    }
   ],
   "source": [
    "a = 10\n",
    "def func():\n",
    "    print(a)\n",
    "\n",
    "func()"
   ]
  },
  {
   "cell_type": "code",
   "execution_count": 22,
   "id": "35abcb5f-2793-45a1-a2e0-bc597e854f94",
   "metadata": {},
   "outputs": [
    {
     "data": {
      "text/plain": [
       "(5, 10)"
      ]
     },
     "execution_count": 22,
     "metadata": {},
     "output_type": "execute_result"
    }
   ],
   "source": [
    "a = 10 # Global variable\n",
    "def func():\n",
    "    a = 5 # Local variable\n",
    "    return a\n",
    "\n",
    "def func1():\n",
    "    return a\n",
    "\n",
    "func(), func1()"
   ]
  },
  {
   "cell_type": "code",
   "execution_count": 25,
   "id": "0055a4c8-5f60-4a23-8fc8-ecee4768ea75",
   "metadata": {},
   "outputs": [
    {
     "data": {
      "text/plain": [
       "10"
      ]
     },
     "execution_count": 25,
     "metadata": {},
     "output_type": "execute_result"
    }
   ],
   "source": [
    "a = 10\n",
    "def f1():\n",
    "    #a = 5\n",
    "    def f2():\n",
    "        #a = 1\n",
    "        return a\n",
    "    return f2()\n",
    "\n",
    "f1()"
   ]
  },
  {
   "cell_type": "code",
   "execution_count": 26,
   "id": "9107a7b6-dd64-4b33-b40e-ac7d4f7141d5",
   "metadata": {},
   "outputs": [
    {
     "data": {
      "text/plain": [
       "5"
      ]
     },
     "execution_count": 26,
     "metadata": {},
     "output_type": "execute_result"
    }
   ],
   "source": [
    "a = 10\n",
    "def f1():\n",
    "    a = 5\n",
    "    def f2():\n",
    "        nonlocal a\n",
    "        return a\n",
    "    return f2()\n",
    "f1()"
   ]
  },
  {
   "cell_type": "code",
   "execution_count": 27,
   "id": "452c0fbf-7961-4f57-8f33-230fe9425bec",
   "metadata": {},
   "outputs": [
    {
     "data": {
      "text/plain": [
       "10"
      ]
     },
     "execution_count": 27,
     "metadata": {},
     "output_type": "execute_result"
    }
   ],
   "source": [
    "a = 10\n",
    "def f1():\n",
    "    a = 5\n",
    "    def f2():\n",
    "        global a\n",
    "        return a\n",
    "    return f2()\n",
    "f1()"
   ]
  },
  {
   "cell_type": "markdown",
   "id": "8fb04fae-fc4d-42c4-b94c-90c2099fe316",
   "metadata": {},
   "source": [
    "##### Note: You can return a function object"
   ]
  },
  {
   "cell_type": "code",
   "execution_count": 29,
   "id": "6a563581-1fe9-4a1f-9437-b8137330c33d",
   "metadata": {},
   "outputs": [],
   "source": [
    "def getFunc(option):\n",
    "\n",
    "    def odd(n):\n",
    "        if(n%2!=0):\n",
    "            return True\n",
    "        else:\n",
    "            return False\n",
    "\n",
    "    def even(n):\n",
    "        if(n%2==0):\n",
    "            return True\n",
    "        else:\n",
    "            return False\n",
    "\n",
    "    return odd if option == 1 else even"
   ]
  },
  {
   "cell_type": "code",
   "execution_count": 30,
   "id": "7fc1db48-a1e9-443e-91d4-fc22a323390d",
   "metadata": {},
   "outputs": [],
   "source": [
    "myfunc = getFunc(1)"
   ]
  },
  {
   "cell_type": "code",
   "execution_count": 31,
   "id": "3d7b5f0d-7bc5-4cb8-9bfa-bc5a9b9a792c",
   "metadata": {},
   "outputs": [
    {
     "data": {
      "text/plain": [
       "<function __main__.getFunc.<locals>.odd(n)>"
      ]
     },
     "execution_count": 31,
     "metadata": {},
     "output_type": "execute_result"
    }
   ],
   "source": [
    "myfunc"
   ]
  },
  {
   "cell_type": "code",
   "execution_count": 32,
   "id": "d92439c0-b52f-4328-8cce-b209c95cb7a5",
   "metadata": {},
   "outputs": [],
   "source": [
    "myfunc = getFunc(0)"
   ]
  },
  {
   "cell_type": "code",
   "execution_count": 33,
   "id": "1579fc46-e497-45d0-8a51-1014c9b0235a",
   "metadata": {},
   "outputs": [
    {
     "data": {
      "text/plain": [
       "<function __main__.getFunc.<locals>.even(n)>"
      ]
     },
     "execution_count": 33,
     "metadata": {},
     "output_type": "execute_result"
    }
   ],
   "source": [
    "myfunc"
   ]
  },
  {
   "cell_type": "markdown",
   "id": "e76d0700-b4a1-4b52-8081-50252a693301",
   "metadata": {},
   "source": [
    "##### A function object is callable"
   ]
  },
  {
   "cell_type": "code",
   "execution_count": 34,
   "id": "8374502a-fd35-4a30-9911-145e74c3d03e",
   "metadata": {},
   "outputs": [
    {
     "data": {
      "text/plain": [
       "True"
      ]
     },
     "execution_count": 34,
     "metadata": {},
     "output_type": "execute_result"
    }
   ],
   "source": [
    "myfunc(90)"
   ]
  },
  {
   "cell_type": "code",
   "execution_count": 35,
   "id": "893a3e04-1200-4a5b-ad84-8a9f42d78b11",
   "metadata": {},
   "outputs": [
    {
     "data": {
      "text/plain": [
       "False"
      ]
     },
     "execution_count": 35,
     "metadata": {},
     "output_type": "execute_result"
    }
   ],
   "source": [
    "myfunc(91)"
   ]
  },
  {
   "cell_type": "markdown",
   "id": "96e9c2ea-26a7-43d9-9da4-c35397f16a4b",
   "metadata": {},
   "source": [
    "### 10.3 Default Arguments"
   ]
  },
  {
   "cell_type": "code",
   "execution_count": 36,
   "id": "56086acf-8349-468d-b97e-db478b612988",
   "metadata": {},
   "outputs": [
    {
     "name": "stdout",
     "output_type": "stream",
     "text": [
      "The name is Rajesh and age is 50\n"
     ]
    }
   ],
   "source": [
    "def fun(name, age):\n",
    "    print(\"The name is {} and age is {}\".format(name, age))\n",
    "\n",
    "fun('Rajesh', 50)"
   ]
  },
  {
   "cell_type": "code",
   "execution_count": 37,
   "id": "7ac527c6-43a9-424b-a06e-278672adfb69",
   "metadata": {},
   "outputs": [
    {
     "ename": "TypeError",
     "evalue": "fun() missing 1 required positional argument: 'age'",
     "output_type": "error",
     "traceback": [
      "\u001b[1;31m---------------------------------------------------------------------------\u001b[0m",
      "\u001b[1;31mTypeError\u001b[0m                                 Traceback (most recent call last)",
      "Cell \u001b[1;32mIn[37], line 1\u001b[0m\n\u001b[1;32m----> 1\u001b[0m fun(\u001b[38;5;124m'\u001b[39m\u001b[38;5;124mRajesh\u001b[39m\u001b[38;5;124m'\u001b[39m)\n",
      "\u001b[1;31mTypeError\u001b[0m: fun() missing 1 required positional argument: 'age'"
     ]
    }
   ],
   "source": [
    "fun('Rajesh')"
   ]
  },
  {
   "cell_type": "code",
   "execution_count": 38,
   "id": "190d08c7-6559-4a0b-b60d-d8286dd7f393",
   "metadata": {},
   "outputs": [
    {
     "name": "stdout",
     "output_type": "stream",
     "text": [
      "The name is Rajesh and age is 17\n"
     ]
    }
   ],
   "source": [
    "def fun(name, age=17):\n",
    "    print(\"The name is {} and age is {}\".format(name, age))\n",
    "\n",
    "fun('Rajesh')"
   ]
  },
  {
   "cell_type": "markdown",
   "id": "624057b8-243e-42d8-a86f-55135ba67379",
   "metadata": {},
   "source": [
    "### 10.4 Named Parameters"
   ]
  },
  {
   "cell_type": "markdown",
   "id": "0e1fca5c-48cb-4b47-911d-7b90834c1b1d",
   "metadata": {},
   "source": [
    "##### You have generally maintain the order of arguments while calling a function"
   ]
  },
  {
   "cell_type": "code",
   "execution_count": 39,
   "id": "6b05c458-39c9-46d7-a963-9f4bdcacf54b",
   "metadata": {},
   "outputs": [
    {
     "name": "stdout",
     "output_type": "stream",
     "text": [
      "The name is Raj and age is 45\n"
     ]
    }
   ],
   "source": [
    "fun(\"Raj\", 45)"
   ]
  },
  {
   "cell_type": "code",
   "execution_count": 40,
   "id": "89a88f61-9197-4ea7-882f-9fe575690b99",
   "metadata": {},
   "outputs": [
    {
     "name": "stdout",
     "output_type": "stream",
     "text": [
      "The name is 45 and age is Raj\n"
     ]
    }
   ],
   "source": [
    "fun(45, \"Raj\")"
   ]
  },
  {
   "cell_type": "markdown",
   "id": "fe2ba3b3-b73e-4c49-9944-4fd94d3507e8",
   "metadata": {},
   "source": [
    "##### To overcome the problem mention the paramters with names in the form of key=value pairs"
   ]
  },
  {
   "cell_type": "code",
   "execution_count": 41,
   "id": "0a65c85f-013d-4462-a197-41263e74c617",
   "metadata": {},
   "outputs": [
    {
     "name": "stdout",
     "output_type": "stream",
     "text": [
      "The name is Rajesh and age is 29\n"
     ]
    }
   ],
   "source": [
    "fun(age=29, name=\"Rajesh\")"
   ]
  },
  {
   "cell_type": "markdown",
   "id": "c5b9c360-51c9-49fb-ac2c-50c64d7c0c81",
   "metadata": {},
   "source": [
    "##### When you write the named parameters the order doesn't matter"
   ]
  },
  {
   "cell_type": "markdown",
   "id": "3be8b96d-0bf6-4834-8eb7-41c8bb1061a0",
   "metadata": {},
   "source": [
    "### 10.5 Passing variable number of arguements"
   ]
  },
  {
   "cell_type": "code",
   "execution_count": 42,
   "id": "341b7ca4-9368-4d9f-a447-320823ca9230",
   "metadata": {},
   "outputs": [
    {
     "data": {
      "text/plain": [
       "20.0"
      ]
     },
     "execution_count": 42,
     "metadata": {},
     "output_type": "execute_result"
    }
   ],
   "source": [
    "def average(a, b, c):\n",
    "    return (a + b + c)/3\n",
    "\n",
    "average(10, 20, 30)"
   ]
  },
  {
   "cell_type": "markdown",
   "id": "d5556ea4-8d10-4a08-8adc-0d380b80c3da",
   "metadata": {},
   "source": [
    "##### How to use the above function to calculate average of 5, 6, 7 ... numbers?"
   ]
  },
  {
   "cell_type": "markdown",
   "id": "956cb300-93b2-45db-834b-732915463eec",
   "metadata": {},
   "source": [
    "##### Simple answer, you cannot use!"
   ]
  },
  {
   "cell_type": "markdown",
   "id": "8d218e2a-83bd-42ee-8cf6-10f23007d6cc",
   "metadata": {},
   "source": [
    "##### One way to solve the problem is to send the values as a list or a tuple"
   ]
  },
  {
   "cell_type": "markdown",
   "id": "e6752c99-9208-497d-85e3-121c88199e28",
   "metadata": {},
   "source": [
    "##### Otherwise use python construct that allow you to define functions with variable number of arguments"
   ]
  },
  {
   "cell_type": "code",
   "execution_count": 45,
   "id": "1eaa29f8-96d6-40ab-aeae-4abe58e7cf72",
   "metadata": {},
   "outputs": [],
   "source": [
    "def func(*args):\n",
    "    print(args)"
   ]
  },
  {
   "cell_type": "code",
   "execution_count": 46,
   "id": "b48491fe-8990-42d1-8445-9c570573207c",
   "metadata": {},
   "outputs": [
    {
     "name": "stdout",
     "output_type": "stream",
     "text": [
      "(1, 2, 3, 4, 5)\n"
     ]
    }
   ],
   "source": [
    "func(1, 2, 3, 4, 5)"
   ]
  },
  {
   "cell_type": "code",
   "execution_count": 47,
   "id": "3b995d33-734b-4548-be4c-cc24bbf5310b",
   "metadata": {},
   "outputs": [],
   "source": [
    "def func(a, b, *args):\n",
    "    print(a, b, args)"
   ]
  },
  {
   "cell_type": "code",
   "execution_count": 48,
   "id": "6e5b6051-9e2f-42a4-99d7-e1ff0732f6b4",
   "metadata": {},
   "outputs": [
    {
     "name": "stdout",
     "output_type": "stream",
     "text": [
      "1 2 (3, 4, 5)\n"
     ]
    }
   ],
   "source": [
    "func(1, 2, 3, 4, 5)"
   ]
  },
  {
   "cell_type": "code",
   "execution_count": 53,
   "id": "84c2b9aa-0484-44cc-a1eb-54fead8e012f",
   "metadata": {},
   "outputs": [],
   "source": [
    "def func(a, b, *args, **kargs):\n",
    "    print(a, b, args, kargs)"
   ]
  },
  {
   "cell_type": "code",
   "execution_count": 54,
   "id": "2eee1053-57a8-4647-8bf5-676fd39b3690",
   "metadata": {},
   "outputs": [
    {
     "name": "stdout",
     "output_type": "stream",
     "text": [
      "1 2 (3, 4, 5) {'name': 'Raj', 'age': 45}\n"
     ]
    }
   ],
   "source": [
    "func(1, 2, 3, 4, 5, name='Raj', age=45)"
   ]
  },
  {
   "cell_type": "markdown",
   "id": "b4b17198-bd0f-4102-a1a0-1993d580e960",
   "metadata": {},
   "source": [
    "##### Order of types of arguments should be maintained: individual arguments -> *args -> **kargs should be in the same sequence"
   ]
  },
  {
   "cell_type": "code",
   "execution_count": 55,
   "id": "44ba485c-3d04-4e2a-b2eb-241739c63676",
   "metadata": {},
   "outputs": [
    {
     "data": {
      "text/plain": [
       "2.5"
      ]
     },
     "execution_count": 55,
     "metadata": {},
     "output_type": "execute_result"
    }
   ],
   "source": [
    "def average(*values):\n",
    "    return sum(values)/len(values)\n",
    "\n",
    "average(1, 2, 3, 4)"
   ]
  },
  {
   "cell_type": "code",
   "execution_count": 56,
   "id": "0267ca0d-7386-484e-95fb-4479329626f1",
   "metadata": {},
   "outputs": [
    {
     "data": {
      "text/plain": [
       "61.166666666666664"
      ]
     },
     "execution_count": 56,
     "metadata": {},
     "output_type": "execute_result"
    }
   ],
   "source": [
    "average(23, 45, 56, 67, 87, 89)"
   ]
  },
  {
   "cell_type": "markdown",
   "id": "4446c503-f3ea-49d7-a8ad-f6fced41321c",
   "metadata": {},
   "source": [
    "##### Quick Test:"
   ]
  },
  {
   "cell_type": "code",
   "execution_count": null,
   "id": "2e16eb0b-b938-43e3-a68f-7e05684a697b",
   "metadata": {},
   "outputs": [],
   "source": [
    "Write a function that will input some numbers and return the min and max of the set of numbers as a tuple\n",
    "Call   -> getMinMax(1, 2, 3, 4, 6)\n",
    "Output -> (1, 6)"
   ]
  },
  {
   "cell_type": "markdown",
   "id": "1a522566-7364-4ab4-bc6c-63df8e56709c",
   "metadata": {},
   "source": [
    "##### Quick Test:"
   ]
  },
  {
   "cell_type": "markdown",
   "id": "6cce0c9a-bb42-40ea-980c-e4e319b67477",
   "metadata": {},
   "source": [
    "Write a function that will take some text and convert that into a title\n",
    "\n",
    "Call   -> makeTitle(\"mary had a little lamb\")\n",
    "Output -> Mary Had A Little Lamb\n",
    "\n",
    "Test -> output.istitle() -> True"
   ]
  },
  {
   "cell_type": "markdown",
   "id": "0a1a60ba-d48b-42da-8a87-d51cb1693548",
   "metadata": {},
   "source": [
    "##### Quick Test:"
   ]
  },
  {
   "cell_type": "markdown",
   "id": "4f323027-5ef8-4b5c-9222-55f4111059b9",
   "metadata": {},
   "source": [
    "##### Write a function that will encrypt/decrypt a given string with a key -> encrypt() and decrypt()"
   ]
  },
  {
   "cell_type": "code",
   "execution_count": null,
   "id": "22358115-5db8-4934-877b-d5df9ce22b2d",
   "metadata": {},
   "outputs": [],
   "source": [
    "Example Encryption: str => \"apples\" key => 5\n",
    "        output => \"ckksx\"\n",
    "Example Decryption: str => \"ckksx\" key => 5\n",
    "        output => \"apples\"\n",
    "\n",
    "a + 5 -> p\n",
    "p + 6 -> q\n",
    "p + 7 -> r\n",
    "l + 8 -> s\n",
    "e + 9 -> t\n",
    "s + 10 -> u\n",
    "\n",
    "pqrstu"
   ]
  },
  {
   "cell_type": "markdown",
   "id": "f9ffdf9b-5474-4fc8-be7f-550dd6350381",
   "metadata": {},
   "source": [
    "### 10.6 Recursive Functions"
   ]
  },
  {
   "cell_type": "markdown",
   "id": "fac75a55-19ef-4e26-92e2-018751f6b193",
   "metadata": {},
   "source": [
    "##### The function that call themselves are called recursive functions"
   ]
  },
  {
   "cell_type": "code",
   "execution_count": 71,
   "id": "cc983669-6f39-4fde-b347-df7e0c56c293",
   "metadata": {},
   "outputs": [],
   "source": [
    "def recursive(n):\n",
    "    print('Recursive step -> ', n)\n",
    "    if(n == 1):\n",
    "        return 1\n",
    "    else:\n",
    "        return str(n) + str(recursive(n - 1))"
   ]
  },
  {
   "cell_type": "code",
   "execution_count": 72,
   "id": "6df0a66c-ece7-4149-a51a-7063b96c8dc4",
   "metadata": {},
   "outputs": [
    {
     "name": "stdout",
     "output_type": "stream",
     "text": [
      "Recursive step ->  5\n",
      "Recursive step ->  4\n",
      "Recursive step ->  3\n",
      "Recursive step ->  2\n",
      "Recursive step ->  1\n"
     ]
    },
    {
     "data": {
      "text/plain": [
       "'54321'"
      ]
     },
     "execution_count": 72,
     "metadata": {},
     "output_type": "execute_result"
    }
   ],
   "source": [
    "recursive(5)"
   ]
  },
  {
   "cell_type": "markdown",
   "id": "ffd6ff12-f0c4-453b-a158-44993f68cf4e",
   "metadata": {},
   "source": [
    "##### Application: calculate the factorial of a number using recursion"
   ]
  },
  {
   "cell_type": "code",
   "execution_count": 74,
   "id": "8f1e4e94-7a7f-426d-b90c-1e1a90691f8e",
   "metadata": {},
   "outputs": [],
   "source": [
    "def factorial(n):\n",
    "    if(n == 1):\n",
    "        return 1\n",
    "    else:\n",
    "        return n * factorial(n - 1)"
   ]
  },
  {
   "cell_type": "code",
   "execution_count": 75,
   "id": "584e4618-b02a-4a29-9212-5cb60d85d7c1",
   "metadata": {},
   "outputs": [
    {
     "data": {
      "text/plain": [
       "3628800"
      ]
     },
     "execution_count": 75,
     "metadata": {},
     "output_type": "execute_result"
    }
   ],
   "source": [
    "factorial(10)"
   ]
  },
  {
   "cell_type": "markdown",
   "id": "af138d19-bbf1-42fe-a5d3-fd221c161b7e",
   "metadata": {},
   "source": [
    "##### Note: Recursion should be feasible to be implemented for a give solution"
   ]
  },
  {
   "cell_type": "markdown",
   "id": "dc26eb65-c243-4d31-b239-4f8ecf229a79",
   "metadata": {},
   "source": [
    "### 10.7 Binary Search Algorithm"
   ]
  },
  {
   "cell_type": "markdown",
   "id": "c46402f3-7a2e-4c23-a74a-fd62a92dc8fc",
   "metadata": {},
   "source": [
    "##### Let's use the recursion for this problem solution"
   ]
  },
  {
   "cell_type": "code",
   "execution_count": 110,
   "id": "356f7c77-6fe3-4ef8-b5ab-790db79bafbf",
   "metadata": {},
   "outputs": [],
   "source": [
    "def binarySearch(arr, start, end, item):\n",
    "\n",
    "    if start <= end:\n",
    "\n",
    "        # calculate the middle value\n",
    "        mid = (start + end) // 2\n",
    "        #print(\"Current mid: \", mid, arr[mid])\n",
    "        \n",
    "        # check if the item is present in the middle itself\n",
    "        if(arr[mid] == item):\n",
    "            #print(\"Found ->\", mid)\n",
    "            return mid\n",
    "\n",
    "        # if the item is less than the mid, item can only be present in the left\n",
    "        # reset the end to point to mid and repeat the process\n",
    "        elif arr[mid] > item:\n",
    "            return binarySearch(arr, start, mid - 1, item)\n",
    "\n",
    "        # if the item is greater than the mid, item can only be present in the right\n",
    "        # reset the start to point to mid and repeat the process\n",
    "        elif arr[mid] < item:\n",
    "            return binarySearch(arr, mid + 1, end, item)\n",
    "\n",
    "    else:\n",
    "        return -1\n"
   ]
  },
  {
   "cell_type": "code",
   "execution_count": 111,
   "id": "cabe6dde-d0f9-490f-a479-9de8fad4ac54",
   "metadata": {},
   "outputs": [],
   "source": [
    "testArray = [12, 14, 17, 35, 56, 78, 99]\n",
    "target = 17"
   ]
  },
  {
   "cell_type": "code",
   "execution_count": 112,
   "id": "ae8f32bc-9d07-4001-bb98-2e4614d1a683",
   "metadata": {},
   "outputs": [
    {
     "name": "stdout",
     "output_type": "stream",
     "text": [
      "2\n"
     ]
    }
   ],
   "source": [
    "result = binarySearch(testArray, 0, len(testArray) - 1, target)\n",
    "print(result)"
   ]
  },
  {
   "cell_type": "markdown",
   "id": "3e465268-76fc-45e3-b191-ab03cae14d52",
   "metadata": {},
   "source": [
    "##### Quick Test:"
   ]
  },
  {
   "cell_type": "markdown",
   "id": "e2d0ebb5-c814-447e-9cad-455f62b2d4fb",
   "metadata": {},
   "source": [
    "Find the nth Fibonacci number using recursion"
   ]
  },
  {
   "cell_type": "markdown",
   "id": "022853dc-d9aa-456c-afe8-4f5bf0f7c383",
   "metadata": {},
   "source": [
    "Input -> 8\n",
    "0 1 1 2 3 5 8 13 21 34 ...\n",
    "Output -> 13"
   ]
  },
  {
   "cell_type": "markdown",
   "id": "09d40dc1-5055-4bd2-b691-258c6cadb777",
   "metadata": {},
   "source": [
    "### 10.8 Insertion Sort"
   ]
  },
  {
   "cell_type": "code",
   "execution_count": 114,
   "id": "2812b7cc-b69a-43ef-9397-bf7890df5220",
   "metadata": {},
   "outputs": [],
   "source": [
    "def insertionSort(arr):\n",
    "\n",
    "    n = len(arr)\n",
    "\n",
    "    if n <= 1:\n",
    "        return\n",
    "\n",
    "    # Iterate for n - 1 times: start from index = 1\n",
    "    for i in range(1, n):\n",
    "\n",
    "        # store the current element in temp\n",
    "        temp = arr[i]\n",
    "\n",
    "        # set the value for j -> supporting variable for going backwards\n",
    "        j = i-1\n",
    "\n",
    "        # Start comparing backwards until j reaches the 0th index and also until temp < arr[i] - while\n",
    "        while j >= 0 and temp < arr[j]:\n",
    "        \n",
    "            # Shifting elements \n",
    "            arr[j + 1] = arr[j]\n",
    "            j -= 1\n",
    "\n",
    "        # Replace the array item by temp -> actual insert position\n",
    "        arr[j + 1] = temp\n"
   ]
  },
  {
   "cell_type": "code",
   "execution_count": 115,
   "id": "9d9f0005-8202-4417-bdb6-e9a0197ad7ce",
   "metadata": {},
   "outputs": [],
   "source": [
    "L = [14, 89, 32, 18, 55]\n",
    "insertionSort(L)"
   ]
  },
  {
   "cell_type": "code",
   "execution_count": 116,
   "id": "8a9b88bf-0493-4152-8c36-937efac1c7c0",
   "metadata": {},
   "outputs": [
    {
     "data": {
      "text/plain": [
       "[14, 18, 32, 55, 89]"
      ]
     },
     "execution_count": 116,
     "metadata": {},
     "output_type": "execute_result"
    }
   ],
   "source": [
    "L"
   ]
  },
  {
   "cell_type": "code",
   "execution_count": null,
   "id": "952eecd0-eead-4d8e-a608-de5663b49731",
   "metadata": {},
   "outputs": [],
   "source": []
  }
 ],
 "metadata": {
  "kernelspec": {
   "display_name": "Python 3 (ipykernel)",
   "language": "python",
   "name": "python3"
  },
  "language_info": {
   "codemirror_mode": {
    "name": "ipython",
    "version": 3
   },
   "file_extension": ".py",
   "mimetype": "text/x-python",
   "name": "python",
   "nbconvert_exporter": "python",
   "pygments_lexer": "ipython3",
   "version": "3.11.7"
  }
 },
 "nbformat": 4,
 "nbformat_minor": 5
}
