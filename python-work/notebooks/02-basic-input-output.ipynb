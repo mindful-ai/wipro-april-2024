{
 "cells": [
  {
   "cell_type": "code",
   "execution_count": 1,
   "id": "36e56b30-2f93-4b0c-9d6e-b416afc4b12e",
   "metadata": {},
   "outputs": [],
   "source": [
    "# taking input from the keyboard"
   ]
  },
  {
   "cell_type": "code",
   "execution_count": 2,
   "id": "874cd54e-fe27-4874-b543-7654548dd4cb",
   "metadata": {},
   "outputs": [
    {
     "name": "stdin",
     "output_type": "stream",
     "text": [
      " 100\n"
     ]
    },
    {
     "data": {
      "text/plain": [
       "'100'"
      ]
     },
     "execution_count": 2,
     "metadata": {},
     "output_type": "execute_result"
    }
   ],
   "source": [
    "input()"
   ]
  },
  {
   "cell_type": "code",
   "execution_count": 3,
   "id": "1eb7b4a4-ceef-4036-a72d-6d6c7c45a3ff",
   "metadata": {},
   "outputs": [
    {
     "name": "stdin",
     "output_type": "stream",
     "text": [
      " 100\n"
     ]
    }
   ],
   "source": [
    "a = input()"
   ]
  },
  {
   "cell_type": "code",
   "execution_count": 4,
   "id": "9801db5f-f6b5-4ebc-8512-67fa60167c5b",
   "metadata": {},
   "outputs": [
    {
     "name": "stdout",
     "output_type": "stream",
     "text": [
      "100\n"
     ]
    }
   ],
   "source": [
    "print(a)"
   ]
  },
  {
   "cell_type": "code",
   "execution_count": 5,
   "id": "f7a43ac1-2b5a-4909-9c26-10638c35a9b9",
   "metadata": {},
   "outputs": [
    {
     "name": "stdin",
     "output_type": "stream",
     "text": [
      "Enter a number:  100\n"
     ]
    }
   ],
   "source": [
    "a = input(\"Enter a number: \")"
   ]
  },
  {
   "cell_type": "code",
   "execution_count": 6,
   "id": "517c6346-be46-4f03-a9b8-6f5a2151146f",
   "metadata": {},
   "outputs": [
    {
     "data": {
      "text/plain": [
       "'100'"
      ]
     },
     "execution_count": 6,
     "metadata": {},
     "output_type": "execute_result"
    }
   ],
   "source": [
    "a"
   ]
  },
  {
   "cell_type": "code",
   "execution_count": 7,
   "id": "5303eae7-0e8a-4506-91b3-94e9672c1385",
   "metadata": {},
   "outputs": [
    {
     "ename": "TypeError",
     "evalue": "can only concatenate str (not \"int\") to str",
     "output_type": "error",
     "traceback": [
      "\u001b[1;31m---------------------------------------------------------------------------\u001b[0m",
      "\u001b[1;31mTypeError\u001b[0m                                 Traceback (most recent call last)",
      "Cell \u001b[1;32mIn[7], line 1\u001b[0m\n\u001b[1;32m----> 1\u001b[0m a \u001b[38;5;241m+\u001b[39m \u001b[38;5;241m5\u001b[39m\n",
      "\u001b[1;31mTypeError\u001b[0m: can only concatenate str (not \"int\") to str"
     ]
    }
   ],
   "source": [
    "a + 5"
   ]
  },
  {
   "cell_type": "markdown",
   "id": "2572b2c2-15b6-47c6-b4e3-40973065ba38",
   "metadata": {},
   "source": [
    "##### Note: All input given through the keyboard is considered as a string"
   ]
  },
  {
   "cell_type": "code",
   "execution_count": 8,
   "id": "bbcb307c-777f-4cdf-bd79-5c1cf50c8081",
   "metadata": {},
   "outputs": [
    {
     "data": {
      "text/plain": [
       "105"
      ]
     },
     "execution_count": 8,
     "metadata": {},
     "output_type": "execute_result"
    }
   ],
   "source": [
    "int(a) + 5"
   ]
  },
  {
   "cell_type": "code",
   "execution_count": 9,
   "id": "a6e4f5c7-a3c5-4292-ae6c-c9a8037fb223",
   "metadata": {},
   "outputs": [
    {
     "name": "stdin",
     "output_type": "stream",
     "text": [
      "Enter a flowting point number:  1.4564\n"
     ]
    }
   ],
   "source": [
    "b = float(input(\"Enter a flowting point number: \"))"
   ]
  },
  {
   "cell_type": "code",
   "execution_count": 11,
   "id": "a8bae56c-018f-4262-9715-fae32d755567",
   "metadata": {},
   "outputs": [
    {
     "data": {
      "text/plain": [
       "5.4564"
      ]
     },
     "execution_count": 11,
     "metadata": {},
     "output_type": "execute_result"
    }
   ],
   "source": [
    "b + 4"
   ]
  },
  {
   "cell_type": "code",
   "execution_count": 12,
   "id": "1d882031-cc4d-4afb-8686-536d6f60a6bd",
   "metadata": {},
   "outputs": [],
   "source": [
    "# output values"
   ]
  },
  {
   "cell_type": "code",
   "execution_count": 13,
   "id": "6437a3ea-ce78-475f-9712-4678fff0a8cf",
   "metadata": {},
   "outputs": [
    {
     "name": "stdout",
     "output_type": "stream",
     "text": [
      "This is a message\n"
     ]
    }
   ],
   "source": [
    "print(\"This is a message\")"
   ]
  },
  {
   "cell_type": "code",
   "execution_count": 14,
   "id": "f73d44a8-3877-4e4e-a27b-f62251c1d97c",
   "metadata": {},
   "outputs": [
    {
     "name": "stdout",
     "output_type": "stream",
     "text": [
      "Message 100 1.4564\n"
     ]
    }
   ],
   "source": [
    "print(\"Message\", a, b)"
   ]
  },
  {
   "cell_type": "code",
   "execution_count": 19,
   "id": "dbdb7764-ac5a-4b2c-a4ad-46a0844bed57",
   "metadata": {},
   "outputs": [
    {
     "name": "stdout",
     "output_type": "stream",
     "text": [
      "100 1.46 are input numbers\n"
     ]
    }
   ],
   "source": [
    "print(\"%d %.2f are input numbers\" % (int(a), b))"
   ]
  },
  {
   "cell_type": "code",
   "execution_count": null,
   "id": "089e3738-2ae1-438f-b197-e7f61fb384d8",
   "metadata": {},
   "outputs": [],
   "source": []
  }
 ],
 "metadata": {
  "kernelspec": {
   "display_name": "Python 3 (ipykernel)",
   "language": "python",
   "name": "python3"
  },
  "language_info": {
   "codemirror_mode": {
    "name": "ipython",
    "version": 3
   },
   "file_extension": ".py",
   "mimetype": "text/x-python",
   "name": "python",
   "nbconvert_exporter": "python",
   "pygments_lexer": "ipython3",
   "version": "3.11.7"
  }
 },
 "nbformat": 4,
 "nbformat_minor": 5
}
