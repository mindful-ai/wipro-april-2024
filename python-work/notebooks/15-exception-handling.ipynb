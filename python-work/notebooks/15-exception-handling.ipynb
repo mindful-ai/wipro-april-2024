{
 "cells": [
  {
   "cell_type": "markdown",
   "id": "119f9584-0154-482d-86c3-de6c756a0eaf",
   "metadata": {},
   "source": [
    "# Exception Handling"
   ]
  },
  {
   "cell_type": "markdown",
   "id": "3430849f-7ade-4ca0-93b1-ed5ce00f2f17",
   "metadata": {},
   "source": [
    "### 15.1 Kinds of Exceptions in python"
   ]
  },
  {
   "cell_type": "code",
   "execution_count": 1,
   "id": "769e8e63-ce7a-4d81-b2db-250cb3640b63",
   "metadata": {},
   "outputs": [
    {
     "ename": "ZeroDivisionError",
     "evalue": "division by zero",
     "output_type": "error",
     "traceback": [
      "\u001b[1;31m---------------------------------------------------------------------------\u001b[0m",
      "\u001b[1;31mZeroDivisionError\u001b[0m                         Traceback (most recent call last)",
      "Cell \u001b[1;32mIn[1], line 1\u001b[0m\n\u001b[1;32m----> 1\u001b[0m \u001b[38;5;241m5\u001b[39m\u001b[38;5;241m/\u001b[39m\u001b[38;5;241m0\u001b[39m\n",
      "\u001b[1;31mZeroDivisionError\u001b[0m: division by zero"
     ]
    }
   ],
   "source": [
    "5/0"
   ]
  },
  {
   "cell_type": "code",
   "execution_count": 2,
   "id": "ac08e51c-d597-4996-a070-a59a27bbca24",
   "metadata": {},
   "outputs": [
    {
     "ename": "FileNotFoundError",
     "evalue": "[Errno 2] No such file or directory: 'xya123'",
     "output_type": "error",
     "traceback": [
      "\u001b[1;31m---------------------------------------------------------------------------\u001b[0m",
      "\u001b[1;31mFileNotFoundError\u001b[0m                         Traceback (most recent call last)",
      "Cell \u001b[1;32mIn[2], line 1\u001b[0m\n\u001b[1;32m----> 1\u001b[0m \u001b[38;5;28mopen\u001b[39m(\u001b[38;5;124m'\u001b[39m\u001b[38;5;124mxya123\u001b[39m\u001b[38;5;124m'\u001b[39m)\n",
      "File \u001b[1;32m~\\anaconda3\\Lib\\site-packages\\IPython\\core\\interactiveshell.py:310\u001b[0m, in \u001b[0;36m_modified_open\u001b[1;34m(file, *args, **kwargs)\u001b[0m\n\u001b[0;32m    303\u001b[0m \u001b[38;5;28;01mif\u001b[39;00m file \u001b[38;5;129;01min\u001b[39;00m {\u001b[38;5;241m0\u001b[39m, \u001b[38;5;241m1\u001b[39m, \u001b[38;5;241m2\u001b[39m}:\n\u001b[0;32m    304\u001b[0m     \u001b[38;5;28;01mraise\u001b[39;00m \u001b[38;5;167;01mValueError\u001b[39;00m(\n\u001b[0;32m    305\u001b[0m         \u001b[38;5;124mf\u001b[39m\u001b[38;5;124m\"\u001b[39m\u001b[38;5;124mIPython won\u001b[39m\u001b[38;5;124m'\u001b[39m\u001b[38;5;124mt let you open fd=\u001b[39m\u001b[38;5;132;01m{\u001b[39;00mfile\u001b[38;5;132;01m}\u001b[39;00m\u001b[38;5;124m by default \u001b[39m\u001b[38;5;124m\"\u001b[39m\n\u001b[0;32m    306\u001b[0m         \u001b[38;5;124m\"\u001b[39m\u001b[38;5;124mas it is likely to crash IPython. If you know what you are doing, \u001b[39m\u001b[38;5;124m\"\u001b[39m\n\u001b[0;32m    307\u001b[0m         \u001b[38;5;124m\"\u001b[39m\u001b[38;5;124myou can use builtins\u001b[39m\u001b[38;5;124m'\u001b[39m\u001b[38;5;124m open.\u001b[39m\u001b[38;5;124m\"\u001b[39m\n\u001b[0;32m    308\u001b[0m     )\n\u001b[1;32m--> 310\u001b[0m \u001b[38;5;28;01mreturn\u001b[39;00m io_open(file, \u001b[38;5;241m*\u001b[39margs, \u001b[38;5;241m*\u001b[39m\u001b[38;5;241m*\u001b[39mkwargs)\n",
      "\u001b[1;31mFileNotFoundError\u001b[0m: [Errno 2] No such file or directory: 'xya123'"
     ]
    }
   ],
   "source": [
    "open('xya123')"
   ]
  },
  {
   "cell_type": "code",
   "execution_count": 3,
   "id": "108d1bb3-d9c7-47f0-af0c-fc822d2da899",
   "metadata": {},
   "outputs": [
    {
     "ename": "KeyError",
     "evalue": "'name'",
     "output_type": "error",
     "traceback": [
      "\u001b[1;31m---------------------------------------------------------------------------\u001b[0m",
      "\u001b[1;31mKeyError\u001b[0m                                  Traceback (most recent call last)",
      "Cell \u001b[1;32mIn[3], line 2\u001b[0m\n\u001b[0;32m      1\u001b[0m D \u001b[38;5;241m=\u001b[39m {}\n\u001b[1;32m----> 2\u001b[0m D[\u001b[38;5;124m'\u001b[39m\u001b[38;5;124mname\u001b[39m\u001b[38;5;124m'\u001b[39m]\n",
      "\u001b[1;31mKeyError\u001b[0m: 'name'"
     ]
    }
   ],
   "source": [
    "D = {}\n",
    "D['name']"
   ]
  },
  {
   "cell_type": "code",
   "execution_count": 4,
   "id": "e7d14adf-f8ac-4413-a404-5eb316639129",
   "metadata": {},
   "outputs": [
    {
     "ename": "AttributeError",
     "evalue": "'list' object has no attribute 'isdigit'",
     "output_type": "error",
     "traceback": [
      "\u001b[1;31m---------------------------------------------------------------------------\u001b[0m",
      "\u001b[1;31mAttributeError\u001b[0m                            Traceback (most recent call last)",
      "Cell \u001b[1;32mIn[4], line 2\u001b[0m\n\u001b[0;32m      1\u001b[0m L \u001b[38;5;241m=\u001b[39m []\n\u001b[1;32m----> 2\u001b[0m L\u001b[38;5;241m.\u001b[39misdigit()\n",
      "\u001b[1;31mAttributeError\u001b[0m: 'list' object has no attribute 'isdigit'"
     ]
    }
   ],
   "source": [
    "L = []\n",
    "L.isdigit()"
   ]
  },
  {
   "cell_type": "code",
   "execution_count": 5,
   "id": "395656b4-700d-45f7-bc88-8d422e41dceb",
   "metadata": {},
   "outputs": [
    {
     "ename": "TypeError",
     "evalue": "can only concatenate str (not \"int\") to str",
     "output_type": "error",
     "traceback": [
      "\u001b[1;31m---------------------------------------------------------------------------\u001b[0m",
      "\u001b[1;31mTypeError\u001b[0m                                 Traceback (most recent call last)",
      "Cell \u001b[1;32mIn[5], line 1\u001b[0m\n\u001b[1;32m----> 1\u001b[0m \u001b[38;5;124m'\u001b[39m\u001b[38;5;124mabc\u001b[39m\u001b[38;5;124m'\u001b[39m \u001b[38;5;241m+\u001b[39m \u001b[38;5;241m19\u001b[39m\n",
      "\u001b[1;31mTypeError\u001b[0m: can only concatenate str (not \"int\") to str"
     ]
    }
   ],
   "source": [
    "'abc' + 19"
   ]
  },
  {
   "cell_type": "markdown",
   "id": "77d97966-e540-4d26-a9bd-5a1f79825401",
   "metadata": {},
   "source": [
    "### 15.2 Exception Handler"
   ]
  },
  {
   "cell_type": "code",
   "execution_count": 6,
   "id": "3960c894-f4eb-4828-9776-39ede3c1a543",
   "metadata": {},
   "outputs": [
    {
     "name": "stdout",
     "output_type": "stream",
     "text": [
      "You cannot divide by zero\n"
     ]
    }
   ],
   "source": [
    "try:\n",
    "    y = 5/0\n",
    "except:\n",
    "    print(\"You cannot divide by zero\")"
   ]
  },
  {
   "cell_type": "code",
   "execution_count": 7,
   "id": "f04db189-2080-40b5-b458-009b591ac4db",
   "metadata": {},
   "outputs": [
    {
     "name": "stdout",
     "output_type": "stream",
     "text": [
      "You cannot divide by zero\n",
      "division by zero\n"
     ]
    }
   ],
   "source": [
    "try:\n",
    "    y = 5/0\n",
    "except Exception as  E:\n",
    "    print(\"You cannot divide by zero\")\n",
    "    print(E)"
   ]
  },
  {
   "cell_type": "code",
   "execution_count": 10,
   "id": "6c8fbb74-dc99-4c75-8f65-85eb5c73eec5",
   "metadata": {},
   "outputs": [
    {
     "name": "stdout",
     "output_type": "stream",
     "text": [
      "Some other exception occured\n"
     ]
    }
   ],
   "source": [
    "try:\n",
    "    D = {}\n",
    "    y = 5/1\n",
    "    #a = open(\"red\")\n",
    "    print(D['name'])\n",
    "except ZeroDivisionError:\n",
    "    print(\"You cannot divide by zero\")\n",
    "except FileNotFoundError:\n",
    "    print(\"File does not exist\")\n",
    "except:\n",
    "    print(\"Some other exception occured\")"
   ]
  },
  {
   "cell_type": "code",
   "execution_count": 12,
   "id": "b2b96d6a-86ee-47d5-9537-7709fd476e15",
   "metadata": {},
   "outputs": [
    {
     "name": "stdout",
     "output_type": "stream",
     "text": [
      "0\n",
      "No exceptions occured\n",
      "Thank you!\n"
     ]
    }
   ],
   "source": [
    "try:\n",
    "    D = {'name':0}\n",
    "    y = 5/1\n",
    "    #a = open(\"red\")\n",
    "    print(D['name'])\n",
    "except ZeroDivisionError:\n",
    "    print(\"You cannot divide by zero\")\n",
    "except FileNotFoundError:\n",
    "    print(\"File does not exist\")\n",
    "except:\n",
    "    print(\"Some other exception occured\")\n",
    "else:\n",
    "    D['name'] = \"Raj\"\n",
    "    print(\"No exceptions occured\")\n",
    "finally:\n",
    "    print(\"Thank you!\")"
   ]
  },
  {
   "cell_type": "code",
   "execution_count": 13,
   "id": "bd6622a7-17c7-48e6-b07e-d3ad7ffa7e48",
   "metadata": {},
   "outputs": [
    {
     "name": "stdout",
     "output_type": "stream",
     "text": [
      "You cannot divide by zero\n",
      "Thank you!\n"
     ]
    }
   ],
   "source": [
    "try:\n",
    "    D = {'name':0}\n",
    "    y = 5/0\n",
    "    #a = open(\"red\")\n",
    "    print(D['name'])\n",
    "except ZeroDivisionError:\n",
    "    print(\"You cannot divide by zero\")\n",
    "except FileNotFoundError:\n",
    "    print(\"File does not exist\")\n",
    "except:\n",
    "    print(\"Some other exception occured\")\n",
    "else:\n",
    "    D['name'] = \"Raj\"\n",
    "    print(\"No exceptions occured\")\n",
    "finally:\n",
    "    print(\"Thank you!\")"
   ]
  },
  {
   "cell_type": "markdown",
   "id": "a198fdf5-769f-46ad-bfe3-957a521f7383",
   "metadata": {},
   "source": [
    "### 15.3 Defining Custom Exceptions"
   ]
  },
  {
   "cell_type": "code",
   "execution_count": 14,
   "id": "5be2af88-eba4-425e-ba12-f555c308941f",
   "metadata": {},
   "outputs": [],
   "source": [
    "class NegativeNumber(Exception):\n",
    "    def __init__(self, message):\n",
    "        super().__init__(message)"
   ]
  },
  {
   "cell_type": "code",
   "execution_count": 15,
   "id": "657f4dfd-04ad-4fbb-b21d-9bc929213368",
   "metadata": {},
   "outputs": [],
   "source": [
    "def factorial(n):\n",
    "    if(n <= 0):\n",
    "        raise NegativeNumber(\"Negative Numbers cannot be used for factorial\")\n",
    "    else:\n",
    "        if n == 1:\n",
    "            return 1\n",
    "        else:\n",
    "            return n * factorial(n - 1)"
   ]
  },
  {
   "cell_type": "code",
   "execution_count": 16,
   "id": "83a7d3d1-5ea0-491c-afba-29b8e4de4e64",
   "metadata": {},
   "outputs": [
    {
     "data": {
      "text/plain": [
       "120"
      ]
     },
     "execution_count": 16,
     "metadata": {},
     "output_type": "execute_result"
    }
   ],
   "source": [
    "factorial(5)"
   ]
  },
  {
   "cell_type": "code",
   "execution_count": 17,
   "id": "1837c119-e12b-47c0-b578-3bb306fe7dff",
   "metadata": {},
   "outputs": [
    {
     "ename": "NegativeNumber",
     "evalue": "Negative Numbers cannot be used for factorial",
     "output_type": "error",
     "traceback": [
      "\u001b[1;31m---------------------------------------------------------------------------\u001b[0m",
      "\u001b[1;31mNegativeNumber\u001b[0m                            Traceback (most recent call last)",
      "Cell \u001b[1;32mIn[17], line 1\u001b[0m\n\u001b[1;32m----> 1\u001b[0m factorial(\u001b[38;5;241m-\u001b[39m\u001b[38;5;241m3\u001b[39m)\n",
      "Cell \u001b[1;32mIn[15], line 3\u001b[0m, in \u001b[0;36mfactorial\u001b[1;34m(n)\u001b[0m\n\u001b[0;32m      1\u001b[0m \u001b[38;5;28;01mdef\u001b[39;00m \u001b[38;5;21mfactorial\u001b[39m(n):\n\u001b[0;32m      2\u001b[0m     \u001b[38;5;28;01mif\u001b[39;00m(n \u001b[38;5;241m<\u001b[39m\u001b[38;5;241m=\u001b[39m \u001b[38;5;241m0\u001b[39m):\n\u001b[1;32m----> 3\u001b[0m         \u001b[38;5;28;01mraise\u001b[39;00m NegativeNumber(\u001b[38;5;124m\"\u001b[39m\u001b[38;5;124mNegative Numbers cannot be used for factorial\u001b[39m\u001b[38;5;124m\"\u001b[39m)\n\u001b[0;32m      4\u001b[0m     \u001b[38;5;28;01melse\u001b[39;00m:\n\u001b[0;32m      5\u001b[0m         \u001b[38;5;28;01mif\u001b[39;00m n \u001b[38;5;241m==\u001b[39m \u001b[38;5;241m1\u001b[39m:\n",
      "\u001b[1;31mNegativeNumber\u001b[0m: Negative Numbers cannot be used for factorial"
     ]
    }
   ],
   "source": [
    "factorial(-3)"
   ]
  },
  {
   "cell_type": "code",
   "execution_count": 18,
   "id": "76535f79-f746-4abd-92fc-07b1df0ced8d",
   "metadata": {},
   "outputs": [
    {
     "name": "stdout",
     "output_type": "stream",
     "text": [
      "Negative Numbers cannot be used for factorial\n"
     ]
    }
   ],
   "source": [
    "try:\n",
    "    factorial(-3)\n",
    "except Exception as E:\n",
    "    print(E)"
   ]
  },
  {
   "cell_type": "markdown",
   "id": "a0ba2efd-c11a-4bfa-b63e-6798ca26f855",
   "metadata": {},
   "source": [
    "##### Quick Test:"
   ]
  },
  {
   "cell_type": "markdown",
   "id": "d89daf01-dc8f-4d1d-a780-a585cbc55ef4",
   "metadata": {},
   "source": [
    "##### List all the built-in python exceptions"
   ]
  },
  {
   "cell_type": "markdown",
   "id": "23ed0bf7-5b27-4c2f-b570-ac308b630b20",
   "metadata": {},
   "source": []
  },
  {
   "cell_type": "code",
   "execution_count": null,
   "id": "0626c263-5255-4650-87ae-3034d0e33733",
   "metadata": {},
   "outputs": [],
   "source": []
  }
 ],
 "metadata": {
  "kernelspec": {
   "display_name": "Python 3 (ipykernel)",
   "language": "python",
   "name": "python3"
  },
  "language_info": {
   "codemirror_mode": {
    "name": "ipython",
    "version": 3
   },
   "file_extension": ".py",
   "mimetype": "text/x-python",
   "name": "python",
   "nbconvert_exporter": "python",
   "pygments_lexer": "ipython3",
   "version": "3.11.7"
  }
 },
 "nbformat": 4,
 "nbformat_minor": 5
}
